{
 "cells": [
  {
   "cell_type": "markdown",
   "metadata": {},
   "source": [
    "<div class=\"clearfix\" style=\"padding: 10px; padding-left: 0px\">\n",
    "<img src=\"https://www.raspberrypi.org/documentation/usage/python/images/python-logo.png\" class=\"pull-left\" style=\"display: block; height: 60px; margin: 0; margin-top: 20px\"><img src=\"http://www.utec.edu.pe/sites/default/files//logo_0.png\" class=\"pull-right\"  style=\"display: block; height: 60px; margin-right: 50px\">\n",
    "</div>"
   ]
  },
  {
   "cell_type": "markdown",
   "metadata": {},
   "source": [
    "<h1 style=\"text-align:center\">Teoría Molecular Orgánica con Python: <br/>Un enfoque Interactivo</h1>"
   ]
  },
  {
   "cell_type": "markdown",
   "metadata": {},
   "source": [
    "<div style=\"text-align:center\">\n",
    "<strong>Por <br/>Piero Beraún Gasco</strong><br/><code>piero.beraun@utec.edu.pe<br/></code><br/> <strong> Jorge L. Rios Agurto<br/> </strong><code>jorge.rios.a@utec.edu.pe</code><br/><br/>\n",
    "\n",
    "<em>Introducción a la Ciencia de la Computación</em><br/>\n",
    "<em>Universidad de Ingeniería y Tecnología - UTEC</em><br/>\n",
    "</div>"
   ]
  },
  {
   "cell_type": "markdown",
   "metadata": {},
   "source": [
    "<p style=\"text-align:center\">\n",
    "<strong>Resumen</strong>\n",
    "</p>\n",
    "\n",
    "<p style=\"text-align:justify\">\n",
    "<strong>¿Se puede dibujar moléculas con Python? ¿Por qué no?</strong> Las moléculas son objetos pequeños cuyo comportamiento químico está gobernado por leyes físicas (Mecánica Cuántica) y la dinámica entre protones y electrones. Sin embargo, es muy difícil comprender sobre moléculas cuando lo más cercano que vemos son dibujos en la pizarra, probablemente realizados con el mayor cuidado por un docente de Química General. Por ese motivo, decidimos juntar nuestras 2 pasiones: Química y Computación. <strong>¡Lo que logramos es impresionante: <em>Moléculas y Polímeros en 2D y 3D</em></strong>!\n",
    "</p>\n",
    "<p>\n",
    "<em><strong>Frases y palabras clave:</strong> Teoría Molecular, Moléculas, 3D, Pybel, py3Dmol, Python.</em>\n",
    "</p>"
   ]
  },
  {
   "cell_type": "markdown",
   "metadata": {},
   "source": [
    "## 1. Introducción"
   ]
  },
  {
   "cell_type": "markdown",
   "metadata": {},
   "source": [
    "La materia, incluso la que constituye los organismos más complejos, está constituida por combinaciones de elementos. En la Tierra, existen unos 92 elementos. Muchos son muy conocidos, como el carbono, que se encuentra en\n",
    "forma pura en el diamante y en el grafito; el oxígeno, abundante en el aire que respiramos; el calcio, que utilizan muchos organismos para construir conchas, cáscaras de huevo, huesos y dientes, y el hierro, que es el metal responsable del color rojo de nuestra sangre. La partícula más pequeña de un elemento es el átomo, los cuales luegon formarán moléculas."
   ]
  },
  {
   "cell_type": "markdown",
   "metadata": {},
   "source": [
    "### 1.1. Los paquetes de Python que usaremos"
   ]
  },
  {
   "cell_type": "markdown",
   "metadata": {},
   "source": [
    "#### 1.1.1. Pybel"
   ]
  },
  {
   "cell_type": "markdown",
   "metadata": {},
   "source": [
    "Pybel ofrece funciones y propiedades que simplifican el uso de las bibliotecas de Open Babel para Python, especialmente para la entrada y/o salida de archivos y para acceder a los atributos de átomos y moléculas, por ejemplo: <em>Masa atómica, Número atómico, Coordenadas del Átomo, Peso Molecular, Formula Global, etc</em>."
   ]
  },
  {
   "cell_type": "code",
   "execution_count": 2,
   "metadata": {
    "collapsed": true
   },
   "outputs": [],
   "source": [
    "import pybel\n",
    "from pybel import readstring as rs"
   ]
  },
  {
   "cell_type": "markdown",
   "metadata": {},
   "source": [
    "#### 1.1.2. Py3Dmol"
   ]
  },
  {
   "cell_type": "markdown",
   "metadata": {},
   "source": [
    "Py3Dmol es un paquete para la visualización molecular libre de dependencias. Las visualizaciones funcionarán en cualquier navegador moderno usando WebGL."
   ]
  },
  {
   "cell_type": "code",
   "execution_count": 3,
   "metadata": {
    "collapsed": true
   },
   "outputs": [],
   "source": [
    "import py3Dmol"
   ]
  },
  {
   "cell_type": "markdown",
   "metadata": {},
   "source": [
    "## 2. Átomos"
   ]
  },
  {
   "cell_type": "markdown",
   "metadata": {},
   "source": [
    "Con base en la teoría atómica de Dalton, un átomo puede definirse como la <strong>unidad básica de un elemento que puede entrar en combinación química</strong>. Dalton imaginó un átomo como una partícula extremadamente pequeña e indivisible. Sin embargo, una serie de investigaciones que empezaron en la década de 1850 y se extendieron hasta el siglo XX demostraron claramente que los átomos en realidad poseen estructura interna; es decir, están formados por partículas aún más pequeñas, llamadas partículas subatómicas. La investigación condujo al descubrimiento de tres de esas partículas: electrones, protones y neutrones. "
   ]
  },
  {
   "cell_type": "code",
   "execution_count": 4,
   "metadata": {},
   "outputs": [
    {
     "name": "stdout",
     "output_type": "stream",
     "text": [
      "2\n"
     ]
    },
    {
     "data": {
      "image/svg+xml": [
       "<svg xmlns=\"http://www.w3.org/2000/svg\" font-family=\"sans-serif\" height=\"100\" stroke=\"rgb(0,0,0)\" stroke-linecap=\"round\" stroke-width=\"2\" viewBox=\"0 0 80 80\" width=\"100\" x=\"0\" y=\"0\">\n",
       "<text fill=\"rgb(30,239,30)\" font-size=\"16\" stroke=\"rgb(30,239,30)\" stroke-width=\"1\" x=\"44.8\" y=\"35.968\" />\n",
       "<text fill=\"rgb(30,239,30)\" font-size=\"32\" stroke=\"rgb(30,239,30)\" stroke-width=\"1\" x=\"44.8\" y=\"35.968\">.</text>\n",
       "<text fill=\"rgb(30,239,30)\" font-size=\"16\" stroke=\"rgb(30,239,30)\" stroke-width=\"1\" x=\"34\" y=\"48\">Cl</text>\n",
       "</svg>\n"
      ],
      "text/plain": [
       "<pybel.Molecule at 0x7f51b0017c88>"
      ]
     },
     "execution_count": 4,
     "metadata": {},
     "output_type": "execute_result"
    }
   ],
   "source": [
    "atoms_list = [\"[C]\", \"[Br]\", \"[Cl]\", \"[N]\", \"[O]\"]\n",
    "n = int(input())\n",
    "atom = atoms_list[n]\n",
    "atom = rs(\"smi\", atom)\n",
    "atom"
   ]
  },
  {
   "cell_type": "markdown",
   "metadata": {},
   "source": [
    "## 3. Enlaces Quimicos"
   ]
  },
  {
   "cell_type": "markdown",
   "metadata": {},
   "source": [
    "La Química del carbono es la parte de la química que estudia sustancias compuestas casi en su totalidad de carbono e hidrógeno, y que a veces contienen pequeñas cantidades de otros elementos, como oxígeno, notrógeno, azufre o halógenos. Estos compuestos se denominan compuestos orgánicos porque se encuentran sobre todo en los seres vivos, y la parte de la Química que se ocupa de su estudio se denomina Química Orgánica.\n",
    "\n",
    "El carbono tiene un número atómico de seis, lo que significa que teine seis protones en el núcleo y seis electrones en la corteza, que se distribuyen en dos electrones en la primera capa y cuatro en la segunda. Por tanto, el átomo de carbono puede formar cuatro enlaces covalentes para completar los ocho electrones de su capa más externa. Estos enlaces pueden ser de tres tipos: enlace simple, enlace doble y enlace triple."
   ]
  },
  {
   "cell_type": "markdown",
   "metadata": {},
   "source": [
    "### 3.1. Enlace Simple"
   ]
  },
  {
   "cell_type": "markdown",
   "metadata": {},
   "source": [
    "Es la manera más sencilla en la que el carbono comparte sus cuatro electrones. Los enlaces se colocan apuntando a los cuatro vértices de un tetraedro regular, estando el carbono en el baricentro de dicho tetraedro. Se dice que el carbono actúa de manera tetragonal.\n",
    "\n",
    "El ejemplo más simple lo representa el metano, en el que un átomo de carbono comparte cada uno de sus cuatro electrones exteriores con un átomo de hidrógeno, de modo que tanto el carbono como cada uno de los cuatro hidrógenos completan su última capa electrónica."
   ]
  },
  {
   "cell_type": "code",
   "execution_count": 5,
   "metadata": {},
   "outputs": [
    {
     "data": {
      "image/svg+xml": [
       "<svg xmlns=\"http://www.w3.org/2000/svg\" font-family=\"sans-serif\" height=\"100\" stroke=\"rgb(0,0,0)\" stroke-linecap=\"round\" stroke-width=\"2\" viewBox=\"0 0 80 80\" width=\"100\" x=\"0\" y=\"0\">\n",
       "<text fill=\"rgb(102,102,102)\" font-size=\"16\" stroke=\"rgb(102,102,102)\" stroke-width=\"1\" x=\"36\" y=\"48\">CH</text>\n",
       "<text fill=\"rgb(102,102,102)\" font-size=\"13\" stroke=\"rgb(102,102,102)\" stroke-width=\"1\" x=\"60\" y=\"51.68\">4</text>\n",
       "</svg>\n"
      ],
      "text/plain": [
       "<pybel.Molecule at 0x7f51b0017a90>"
      ]
     },
     "execution_count": 5,
     "metadata": {},
     "output_type": "execute_result"
    }
   ],
   "source": [
    "mol = \"C\"\n",
    "mol = rs(\"smi\", mol)\n",
    "mol"
   ]
  },
  {
   "cell_type": "code",
   "execution_count": 6,
   "metadata": {},
   "outputs": [
    {
     "data": {
      "text/html": [
       "<div id=\"molecule_3a3d49f1-91f3-4800-be52-e0b7cc178b7f\"></div>\n",
       "           <script type=\"text/javascript\">\n",
       "           require.config({baseUrl: '/',\n",
       "                           paths: {imolecule: ['nbextensions/imolecule.min', 'https://rawgit.com/patrickfuller/imolecule/master/imolecule/js/build/imolecule.min']}});\n",
       "           require(['imolecule'], function () {\n",
       "               var $d = $('#molecule_3a3d49f1-91f3-4800-be52-e0b7cc178b7f');\n",
       "               $d.width(400); $d.height(300);\n",
       "               $d.imolecule = jQuery.extend({}, imolecule);\n",
       "               $d.imolecule.create($d, {drawingType: 'ball and stick',\n",
       "                                        cameraType: 'perspective',\n",
       "                                        shader: 'lambert',\n",
       "                                        showSave: false});\n",
       "               $d.imolecule.addElements({});\n",
       "               $d.imolecule.draw({\"atoms\":[{\"charge\":-0.07759575342289189,\"element\":\"C\",\"location\":[8.999475165083481e-09,-2.1553148814301704e-09,-2.536154435073268e-08]},{\"charge\":0.019398938355722966,\"element\":\"H\",\"location\":[1.0921993935148975,1.6474983614775396e-06,1.4656029967913611e-06]},{\"charge\":0.019398938355722966,\"element\":\"H\",\"location\":[-0.36406449240780026,-0.9321603092074158,-0.43753139145135206]},{\"charge\":0.019398938355722966,\"element\":\"H\",\"location\":[-0.364066970934405,0.8449922375955248,-0.5885090265054325]},{\"charge\":0.019398938355722966,\"element\":\"H\",\"location\":[-0.3640679391721673,0.08716642626884438,1.026038977715332]}],\"bonds\":[{\"atoms\":[0,1],\"order\":1},{\"atoms\":[0,2],\"order\":1},{\"atoms\":[0,3],\"order\":1},{\"atoms\":[0,4],\"order\":1}],\"formula\":\"CH4\",\"molecular_weight\":16.04246,\"units\":{\"molecular_weight\":\"g / mol\"}});\n",
       "\n",
       "               $d.resizable({\n",
       "                   aspectRatio: 400 / 300,\n",
       "                   resize: function (evt, ui) {\n",
       "                       $d.imolecule.renderer.setSize(ui.size.width,\n",
       "                                                     ui.size.height);\n",
       "                   }\n",
       "               });\n",
       "           });\n",
       "           </script>"
      ],
      "text/plain": [
       "<pybel.Molecule at 0x7f51b0017a90>"
      ]
     },
     "execution_count": 6,
     "metadata": {},
     "output_type": "execute_result"
    }
   ],
   "source": [
    "mol.make3D()\n",
    "pybel.ipython_3d = True\n",
    "mol"
   ]
  },
  {
   "cell_type": "code",
   "execution_count": 7,
   "metadata": {
    "collapsed": true
   },
   "outputs": [],
   "source": [
    "pybel.ipython_3d = False"
   ]
  },
  {
   "cell_type": "markdown",
   "metadata": {},
   "source": [
    "Pero el átomo de carbono puede formar enlaces con otros átomos de carbono, originando cadenas que pueden ser larguísimas. El ejemplo más simple de esto es un átomo de carbono que se une a tres hidrógenos y a otro carbono, que a su vez se une a otros tres hidrógenos. En este compuesto, de nombre etano, los dos carbonos actúan de forma tetragonal."
   ]
  },
  {
   "cell_type": "code",
   "execution_count": 8,
   "metadata": {},
   "outputs": [
    {
     "data": {
      "image/svg+xml": [
       "<svg xmlns=\"http://www.w3.org/2000/svg\" font-family=\"sans-serif\" height=\"100\" stroke=\"rgb(0,0,0)\" stroke-linecap=\"round\" stroke-width=\"2\" viewBox=\"0 0 120 80\" width=\"100\" x=\"0\" y=\"0\">\n",
       "<line stroke=\"rgb(0,0,0)\" stroke-width=\"2.0\" x1=\"67.0\" x2=\"53.0\" y1=\"40.0\" y2=\"40.0\" />\n",
       "<text fill=\"rgb(102,102,102)\" font-size=\"16\" stroke=\"rgb(102,102,102)\" stroke-width=\"1\" x=\"76.000000\" y=\"48.000000\">CH</text>\n",
       "<text fill=\"rgb(102,102,102)\" font-size=\"13\" stroke=\"rgb(102,102,102)\" stroke-width=\"1\" x=\"100.000000\" y=\"51.680000\">3</text>\n",
       "<text fill=\"rgb(102,102,102)\" font-size=\"16\" stroke=\"rgb(102,102,102)\" stroke-width=\"1\" x=\"14.000000\" y=\"48.000000\">H</text>\n",
       "<text fill=\"rgb(102,102,102)\" font-size=\"13\" stroke=\"rgb(102,102,102)\" stroke-width=\"1\" x=\"26.000000\" y=\"51.680000\">3</text>\n",
       "<text fill=\"rgb(102,102,102)\" font-size=\"16\" stroke=\"rgb(102,102,102)\" stroke-width=\"1\" x=\"32.500000\" y=\"48.000000\">C</text>\n",
       "</svg>\n"
      ],
      "text/plain": [
       "<pybel.Molecule at 0x7f51b0017b00>"
      ]
     },
     "execution_count": 8,
     "metadata": {},
     "output_type": "execute_result"
    }
   ],
   "source": [
    "mol = \"CC\"\n",
    "mol = rs(\"smi\", mol)\n",
    "mol"
   ]
  },
  {
   "cell_type": "code",
   "execution_count": 9,
   "metadata": {},
   "outputs": [
    {
     "data": {
      "text/html": [
       "<div id=\"molecule_e420ac08-5f52-4e79-b639-8e1e6290b013\"></div>\n",
       "           <script type=\"text/javascript\">\n",
       "           require.config({baseUrl: '/',\n",
       "                           paths: {imolecule: ['nbextensions/imolecule.min', 'https://rawgit.com/patrickfuller/imolecule/master/imolecule/js/build/imolecule.min']}});\n",
       "           require(['imolecule'], function () {\n",
       "               var $d = $('#molecule_e420ac08-5f52-4e79-b639-8e1e6290b013');\n",
       "               $d.width(400); $d.height(300);\n",
       "               $d.imolecule = jQuery.extend({}, imolecule);\n",
       "               $d.imolecule.create($d, {drawingType: 'ball and stick',\n",
       "                                        cameraType: 'perspective',\n",
       "                                        shader: 'lambert',\n",
       "                                        showSave: false});\n",
       "               $d.imolecule.addElements({});\n",
       "               $d.imolecule.draw({\"atoms\":[{\"charge\":-0.06814417567932447,\"element\":\"C\",\"location\":[-0.7560280378053915,8.327243145450636e-07,-1.5351857956744097e-07]},{\"charge\":-0.06814417567932447,\"element\":\"C\",\"location\":[0.7560280378053919,-8.300784590242749e-07,1.6723483555261542e-07]},{\"charge\":0.022714725226441496,\"element\":\"H\",\"location\":[-1.1403940416820377,-0.6709264354141969,-0.7740412905940115]},{\"charge\":0.022714725226441496,\"element\":\"H\",\"location\":[-1.1403940789193021,1.00580174102511,-0.19401834018748235]},{\"charge\":0.022714725226441496,\"element\":\"H\",\"location\":[-1.1403940817864482,-0.33487654340713807,0.9680598624381395]},{\"charge\":0.022714725226441496,\"element\":\"H\",\"location\":[1.1403940416820388,0.33487642442931115,-0.9680599060200211]},{\"charge\":0.022714725226441496,\"element\":\"H\",\"location\":[1.1403940789193023,-1.005801718923634,0.19401845476271481]},{\"charge\":0.022714725226441496,\"element\":\"H\",\"location\":[1.140394081786447,0.670926529644692,0.7740412058844048]}],\"bonds\":[{\"atoms\":[0,1],\"order\":1},{\"atoms\":[0,2],\"order\":1},{\"atoms\":[0,3],\"order\":1},{\"atoms\":[0,4],\"order\":1},{\"atoms\":[1,5],\"order\":1},{\"atoms\":[1,6],\"order\":1},{\"atoms\":[1,7],\"order\":1}],\"formula\":\"C2H6\",\"molecular_weight\":30.069040000000008,\"units\":{\"molecular_weight\":\"g / mol\"}});\n",
       "\n",
       "               $d.resizable({\n",
       "                   aspectRatio: 400 / 300,\n",
       "                   resize: function (evt, ui) {\n",
       "                       $d.imolecule.renderer.setSize(ui.size.width,\n",
       "                                                     ui.size.height);\n",
       "                   }\n",
       "               });\n",
       "           });\n",
       "           </script>"
      ],
      "text/plain": [
       "<pybel.Molecule at 0x7f51b0017b00>"
      ]
     },
     "execution_count": 9,
     "metadata": {},
     "output_type": "execute_result"
    }
   ],
   "source": [
    "mol.make3D()\n",
    "pybel.ipython_3d=True\n",
    "mol"
   ]
  },
  {
   "cell_type": "code",
   "execution_count": 10,
   "metadata": {
    "collapsed": true
   },
   "outputs": [],
   "source": [
    "pybel.ipython_3d=False"
   ]
  },
  {
   "cell_type": "markdown",
   "metadata": {},
   "source": [
    "### 3.2. Enlace Doble"
   ]
  },
  {
   "cell_type": "markdown",
   "metadata": {},
   "source": [
    "El carbono no tiene por qué formar los cuatro enlaces con cuatro átomos distintos. Puede darse el caso de que dos de esos enlaces los forme con un mismo átomo. Hablamos entonces de un enlace doble. Los dos electrones que le quedan al carbono se enlazan con otrs dos átomos mediante enlaces simples. En este caso, el enlace doble y los dos simples apuntan a los vértices de un triángulo casi equilátero. Se dice que el carbono actúa de forma trigonal.\n",
    "\n",
    "El ejemplo más simple es el etileno, en el que los dos carbonos comparten dos electrones entre sí y los otros dos que les quedan a cada uno los comparten con dos átomos de hidrogeno. La estructura es trigonal y plana.o"
   ]
  },
  {
   "cell_type": "code",
   "execution_count": 11,
   "metadata": {},
   "outputs": [
    {
     "data": {
      "image/svg+xml": [
       "<svg xmlns=\"http://www.w3.org/2000/svg\" font-family=\"sans-serif\" height=\"100\" stroke=\"rgb(0,0,0)\" stroke-linecap=\"round\" stroke-width=\"2\" viewBox=\"0 0 120 80\" width=\"100\" x=\"0\" y=\"0\">\n",
       "<line stroke=\"rgb(0,0,0)\" stroke-width=\"2.0\" x1=\"67.0\" x2=\"53.0\" y1=\"43.0\" y2=\"43.0\" />\n",
       "<line stroke=\"rgb(0,0,0)\" stroke-width=\"2.0\" x1=\"67.0\" x2=\"53.0\" y1=\"37.0\" y2=\"37.0\" />\n",
       "<text fill=\"rgb(102,102,102)\" font-size=\"16\" stroke=\"rgb(102,102,102)\" stroke-width=\"1\" x=\"76.000000\" y=\"48.000000\">CH</text>\n",
       "<text fill=\"rgb(102,102,102)\" font-size=\"13\" stroke=\"rgb(102,102,102)\" stroke-width=\"1\" x=\"100.000000\" y=\"51.680000\">2</text>\n",
       "<text fill=\"rgb(102,102,102)\" font-size=\"16\" stroke=\"rgb(102,102,102)\" stroke-width=\"1\" x=\"14.000000\" y=\"48.000000\">H</text>\n",
       "<text fill=\"rgb(102,102,102)\" font-size=\"13\" stroke=\"rgb(102,102,102)\" stroke-width=\"1\" x=\"26.000000\" y=\"51.680000\">2</text>\n",
       "<text fill=\"rgb(102,102,102)\" font-size=\"16\" stroke=\"rgb(102,102,102)\" stroke-width=\"1\" x=\"32.500000\" y=\"48.000000\">C</text>\n",
       "</svg>\n"
      ],
      "text/plain": [
       "<pybel.Molecule at 0x7f517feb76d8>"
      ]
     },
     "execution_count": 11,
     "metadata": {},
     "output_type": "execute_result"
    }
   ],
   "source": [
    "mol = \"C=C\"\n",
    "mol = rs(\"smi\", mol)\n",
    "mol"
   ]
  },
  {
   "cell_type": "code",
   "execution_count": 12,
   "metadata": {},
   "outputs": [
    {
     "data": {
      "text/html": [
       "<div id=\"molecule_d7f7c05b-259f-4307-97da-19d4dacc5673\"></div>\n",
       "           <script type=\"text/javascript\">\n",
       "           require.config({baseUrl: '/',\n",
       "                           paths: {imolecule: ['nbextensions/imolecule.min', 'https://rawgit.com/patrickfuller/imolecule/master/imolecule/js/build/imolecule.min']}});\n",
       "           require(['imolecule'], function () {\n",
       "               var $d = $('#molecule_d7f7c05b-259f-4307-97da-19d4dacc5673');\n",
       "               $d.width(400); $d.height(300);\n",
       "               $d.imolecule = jQuery.extend({}, imolecule);\n",
       "               $d.imolecule.create($d, {drawingType: 'ball and stick',\n",
       "                                        cameraType: 'perspective',\n",
       "                                        shader: 'lambert',\n",
       "                                        showSave: false});\n",
       "               $d.imolecule.addElements({});\n",
       "               $d.imolecule.draw({\"atoms\":[{\"charge\":-0.10581918258723032,\"element\":\"C\",\"location\":[-0.6678949686782181,-2.9967348047499343e-16,-1.6653345369377348e-16]},{\"charge\":-0.10581918258723032,\"element\":\"C\",\"location\":[0.6678949686782187,2.710505431213761e-16,1.249000902703301e-16]},{\"charge\":0.052909591293615166,\"element\":\"H\",\"location\":[-1.2277564134796841,0.8397694981325929,0.39953614082500416]},{\"charge\":0.052909591293615166,\"element\":\"H\",\"location\":[-1.2277564134796841,-0.8397694981325932,-0.3995361408250044]},{\"charge\":0.052909591293615166,\"element\":\"H\",\"location\":[1.2277564134796843,0.8397694981325932,0.3995361408250043]},{\"charge\":0.052909591293615166,\"element\":\"H\",\"location\":[1.2277564134796852,-0.8397694981325927,-0.39953614082500416]}],\"bonds\":[{\"atoms\":[0,1],\"order\":2},{\"atoms\":[0,2],\"order\":1},{\"atoms\":[0,3],\"order\":1},{\"atoms\":[1,4],\"order\":1},{\"atoms\":[1,5],\"order\":1}],\"formula\":\"C2H4\",\"molecular_weight\":28.053160000000005,\"units\":{\"molecular_weight\":\"g / mol\"}});\n",
       "\n",
       "               $d.resizable({\n",
       "                   aspectRatio: 400 / 300,\n",
       "                   resize: function (evt, ui) {\n",
       "                       $d.imolecule.renderer.setSize(ui.size.width,\n",
       "                                                     ui.size.height);\n",
       "                   }\n",
       "               });\n",
       "           });\n",
       "           </script>"
      ],
      "text/plain": [
       "<pybel.Molecule at 0x7f517feb76d8>"
      ]
     },
     "execution_count": 12,
     "metadata": {},
     "output_type": "execute_result"
    }
   ],
   "source": [
    "mol.make3D()\n",
    "pybel.ipython_3d = True\n",
    "mol"
   ]
  },
  {
   "cell_type": "code",
   "execution_count": 13,
   "metadata": {
    "collapsed": true
   },
   "outputs": [],
   "source": [
    "pybel.ipython_3d = False"
   ]
  },
  {
   "cell_type": "markdown",
   "metadata": {},
   "source": [
    "### 3.2. Enlace Triple"
   ]
  },
  {
   "cell_type": "markdown",
   "metadata": {},
   "source": [
    "Por último, puede el carbono formar tres enlaces con un mismo átomo, y el cuarto con un átomo distinto. Se habla entonces de un enlace triple. En este caso la molécula es lineal, y decimos que el carbono actúa de forma lineal.\n",
    "\n",
    "El ejemplo más simple de esto es el acetileno, en el que dos carbonos se unen mediante un enlace triple y el electrón que les queda a cada uno lo comparten con un átomo de hidrógeno. Por supuesto, la molécula es lineal. También puede el carbono formar el enlace triple con otros elementos como el nitrógeno."
   ]
  },
  {
   "cell_type": "code",
   "execution_count": 14,
   "metadata": {},
   "outputs": [
    {
     "data": {
      "image/svg+xml": [
       "<svg xmlns=\"http://www.w3.org/2000/svg\" font-family=\"sans-serif\" height=\"100\" stroke=\"rgb(0,0,0)\" stroke-linecap=\"round\" stroke-width=\"2\" viewBox=\"0 0 120 80\" width=\"100\" x=\"0\" y=\"0\">\n",
       "<line stroke=\"rgb(0,0,0)\" stroke-width=\"2.0\" x1=\"67.0\" x2=\"53.0\" y1=\"40.0\" y2=\"40.0\" />\n",
       "<line stroke=\"rgb(0,0,0)\" stroke-width=\"2.0\" x1=\"67.0\" x2=\"53.0\" y1=\"44.2\" y2=\"44.2\" />\n",
       "<line stroke=\"rgb(0,0,0)\" stroke-width=\"2.0\" x1=\"67.0\" x2=\"53.0\" y1=\"35.8\" y2=\"35.8\" />\n",
       "<text fill=\"rgb(102,102,102)\" font-size=\"16\" stroke=\"rgb(102,102,102)\" stroke-width=\"1\" x=\"74.000000\" y=\"48.000000\">CH</text>\n",
       "<text fill=\"rgb(102,102,102)\" font-size=\"16\" stroke=\"rgb(102,102,102)\" stroke-width=\"1\" x=\"22.000000\" y=\"48.000000\">HC</text>\n",
       "</svg>\n"
      ],
      "text/plain": [
       "<pybel.Molecule at 0x7f517feb7470>"
      ]
     },
     "execution_count": 14,
     "metadata": {},
     "output_type": "execute_result"
    }
   ],
   "source": [
    "mol = \"C#C\"\n",
    "mol = rs(\"smi\", mol)\n",
    "mol"
   ]
  },
  {
   "cell_type": "code",
   "execution_count": 15,
   "metadata": {},
   "outputs": [
    {
     "data": {
      "text/html": [
       "<div id=\"molecule_9d0e0dd4-6cf4-4d12-a332-a22b5bb0577f\"></div>\n",
       "           <script type=\"text/javascript\">\n",
       "           require.config({baseUrl: '/',\n",
       "                           paths: {imolecule: ['nbextensions/imolecule.min', 'https://rawgit.com/patrickfuller/imolecule/master/imolecule/js/build/imolecule.min']}});\n",
       "           require(['imolecule'], function () {\n",
       "               var $d = $('#molecule_9d0e0dd4-6cf4-4d12-a332-a22b5bb0577f');\n",
       "               $d.width(400); $d.height(300);\n",
       "               $d.imolecule = jQuery.extend({}, imolecule);\n",
       "               $d.imolecule.create($d, {drawingType: 'ball and stick',\n",
       "                                        cameraType: 'perspective',\n",
       "                                        shader: 'lambert',\n",
       "                                        showSave: false});\n",
       "               $d.imolecule.addElements({});\n",
       "               $d.imolecule.draw({\"atoms\":[{\"charge\":-0.12253655878121036,\"element\":\"C\",\"location\":[-0.6001511421496071,0.0,0.0]},{\"charge\":-0.12253655878121036,\"element\":\"C\",\"location\":[0.6001511421496071,0.0,0.0]},{\"charge\":0.12253655878121036,\"element\":\"H\",\"location\":[-1.6659551448710914,0.0,0.0]},{\"charge\":0.12253655878121036,\"element\":\"H\",\"location\":[1.6659551448710914,0.0,0.0]}],\"bonds\":[{\"atoms\":[0,1],\"order\":3},{\"atoms\":[0,2],\"order\":1},{\"atoms\":[1,3],\"order\":1}],\"formula\":\"C2H2\",\"molecular_weight\":26.037280000000003,\"units\":{\"molecular_weight\":\"g / mol\"}});\n",
       "\n",
       "               $d.resizable({\n",
       "                   aspectRatio: 400 / 300,\n",
       "                   resize: function (evt, ui) {\n",
       "                       $d.imolecule.renderer.setSize(ui.size.width,\n",
       "                                                     ui.size.height);\n",
       "                   }\n",
       "               });\n",
       "           });\n",
       "           </script>"
      ],
      "text/plain": [
       "<pybel.Molecule at 0x7f517feb7470>"
      ]
     },
     "execution_count": 15,
     "metadata": {},
     "output_type": "execute_result"
    }
   ],
   "source": [
    "mol.make3D()\n",
    "pybel.ipython_3d = True\n",
    "mol"
   ]
  },
  {
   "cell_type": "code",
   "execution_count": 16,
   "metadata": {
    "collapsed": true
   },
   "outputs": [],
   "source": [
    "pybel.ipython_3d = False"
   ]
  },
  {
   "cell_type": "markdown",
   "metadata": {},
   "source": [
    "## 4. Moléculas Orgánicas"
   ]
  },
  {
   "cell_type": "markdown",
   "metadata": {},
   "source": [
    "Compuesto orgánico o molécula orgánica es un compuesto químico, más conocido como micro-molécula o estitula, que contiene carbono, formando enlaces carbono-carbono y carbono-hidrógeno. En muchos casos contienen oxígeno, nitrógeno, azufre, fósforo, boro, halógenos y otros elementos menos frecuentes en su estado natural. Estos compuestos se denominan moléculas orgánicas. Algunos compuestos del carbono, carburos, los carbonatos y los óxidos de carbono, no son moléculas orgánicas. La principal característica de estas sustancias es que arden y pueden ser quemadas (son compuestos combustibles). La mayoría de los compuestos orgánicos se producen de forma artificial mediante síntesis química aunque algunos todavía se extraen de fuentes naturales."
   ]
  },
  {
   "cell_type": "markdown",
   "metadata": {},
   "source": [
    "### 4.1. Compuestos Alifáticos"
   ]
  },
  {
   "cell_type": "markdown",
   "metadata": {},
   "source": [
    "Los hidrocarburos alifáticos son compuestos orgánicos constituidos por carbono e hidrógeno cuyo carácter no es aromático. "
   ]
  },
  {
   "cell_type": "code",
   "execution_count": 17,
   "metadata": {},
   "outputs": [
    {
     "data": {
      "image/svg+xml": [
       "<svg xmlns=\"http://www.w3.org/2000/svg\" font-family=\"sans-serif\" height=\"100\" stroke=\"rgb(0,0,0)\" stroke-linecap=\"round\" stroke-width=\"2\" viewBox=\"0 0 218.564 140\" width=\"100\" x=\"0\" y=\"0\">\n",
       "<line stroke=\"rgb(0,0,0)\" stroke-width=\"2.0\" x1=\"165.8\" x2=\"142.4\" y1=\"56.1\" y2=\"42.6\" />\n",
       "<line stroke=\"rgb(0,0,0)\" stroke-width=\"2.0\" x1=\"168.8\" x2=\"145.4\" y1=\"50.9\" y2=\"37.4\" />\n",
       "<line stroke=\"rgb(0,0,0)\" stroke-width=\"2.0\" x1=\"143.9\" x2=\"109.3\" y1=\"40.0\" y2=\"60.0\" />\n",
       "<line stroke=\"rgb(0,0,0)\" stroke-width=\"2.0\" x1=\"109.3\" x2=\"74.6\" y1=\"60.0\" y2=\"40.0\" />\n",
       "<line stroke=\"rgb(0,0,0)\" stroke-width=\"2.0\" x1=\"74.6\" x2=\"40.0\" y1=\"40.0\" y2=\"60.0\" />\n",
       "<line stroke=\"rgb(0,0,0)\" stroke-width=\"2.0\" x1=\"40.0\" x2=\"40.0\" y1=\"60.0\" y2=\"87.0\" />\n",
       "<line stroke=\"rgb(0,0,0)\" stroke-width=\"2.0\" x1=\"109.3\" x2=\"109.3\" y1=\"60.0\" y2=\"87.0\" />\n",
       "<text fill=\"rgb(102,102,102)\" font-size=\"16\" stroke=\"rgb(102,102,102)\" stroke-width=\"1\" x=\"174.564065\" y=\"68.000000\">CH</text>\n",
       "<text fill=\"rgb(102,102,102)\" font-size=\"13\" stroke=\"rgb(102,102,102)\" stroke-width=\"1\" x=\"198.564065\" y=\"71.680000\">2</text>\n",
       "<text fill=\"rgb(102,102,102)\" font-size=\"16\" stroke=\"rgb(102,102,102)\" stroke-width=\"1\" x=\"36.000000\" y=\"108.000000\">CH</text>\n",
       "<text fill=\"rgb(102,102,102)\" font-size=\"13\" stroke=\"rgb(102,102,102)\" stroke-width=\"1\" x=\"60.000000\" y=\"111.680000\">3</text>\n",
       "<text fill=\"rgb(102,102,102)\" font-size=\"16\" stroke=\"rgb(102,102,102)\" stroke-width=\"1\" x=\"105.282032\" y=\"108.000000\">CH</text>\n",
       "<text fill=\"rgb(102,102,102)\" font-size=\"13\" stroke=\"rgb(102,102,102)\" stroke-width=\"1\" x=\"129.282032\" y=\"111.680000\">3</text>\n",
       "</svg>\n"
      ],
      "text/plain": [
       "<pybel.Molecule at 0x7f517feb7f60>"
      ]
     },
     "execution_count": 17,
     "metadata": {},
     "output_type": "execute_result"
    }
   ],
   "source": [
    "mol = \"C=CC(CCC)C\"\n",
    "mol = rs(\"smi\", mol)\n",
    "mol"
   ]
  },
  {
   "cell_type": "code",
   "execution_count": 18,
   "metadata": {},
   "outputs": [
    {
     "data": {
      "text/html": [
       "<div id=\"molecule_dcd0b83a-b99d-4286-b417-f166cb987be9\"></div>\n",
       "           <script type=\"text/javascript\">\n",
       "           require.config({baseUrl: '/',\n",
       "                           paths: {imolecule: ['nbextensions/imolecule.min', 'https://rawgit.com/patrickfuller/imolecule/master/imolecule/js/build/imolecule.min']}});\n",
       "           require(['imolecule'], function () {\n",
       "               var $d = $('#molecule_dcd0b83a-b99d-4286-b417-f166cb987be9');\n",
       "               $d.width(400); $d.height(300);\n",
       "               $d.imolecule = jQuery.extend({}, imolecule);\n",
       "               $d.imolecule.create($d, {drawingType: 'ball and stick',\n",
       "                                        cameraType: 'perspective',\n",
       "                                        shader: 'lambert',\n",
       "                                        showSave: false});\n",
       "               $d.imolecule.addElements({});\n",
       "               $d.imolecule.draw({\"atoms\":[{\"charge\":-0.10237609277971613,\"element\":\"C\",\"location\":[-1.2675090462947904,-1.4554460099761448,-1.436515675316802]},{\"charge\":-0.08827212053193734,\"element\":\"C\",\"location\":[0.05824313501312206,-1.370218140914834,-1.2268199920252334]},{\"charge\":-0.025994832583903275,\"element\":\"C\",\"location\":[0.8016094541989536,-0.09650499512666899,-0.8706789671577045]},{\"charge\":-0.04727319680411893,\"element\":\"C\",\"location\":[0.4525333885334901,0.43042750146149955,0.5429032282055699]},{\"charge\":-0.055390017562076364,\"element\":\"C\",\"location\":[-1.0298275665278935,0.765910106662625,0.7177604422064092]},{\"charge\":-0.06525861635412371,\"element\":\"C\",\"location\":[-1.3740250058878287,1.2854444409900452,2.09393099966164]},{\"charge\":-0.058963449272264254,\"element\":\"C\",\"location\":[2.3173226778402487,-0.33822632054974944,-0.9473724495789514]},{\"charge\":0.05318289843290197,\"element\":\"H\",\"location\":[-1.7549832604082538,-2.4098376542562066,-1.5922718505614224]},{\"charge\":0.05318289843290197,\"element\":\"H\",\"location\":[-1.9129915510685231,-0.5843266180866321,-1.3944230423401822]},{\"charge\":0.05689839686818767,\"element\":\"H\",\"location\":[0.6374269286220384,-2.2875641661780035,-1.2944136269802569]},{\"charge\":0.03401635723660816,\"element\":\"H\",\"location\":[0.5569938880480101,0.6758590920455942,-1.612487680039838]},{\"charge\":0.027071763630133458,\"element\":\"H\",\"location\":[1.045760974638286,1.332227459602424,0.7451260161837805]},{\"charge\":0.027071763630133458,\"element\":\"H\",\"location\":[0.7463633988053018,-0.3129642333569025,1.295084829104039]},{\"charge\":0.026282142832206472,\"element\":\"H\",\"location\":[-1.6325247112225034,-0.13667014103968889,0.6138931764996154]},{\"charge\":0.026282142832206472,\"element\":\"H\",\"location\":[-1.3448403610033912,1.481725969492827,-0.050781073668461074]},{\"charge\":0.02297773297201106,\"element\":\"H\",\"location\":[-1.1312009273475139,0.5313946798965781,2.8489027312813473]},{\"charge\":0.02297773297201106,\"element\":\"H\",\"location\":[-2.451854719758869,1.4740052425547037,2.1439625924261856]},{\"charge\":0.02297773297201106,\"element\":\"H\",\"location\":[-0.841637080118762,2.2104436498973756,2.3203578124871456]},{\"charge\":0.02353558769227572,\"element\":\"H\",\"location\":[2.6359273244812043,-1.0948506362511934,-0.220172342607032]},{\"charge\":0.02353558769227572,\"element\":\"H\",\"location\":[2.872770134836192,0.5817895622100191,-0.7326337105115285]},{\"charge\":0.02353558769227572,\"element\":\"H\",\"location\":[2.6164429246214933,-0.6826187890776636,-1.9433514172683162]}],\"bonds\":[{\"atoms\":[0,1],\"order\":2},{\"atoms\":[1,2],\"order\":1},{\"atoms\":[2,3],\"order\":1},{\"atoms\":[3,4],\"order\":1},{\"atoms\":[4,5],\"order\":1},{\"atoms\":[2,6],\"order\":1},{\"atoms\":[0,7],\"order\":1},{\"atoms\":[0,8],\"order\":1},{\"atoms\":[1,9],\"order\":1},{\"atoms\":[2,10],\"order\":1},{\"atoms\":[3,11],\"order\":1},{\"atoms\":[3,12],\"order\":1},{\"atoms\":[4,13],\"order\":1},{\"atoms\":[4,14],\"order\":1},{\"atoms\":[5,15],\"order\":1},{\"atoms\":[5,16],\"order\":1},{\"atoms\":[5,17],\"order\":1},{\"atoms\":[6,18],\"order\":1},{\"atoms\":[6,19],\"order\":1},{\"atoms\":[6,20],\"order\":1}],\"formula\":\"C7H14\",\"molecular_weight\":98.18606000000007,\"units\":{\"molecular_weight\":\"g / mol\"}});\n",
       "\n",
       "               $d.resizable({\n",
       "                   aspectRatio: 400 / 300,\n",
       "                   resize: function (evt, ui) {\n",
       "                       $d.imolecule.renderer.setSize(ui.size.width,\n",
       "                                                     ui.size.height);\n",
       "                   }\n",
       "               });\n",
       "           });\n",
       "           </script>"
      ],
      "text/plain": [
       "<pybel.Molecule at 0x7f517feb7f60>"
      ]
     },
     "execution_count": 18,
     "metadata": {},
     "output_type": "execute_result"
    }
   ],
   "source": [
    "mol.make3D()\n",
    "pybel.ipython_3d = True\n",
    "mol"
   ]
  },
  {
   "cell_type": "code",
   "execution_count": 19,
   "metadata": {
    "collapsed": true
   },
   "outputs": [],
   "source": [
    "pybel.ipython_3d = False"
   ]
  },
  {
   "cell_type": "markdown",
   "metadata": {},
   "source": [
    "#### 4.1.2. Compuestos Alifáticos Acíclico"
   ]
  },
  {
   "cell_type": "markdown",
   "metadata": {},
   "source": [
    "Los compuestos alifáticos acíclicos más sencillos son los alcanos, agrupaciones hidrocarbonadas lineales o ramificadas de fórmula $C_nH_{2n+2}$"
   ]
  },
  {
   "cell_type": "code",
   "execution_count": 20,
   "metadata": {},
   "outputs": [
    {
     "data": {
      "image/svg+xml": [
       "<svg xmlns=\"http://www.w3.org/2000/svg\" font-family=\"sans-serif\" height=\"100\" stroke=\"rgb(0,0,0)\" stroke-linecap=\"round\" stroke-width=\"2\" viewBox=\"0 0 357.128 200\" width=\"100\" x=\"0\" y=\"0\">\n",
       "<line stroke=\"rgb(0,0,0)\" stroke-width=\"2.0\" x1=\"317.1\" x2=\"317.1\" y1=\"87.0\" y2=\"60.0\" />\n",
       "<line stroke=\"rgb(0,0,0)\" stroke-width=\"2.0\" x1=\"317.1\" x2=\"282.5\" y1=\"60.0\" y2=\"40.0\" />\n",
       "<line stroke=\"rgb(0,0,0)\" stroke-width=\"2.0\" x1=\"282.5\" x2=\"247.8\" y1=\"40.0\" y2=\"60.0\" />\n",
       "<line stroke=\"rgb(0,0,0)\" stroke-width=\"2.0\" x1=\"247.8\" x2=\"213.2\" y1=\"60.0\" y2=\"40.0\" />\n",
       "<line stroke=\"rgb(0,0,0)\" stroke-width=\"2.0\" x1=\"213.2\" x2=\"178.6\" y1=\"40.0\" y2=\"60.0\" />\n",
       "<line stroke=\"rgb(0,0,0)\" stroke-width=\"2.0\" x1=\"178.6\" x2=\"143.9\" y1=\"60.0\" y2=\"40.0\" />\n",
       "<line stroke=\"rgb(0,0,0)\" stroke-width=\"2.0\" x1=\"143.9\" x2=\"109.3\" y1=\"40.0\" y2=\"60.0\" />\n",
       "<line stroke=\"rgb(0,0,0)\" stroke-width=\"2.0\" x1=\"109.3\" x2=\"74.6\" y1=\"60.0\" y2=\"40.0\" />\n",
       "<line stroke=\"rgb(0,0,0)\" stroke-width=\"2.0\" x1=\"74.6\" x2=\"51.3\" y1=\"40.0\" y2=\"53.5\" />\n",
       "<line stroke=\"rgb(0,0,0)\" stroke-width=\"2.0\" x1=\"178.6\" x2=\"178.6\" y1=\"60.0\" y2=\"100.0\" />\n",
       "<line stroke=\"rgb(0,0,0)\" stroke-width=\"2.0\" x1=\"178.6\" x2=\"143.9\" y1=\"100.0\" y2=\"120.0\" />\n",
       "<line stroke=\"rgb(0,0,0)\" stroke-width=\"2.0\" x1=\"143.9\" x2=\"120.5\" y1=\"120.0\" y2=\"106.5\" />\n",
       "<line stroke=\"rgb(0,0,0)\" stroke-width=\"2.0\" x1=\"143.9\" x2=\"143.9\" y1=\"120.0\" y2=\"147.0\" />\n",
       "<text fill=\"rgb(102,102,102)\" font-size=\"16\" stroke=\"rgb(102,102,102)\" stroke-width=\"1\" x=\"313.128129\" y=\"108.000000\">CH</text>\n",
       "<text fill=\"rgb(102,102,102)\" font-size=\"13\" stroke=\"rgb(102,102,102)\" stroke-width=\"1\" x=\"337.128129\" y=\"111.680000\">3</text>\n",
       "<text fill=\"rgb(102,102,102)\" font-size=\"16\" stroke=\"rgb(102,102,102)\" stroke-width=\"1\" x=\"14.000000\" y=\"68.000000\">H</text>\n",
       "<text fill=\"rgb(102,102,102)\" font-size=\"13\" stroke=\"rgb(102,102,102)\" stroke-width=\"1\" x=\"26.000000\" y=\"71.680000\">3</text>\n",
       "<text fill=\"rgb(102,102,102)\" font-size=\"16\" stroke=\"rgb(102,102,102)\" stroke-width=\"1\" x=\"32.500000\" y=\"68.000000\">C</text>\n",
       "<text fill=\"rgb(102,102,102)\" font-size=\"16\" stroke=\"rgb(102,102,102)\" stroke-width=\"1\" x=\"83.282032\" y=\"108.000000\">H</text>\n",
       "<text fill=\"rgb(102,102,102)\" font-size=\"13\" stroke=\"rgb(102,102,102)\" stroke-width=\"1\" x=\"95.282032\" y=\"111.680000\">3</text>\n",
       "<text fill=\"rgb(102,102,102)\" font-size=\"16\" stroke=\"rgb(102,102,102)\" stroke-width=\"1\" x=\"101.782032\" y=\"108.000000\">C</text>\n",
       "<text fill=\"rgb(102,102,102)\" font-size=\"16\" stroke=\"rgb(102,102,102)\" stroke-width=\"1\" x=\"139.923048\" y=\"168.000000\">CH</text>\n",
       "<text fill=\"rgb(102,102,102)\" font-size=\"13\" stroke=\"rgb(102,102,102)\" stroke-width=\"1\" x=\"163.923048\" y=\"171.680000\">3</text>\n",
       "</svg>\n"
      ],
      "text/plain": [
       "<pybel.Molecule at 0x7f517feb7940>"
      ]
     },
     "execution_count": 20,
     "metadata": {},
     "output_type": "execute_result"
    }
   ],
   "source": [
    "mol = \"CCCCCC(CCCC)CC(C)C\"\n",
    "mol = rs(\"smi\", mol)\n",
    "mol"
   ]
  },
  {
   "cell_type": "code",
   "execution_count": 21,
   "metadata": {},
   "outputs": [
    {
     "data": {
      "text/html": [
       "<div id=\"molecule_e9787ca7-d0ca-48bc-ba50-1e10cfa027c7\"></div>\n",
       "           <script type=\"text/javascript\">\n",
       "           require.config({baseUrl: '/',\n",
       "                           paths: {imolecule: ['nbextensions/imolecule.min', 'https://rawgit.com/patrickfuller/imolecule/master/imolecule/js/build/imolecule.min']}});\n",
       "           require(['imolecule'], function () {\n",
       "               var $d = $('#molecule_e9787ca7-d0ca-48bc-ba50-1e10cfa027c7');\n",
       "               $d.width(400); $d.height(300);\n",
       "               $d.imolecule = jQuery.extend({}, imolecule);\n",
       "               $d.imolecule.create($d, {drawingType: 'ball and stick',\n",
       "                                        cameraType: 'perspective',\n",
       "                                        shader: 'lambert',\n",
       "                                        showSave: false});\n",
       "               $d.imolecule.addElements({});\n",
       "               $d.imolecule.draw({\"atoms\":[{\"charge\":-0.06527627866334973,\"element\":\"C\",\"location\":[-5.085235867794257,2.0397977082088117,0.433486976569932]},{\"charge\":-0.05591084848986774,\"element\":\"C\",\"location\":[-3.582020849203897,1.984769223784631,0.3217860782627156]},{\"charge\":-0.053297340739532365,\"element\":\"C\",\"location\":[-3.169842977427857,0.7856390504428434,-0.5469081504948948]},{\"charge\":-0.052815094720845494,\"element\":\"C\",\"location\":[-1.6660318861925099,0.746524509890631,-0.5824806071149505]},{\"charge\":-0.050201125761584274,\"element\":\"C\",\"location\":[-0.9888442873130527,-0.4678859111876943,-1.184138918253292]},{\"charge\":-0.04080647186673235,\"element\":\"C\",\"location\":[0.5588029664946124,-0.42036386395334735,-1.0040518771027132]},{\"charge\":-0.05020948772171937,\"element\":\"C\",\"location\":[0.9888324840390741,-0.39739456492772507,0.48312606427401544]},{\"charge\":-0.05305559359590275,\"element\":\"C\",\"location\":[0.6755653943082169,0.8149895728665177,1.335685635369026]},{\"charge\":-0.05590242186907656,\"element\":\"C\",\"location\":[1.2830002371910805,0.758919803018244,2.7235910893465882]},{\"charge\":-0.0652761675004682,\"element\":\"C\",\"location\":[0.7344604412267097,1.9588298050039172,3.4823874616301067]},{\"charge\":-0.0478621653017898,\"element\":\"C\",\"location\":[1.1820968206899662,-1.646142970882252,-1.7390085183749457]},{\"charge\":-0.04647082295828862,\"element\":\"C\",\"location\":[2.733982079840474,-1.724398084910023,-1.8224912527177817]},{\"charge\":-0.06265639307270583,\"element\":\"C\",\"location\":[3.4848984935256775,-1.9029950280525447,-0.4973518068916134]},{\"charge\":-0.06265639307270583,\"element\":\"C\",\"location\":[3.1384604159023217,-2.923525153182995,-2.6872986690690097]},{\"charge\":0.022977512114045025,\"element\":\"H\",\"location\":[-5.397133027259505,2.9158295007871455,1.0069103029954025]},{\"charge\":0.022977512114045025,\"element\":\"H\",\"location\":[-5.457803352573128,1.1423883444913134,0.9367870574099436]},{\"charge\":0.022977512114045025,\"element\":\"H\",\"location\":[-5.529414617892551,2.091589340985263,-0.5639898029547362]},{\"charge\":0.026264641780264594,\"element\":\"H\",\"location\":[-3.1504765902185037,1.9038377754037155,1.332255227393098]},{\"charge\":0.026264641780264594,\"element\":\"H\",\"location\":[-3.192562112402862,2.9175878618171427,-0.10335553888732829]},{\"charge\":0.026520156660200318,\"element\":\"H\",\"location\":[-3.5843125385729757,0.8499929306476739,-1.5552134765583965]},{\"charge\":0.026520156660200318,\"element\":\"H\",\"location\":[-3.535282678399644,-0.13347148827258404,-0.07396834625940463]},{\"charge\":0.0265368146427184,\"element\":\"H\",\"location\":[-1.5070958086491064,0.667553810415425,0.4733100748719987]},{\"charge\":0.0265368146427184,\"element\":\"H\",\"location\":[-1.224310851189748,1.6803835213535407,-0.9396624573483668]},{\"charge\":0.026793718738099482,\"element\":\"H\",\"location\":[-1.2480825687456854,-0.5229799448109527,-2.2497469239868098]},{\"charge\":0.026793718738099482,\"element\":\"H\",\"location\":[-1.378326067389457,-1.3747163797030997,-0.7091975770192115]},{\"charge\":0.03008599562133251,\"element\":\"H\",\"location\":[0.9309464663921903,0.4859255381463541,-1.4978437241419327]},{\"charge\":0.026793612328656333,\"element\":\"H\",\"location\":[2.065635538464755,-0.35647655397189637,0.4983478968262244]},{\"charge\":0.026793612328656333,\"element\":\"H\",\"location\":[0.6852133471175055,-1.324162158970651,0.9751259582096566]},{\"charge\":0.02652851721561553,\"element\":\"H\",\"location\":[-0.3706145205233131,0.8633880096846933,1.6045705062012852]},{\"charge\":0.02652851721561553,\"element\":\"H\",\"location\":[0.9496810753903242,1.7322431768352142,0.8090137618650768]},{\"charge\":0.02626474887815929,\"element\":\"H\",\"location\":[2.3773213327912055,0.7701455830927157,2.6804928022165186]},{\"charge\":0.02626474887815929,\"element\":\"H\",\"location\":[0.9678341491887679,-0.1662039529790802,3.218976923244132]},{\"charge\":0.02297751254528616,\"element\":\"H\",\"location\":[1.0423896544330145,2.8887023539175236,2.993587374292878]},{\"charge\":0.02297751254528616,\"element\":\"H\",\"location\":[1.071759997675291,1.9596460908373339,4.517211054568165]},{\"charge\":0.02297751254528616,\"element\":\"H\",\"location\":[-0.36529915114020906,1.9437542296546453,3.4837941267219574]},{\"charge\":0.027042102662775083,\"element\":\"H\",\"location\":[0.8025264797010827,-1.6328949690942645,-2.7730527165575225]},{\"charge\":0.027042102662775083,\"element\":\"H\",\"location\":[0.7906705858505889,-2.5710398959764884,-1.2955174669782838]},{\"charge\":0.029556841622628293,\"element\":\"H\",\"location\":[3.0950838960877407,-0.8101119541409199,-2.309258595631672]},{\"charge\":0.023233344716606073,\"element\":\"H\",\"location\":[2.962785737165894,-2.606649270740064,0.1602302219740469]},{\"charge\":0.023233344716606073,\"element\":\"H\",\"location\":[3.6548330095685477,-0.9579841353990834,0.01939405218080026]},{\"charge\":0.023233344716606073,\"element\":\"H\",\"location\":[4.501882791168838,-2.2721992515086455,-0.654617270197967]},{\"charge\":0.023233344716606073,\"element\":\"H\",\"location\":[2.791751980999549,-3.8592863732622815,-2.233734467916844]},{\"charge\":0.023233344716606073,\"element\":\"H\",\"location\":[4.230409286697477,-2.979629157661779,-2.7687638925071583]},{\"charge\":0.023233344716606073,\"element\":\"H\",\"location\":[2.7318650909773945,-2.851926677696885,-3.698418589458734]}],\"bonds\":[{\"atoms\":[0,1],\"order\":1},{\"atoms\":[1,2],\"order\":1},{\"atoms\":[2,3],\"order\":1},{\"atoms\":[3,4],\"order\":1},{\"atoms\":[4,5],\"order\":1},{\"atoms\":[5,6],\"order\":1},{\"atoms\":[6,7],\"order\":1},{\"atoms\":[7,8],\"order\":1},{\"atoms\":[8,9],\"order\":1},{\"atoms\":[5,10],\"order\":1},{\"atoms\":[10,11],\"order\":1},{\"atoms\":[11,12],\"order\":1},{\"atoms\":[11,13],\"order\":1},{\"atoms\":[0,14],\"order\":1},{\"atoms\":[0,15],\"order\":1},{\"atoms\":[0,16],\"order\":1},{\"atoms\":[1,17],\"order\":1},{\"atoms\":[1,18],\"order\":1},{\"atoms\":[2,19],\"order\":1},{\"atoms\":[2,20],\"order\":1},{\"atoms\":[3,21],\"order\":1},{\"atoms\":[3,22],\"order\":1},{\"atoms\":[4,23],\"order\":1},{\"atoms\":[4,24],\"order\":1},{\"atoms\":[5,25],\"order\":1},{\"atoms\":[6,26],\"order\":1},{\"atoms\":[6,27],\"order\":1},{\"atoms\":[7,28],\"order\":1},{\"atoms\":[7,29],\"order\":1},{\"atoms\":[8,30],\"order\":1},{\"atoms\":[8,31],\"order\":1},{\"atoms\":[9,32],\"order\":1},{\"atoms\":[9,33],\"order\":1},{\"atoms\":[9,34],\"order\":1},{\"atoms\":[10,35],\"order\":1},{\"atoms\":[10,36],\"order\":1},{\"atoms\":[11,37],\"order\":1},{\"atoms\":[12,38],\"order\":1},{\"atoms\":[12,39],\"order\":1},{\"atoms\":[12,40],\"order\":1},{\"atoms\":[13,41],\"order\":1},{\"atoms\":[13,42],\"order\":1},{\"atoms\":[13,43],\"order\":1}],\"formula\":\"C14H30\",\"molecular_weight\":198.3879999999997,\"units\":{\"molecular_weight\":\"g / mol\"}});\n",
       "\n",
       "               $d.resizable({\n",
       "                   aspectRatio: 400 / 300,\n",
       "                   resize: function (evt, ui) {\n",
       "                       $d.imolecule.renderer.setSize(ui.size.width,\n",
       "                                                     ui.size.height);\n",
       "                   }\n",
       "               });\n",
       "           });\n",
       "           </script>"
      ],
      "text/plain": [
       "<pybel.Molecule at 0x7f517feb7940>"
      ]
     },
     "execution_count": 21,
     "metadata": {},
     "output_type": "execute_result"
    }
   ],
   "source": [
    "mol.make3D()\n",
    "pybel.ipython_3d = True\n",
    "mol"
   ]
  },
  {
   "cell_type": "code",
   "execution_count": 22,
   "metadata": {
    "collapsed": true
   },
   "outputs": [],
   "source": [
    "pybel.ipython_3d = False"
   ]
  },
  {
   "cell_type": "markdown",
   "metadata": {},
   "source": [
    "#### 4.1.2. Compuestos Alifáticos Cíclico"
   ]
  },
  {
   "cell_type": "markdown",
   "metadata": {},
   "source": [
    "Si la cadena alifática se cierra formando un anillo, el compuesto se denomina hidrocarburo alicíclico o hidrocarburo alifático cíclico. De estos, los más sencillos son los cicloalcanos."
   ]
  },
  {
   "cell_type": "code",
   "execution_count": 23,
   "metadata": {},
   "outputs": [
    {
     "data": {
      "image/svg+xml": [
       "<svg xmlns=\"http://www.w3.org/2000/svg\" font-family=\"sans-serif\" height=\"100\" stroke=\"rgb(0,0,0)\" stroke-linecap=\"round\" stroke-width=\"2\" viewBox=\"0 0 149.282 160\" width=\"100\" x=\"0\" y=\"0\">\n",
       "<line stroke=\"rgb(0,0,0)\" stroke-width=\"2.0\" x1=\"40.0\" x2=\"74.6\" y1=\"60.0\" y2=\"40.0\" />\n",
       "<line stroke=\"rgb(0,0,0)\" stroke-width=\"2.0\" x1=\"74.6\" x2=\"109.3\" y1=\"40.0\" y2=\"60.0\" />\n",
       "<line stroke=\"rgb(0,0,0)\" stroke-width=\"2.0\" x1=\"109.3\" x2=\"109.3\" y1=\"60.0\" y2=\"100.0\" />\n",
       "<line stroke=\"rgb(0,0,0)\" stroke-width=\"2.0\" x1=\"109.3\" x2=\"74.6\" y1=\"100.0\" y2=\"120.0\" />\n",
       "<line stroke=\"rgb(0,0,0)\" stroke-width=\"2.0\" x1=\"74.6\" x2=\"40.0\" y1=\"120.0\" y2=\"100.0\" />\n",
       "<line stroke=\"rgb(0,0,0)\" stroke-width=\"2.0\" x1=\"40.0\" x2=\"40.0\" y1=\"100.0\" y2=\"60.0\" />\n",
       "</svg>\n"
      ],
      "text/plain": [
       "<pybel.Molecule at 0x7f517feb7be0>"
      ]
     },
     "execution_count": 23,
     "metadata": {},
     "output_type": "execute_result"
    }
   ],
   "source": [
    "mol = \"C1CCCCC1\"\n",
    "mol = rs(\"smi\", mol)\n",
    "mol"
   ]
  },
  {
   "cell_type": "code",
   "execution_count": 24,
   "metadata": {},
   "outputs": [
    {
     "data": {
      "text/html": [
       "<div id=\"molecule_31968022-3a41-494f-bdb8-e2b2b9e19262\"></div>\n",
       "           <script type=\"text/javascript\">\n",
       "           require.config({baseUrl: '/',\n",
       "                           paths: {imolecule: ['nbextensions/imolecule.min', 'https://rawgit.com/patrickfuller/imolecule/master/imolecule/js/build/imolecule.min']}});\n",
       "           require(['imolecule'], function () {\n",
       "               var $d = $('#molecule_31968022-3a41-494f-bdb8-e2b2b9e19262');\n",
       "               $d.width(400); $d.height(300);\n",
       "               $d.imolecule = jQuery.extend({}, imolecule);\n",
       "               $d.imolecule.create($d, {drawingType: 'ball and stick',\n",
       "                                        cameraType: 'perspective',\n",
       "                                        shader: 'lambert',\n",
       "                                        showSave: false});\n",
       "               $d.imolecule.addElements({});\n",
       "               $d.imolecule.draw({\"atoms\":[{\"charge\":-0.05305690507293987,\"element\":\"C\",\"location\":[0.7248258718152218,1.2617578497242619,-0.23203984867109556]},{\"charge\":-0.05305690507293987,\"element\":\"C\",\"location\":[-0.7274037786446003,1.2583384399790494,0.2397548787698767]},{\"charge\":-0.05305690507293987,\"element\":\"C\",\"location\":[-1.4540492186457767,0.0005188869427798311,-0.22978673633303953]},{\"charge\":-0.05305690507293987,\"element\":\"C\",\"location\":[-0.7282379471081606,-1.2579106948937593,0.23936421300109528]},{\"charge\":-0.05305690507293987,\"element\":\"C\",\"location\":[0.7237079090951488,-1.2621127683392153,-0.23321690926187688]},{\"charge\":-0.05305690507293987,\"element\":\"C\",\"location\":[1.4576353317267652,-0.0007186019733096951,0.21725456855406927]},{\"charge\":0.02652845253646993,\"element\":\"H\",\"location\":[1.2394237392122602,2.1479766597936214,0.1561337638127483]},{\"charge\":0.02652845253646993,\"element\":\"H\",\"location\":[0.751614463001217,1.328639927224415,-1.3263374106913761]},{\"charge\":0.02652845253646993,\"element\":\"H\",\"location\":[-1.2432407796436653,2.1485842431478037,-0.13711720288073662]},{\"charge\":0.02652845253646993,\"element\":\"H\",\"location\":[-0.7561298580946813,1.3095476971559388,1.3349283176134616]},{\"charge\":0.02652845253646993,\"element\":\"H\",\"location\":[-1.5135088596583093,0.0006875489530039315,-1.3249486365428418]},{\"charge\":0.02652845253646993,\"element\":\"H\",\"location\":[-2.4824695548786093,0.0008036960610475251,0.14810041909063676]},{\"charge\":0.02652845253646993,\"element\":\"H\",\"location\":[-1.2448743595813736,-2.1477420251861385,-0.13737796369646946]},{\"charge\":0.02652845253646993,\"element\":\"H\",\"location\":[-0.7564755054437747,-1.3092238370616525,1.3345514067814253]},{\"charge\":0.02652845253646993,\"element\":\"H\",\"location\":[0.7498490092029986,-1.3276881984196127,-1.3276132818352764]},{\"charge\":0.02652845253646993,\"element\":\"H\",\"location\":[1.2377769991233174,-2.1492069796848448,0.15363281426628073]},{\"charge\":0.02652845253646993,\"element\":\"H\",\"location\":[2.4767593723396666,-0.0009805672117414994,-0.18568634615268376]},{\"charge\":0.02652845253646993,\"element\":\"H\",\"location\":[1.5447971661823554,-0.0012712762116476484,1.3104039541758024]}],\"bonds\":[{\"atoms\":[0,1],\"order\":1},{\"atoms\":[1,2],\"order\":1},{\"atoms\":[2,3],\"order\":1},{\"atoms\":[3,4],\"order\":1},{\"atoms\":[4,5],\"order\":1},{\"atoms\":[0,5],\"order\":1},{\"atoms\":[0,6],\"order\":1},{\"atoms\":[0,7],\"order\":1},{\"atoms\":[1,8],\"order\":1},{\"atoms\":[1,9],\"order\":1},{\"atoms\":[2,10],\"order\":1},{\"atoms\":[2,11],\"order\":1},{\"atoms\":[3,12],\"order\":1},{\"atoms\":[3,13],\"order\":1},{\"atoms\":[4,14],\"order\":1},{\"atoms\":[4,15],\"order\":1},{\"atoms\":[5,16],\"order\":1},{\"atoms\":[5,17],\"order\":1}],\"formula\":\"C6H12\",\"molecular_weight\":84.15948000000006,\"units\":{\"molecular_weight\":\"g / mol\"}});\n",
       "\n",
       "               $d.resizable({\n",
       "                   aspectRatio: 400 / 300,\n",
       "                   resize: function (evt, ui) {\n",
       "                       $d.imolecule.renderer.setSize(ui.size.width,\n",
       "                                                     ui.size.height);\n",
       "                   }\n",
       "               });\n",
       "           });\n",
       "           </script>"
      ],
      "text/plain": [
       "<pybel.Molecule at 0x7f517feb7be0>"
      ]
     },
     "execution_count": 24,
     "metadata": {},
     "output_type": "execute_result"
    }
   ],
   "source": [
    "mol.make3D()\n",
    "pybel.ipython_3d = True\n",
    "mol"
   ]
  },
  {
   "cell_type": "code",
   "execution_count": 25,
   "metadata": {
    "collapsed": true
   },
   "outputs": [],
   "source": [
    "pybel.ipython_3d = False"
   ]
  },
  {
   "cell_type": "markdown",
   "metadata": {},
   "source": [
    "### 4.2. Compuestos Aromáticos"
   ]
  },
  {
   "cell_type": "markdown",
   "metadata": {},
   "source": [
    "Un hidrocarburo aromático o areno es un compuesto orgánico cíclico conjugado que posee una mayor estabilidad debido a la deslocalización electrónica en enlaces $π$. Para determinar esta característica se aplica la regla de Hückel (debe tener un total de 4n+2 electrones $π$ en el anillo) en consideración de la topología de superposición de orbitales de los estados de transición. Para que se dé la aromaticidad, deben cumplirse ciertas premisas, por ejemplo que los dobles enlaces resonantes de la molécula estén conjugados y que se den al menos dos formas resonantes equivalentes. La estabilidad excepcional de estos compuestos y la explicación de la regla de Hückel han sido explicados cuánticamente, mediante el modelo de \"partícula en un anillo\"."
   ]
  },
  {
   "cell_type": "code",
   "execution_count": 26,
   "metadata": {},
   "outputs": [
    {
     "data": {
      "image/svg+xml": [
       "<svg xmlns=\"http://www.w3.org/2000/svg\" font-family=\"sans-serif\" height=\"100\" stroke=\"rgb(0,0,0)\" stroke-linecap=\"round\" stroke-width=\"2\" viewBox=\"0 0 149.282 160\" width=\"100\" x=\"0\" y=\"0\">\n",
       "<line stroke=\"rgb(0,0,0)\" stroke-width=\"2.0\" x1=\"40.0\" x2=\"74.6\" y1=\"60.0\" y2=\"40.0\" />\n",
       "<line stroke=\"rgb(0,0,0)\" stroke-width=\"2.0\" x1=\"48.8\" x2=\"73.0\" y1=\"63.2\" y2=\"49.2\" />\n",
       "<line stroke=\"rgb(0,0,0)\" stroke-width=\"2.0\" x1=\"74.6\" x2=\"109.3\" y1=\"40.0\" y2=\"60.0\" />\n",
       "<line stroke=\"rgb(0,0,0)\" stroke-width=\"2.0\" x1=\"109.3\" x2=\"109.3\" y1=\"60.0\" y2=\"100.0\" />\n",
       "<line stroke=\"rgb(0,0,0)\" stroke-width=\"2.0\" x1=\"102.1\" x2=\"102.1\" y1=\"66.0\" y2=\"94.0\" />\n",
       "<line stroke=\"rgb(0,0,0)\" stroke-width=\"2.0\" x1=\"109.3\" x2=\"74.6\" y1=\"100.0\" y2=\"120.0\" />\n",
       "<line stroke=\"rgb(0,0,0)\" stroke-width=\"2.0\" x1=\"74.6\" x2=\"40.0\" y1=\"120.0\" y2=\"100.0\" />\n",
       "<line stroke=\"rgb(0,0,0)\" stroke-width=\"2.0\" x1=\"73.0\" x2=\"48.8\" y1=\"110.8\" y2=\"96.8\" />\n",
       "<line stroke=\"rgb(0,0,0)\" stroke-width=\"2.0\" x1=\"40.0\" x2=\"40.0\" y1=\"100.0\" y2=\"60.0\" />\n",
       "</svg>\n"
      ],
      "text/plain": [
       "<pybel.Molecule at 0x7f517fe4b828>"
      ]
     },
     "execution_count": 26,
     "metadata": {},
     "output_type": "execute_result"
    }
   ],
   "source": [
    "mol = \"c1ccccc1\"\n",
    "mol = rs(\"smi\", mol)\n",
    "mol"
   ]
  },
  {
   "cell_type": "code",
   "execution_count": 27,
   "metadata": {},
   "outputs": [
    {
     "data": {
      "text/html": [
       "<div id=\"molecule_287328ed-c31f-469b-b0fe-80447ed656a7\"></div>\n",
       "           <script type=\"text/javascript\">\n",
       "           require.config({baseUrl: '/',\n",
       "                           paths: {imolecule: ['nbextensions/imolecule.min', 'https://rawgit.com/patrickfuller/imolecule/master/imolecule/js/build/imolecule.min']}});\n",
       "           require(['imolecule'], function () {\n",
       "               var $d = $('#molecule_287328ed-c31f-469b-b0fe-80447ed656a7');\n",
       "               $d.width(400); $d.height(300);\n",
       "               $d.imolecule = jQuery.extend({}, imolecule);\n",
       "               $d.imolecule.create($d, {drawingType: 'ball and stick',\n",
       "                                        cameraType: 'perspective',\n",
       "                                        shader: 'lambert',\n",
       "                                        showSave: false});\n",
       "               $d.imolecule.addElements({});\n",
       "               $d.imolecule.draw({\"atoms\":[{\"charge\":-0.06175815206924317,\"element\":\"C\",\"location\":[-0.7621607611622441,1.1685567607135314,0.022783454386152074]},{\"charge\":-0.06175815206924317,\"element\":\"C\",\"location\":[0.6310427383422657,1.2428609893744262,-0.013010714774881818]},{\"charge\":-0.06175815206924317,\"element\":\"C\",\"location\":[1.391782052243982,0.07639883943968759,-0.012225165055323613]},{\"charge\":-0.06175815206924317,\"element\":\"C\",\"location\":[0.762101839173814,-1.168505431085853,0.026110995693658226]},{\"charge\":-0.06175815206924317,\"element\":\"C\",\"location\":[-0.6310420255828079,-1.242902052339764,-0.011816682201538418]},{\"charge\":-0.06175815206924317,\"element\":\"C\",\"location\":[-1.391804788727553,-0.07643078264105681,-0.014103485279930175]},{\"charge\":0.06175815206924317,\"element\":\"H\",\"location\":[-1.3543883141974011,2.0766541330194483,0.0735243847478177]},{\"charge\":0.06175815206924317,\"element\":\"H\",\"location\":[1.1214826661518749,2.213004890353454,-0.03750457171000163]},{\"charge\":0.06175815206924317,\"element\":\"H\",\"location\":[2.4773132011418686,0.13398812585709344,-0.03736764154278532]},{\"charge\":0.06175815206924317,\"element\":\"H\",\"location\":[1.3543350670989698,-2.0764308385785393,0.07972672126856323]},{\"charge\":0.06175815206924317,\"element\":\"H\",\"location\":[-1.1213482404333548,-2.2131354569053205,-0.03567902700128039]},{\"charge\":0.06175815206924317,\"element\":\"H\",\"location\":[-2.4773134340494143,-0.13405917720710703,-0.040438268530449885]}],\"bonds\":[{\"atoms\":[0,1],\"order\":2},{\"atoms\":[1,2],\"order\":1},{\"atoms\":[2,3],\"order\":2},{\"atoms\":[3,4],\"order\":1},{\"atoms\":[4,5],\"order\":2},{\"atoms\":[0,5],\"order\":1},{\"atoms\":[0,6],\"order\":1},{\"atoms\":[1,7],\"order\":1},{\"atoms\":[2,8],\"order\":1},{\"atoms\":[3,9],\"order\":1},{\"atoms\":[4,10],\"order\":1},{\"atoms\":[5,11],\"order\":1}],\"formula\":\"C6H6\",\"molecular_weight\":78.11184000000003,\"units\":{\"molecular_weight\":\"g / mol\"}});\n",
       "\n",
       "               $d.resizable({\n",
       "                   aspectRatio: 400 / 300,\n",
       "                   resize: function (evt, ui) {\n",
       "                       $d.imolecule.renderer.setSize(ui.size.width,\n",
       "                                                     ui.size.height);\n",
       "                   }\n",
       "               });\n",
       "           });\n",
       "           </script>"
      ],
      "text/plain": [
       "<pybel.Molecule at 0x7f517fe4b828>"
      ]
     },
     "execution_count": 27,
     "metadata": {},
     "output_type": "execute_result"
    }
   ],
   "source": [
    "mol.make3D()\n",
    "pybel.ipython_3d = True\n",
    "mol"
   ]
  },
  {
   "cell_type": "code",
   "execution_count": 29,
   "metadata": {
    "collapsed": true
   },
   "outputs": [],
   "source": [
    "pybel.ipython_3d = False"
   ]
  },
  {
   "cell_type": "markdown",
   "metadata": {},
   "source": [
    "### 4.3. Compuestos Heterocíclico"
   ]
  },
  {
   "cell_type": "markdown",
   "metadata": {},
   "source": [
    "Los compuestos heterocíclicos son compuestos orgánicos cíclicos con al menos uno de los componentes del ciclo siendo un elemento diferente al carbono. Los átomos distintos de carbono presentes en el ciclo se denominan heteroátomos, siendo más comunes los heteroátomos de nitrógeno, oxígeno y azufre. "
   ]
  },
  {
   "cell_type": "code",
   "execution_count": 30,
   "metadata": {},
   "outputs": [
    {
     "data": {
      "image/svg+xml": [
       "<svg xmlns=\"http://www.w3.org/2000/svg\" font-family=\"sans-serif\" height=\"100\" stroke=\"rgb(0,0,0)\" stroke-linecap=\"round\" stroke-width=\"2\" viewBox=\"0 0 218.564 220\" width=\"100\" x=\"0\" y=\"0\">\n",
       "<line stroke=\"rgb(0,0,0)\" stroke-width=\"2.0\" x1=\"109.3\" x2=\"74.6\" y1=\"120.0\" y2=\"100.0\" />\n",
       "<line stroke=\"rgb(0,0,0)\" stroke-width=\"2.0\" x1=\"74.6\" x2=\"74.6\" y1=\"100.0\" y2=\"60.0\" />\n",
       "<line stroke=\"rgb(0,0,0)\" stroke-width=\"2.0\" x1=\"74.6\" x2=\"51.3\" y1=\"60.0\" y2=\"46.5\" />\n",
       "<line stroke=\"rgb(0,0,0)\" stroke-width=\"2.0\" x1=\"132.5\" x2=\"109.3\" y1=\"173.4\" y2=\"160.0\" />\n",
       "<line stroke=\"rgb(0,0,0)\" stroke-width=\"2.0\" x1=\"134.4\" x2=\"118.1\" y1=\"166.2\" y2=\"156.8\" />\n",
       "<line stroke=\"rgb(0,0,0)\" stroke-width=\"2.0\" x1=\"109.3\" x2=\"109.3\" y1=\"160.0\" y2=\"120.0\" />\n",
       "<line stroke=\"rgb(0,0,0)\" stroke-width=\"2.0\" x1=\"109.3\" x2=\"143.9\" y1=\"120.0\" y2=\"100.0\" />\n",
       "<line stroke=\"rgb(0,0,0)\" stroke-width=\"2.0\" x1=\"118.1\" x2=\"142.3\" y1=\"123.2\" y2=\"109.2\" />\n",
       "<line stroke=\"rgb(0,0,0)\" stroke-width=\"2.0\" x1=\"143.9\" x2=\"178.6\" y1=\"100.0\" y2=\"120.0\" />\n",
       "<line stroke=\"rgb(0,0,0)\" stroke-width=\"2.0\" x1=\"178.6\" x2=\"178.6\" y1=\"120.0\" y2=\"160.0\" />\n",
       "<line stroke=\"rgb(0,0,0)\" stroke-width=\"2.0\" x1=\"171.4\" x2=\"171.4\" y1=\"126.0\" y2=\"154.0\" />\n",
       "<line stroke=\"rgb(0,0,0)\" stroke-width=\"2.0\" x1=\"178.6\" x2=\"155.2\" y1=\"160.0\" y2=\"173.5\" />\n",
       "<text fill=\"rgb(12,12,255)\" font-size=\"16\" stroke=\"rgb(12,12,255)\" stroke-width=\"1\" x=\"137.923048\" y=\"188.000000\">N</text>\n",
       "<text fill=\"rgb(102,102,102)\" font-size=\"16\" stroke=\"rgb(102,102,102)\" stroke-width=\"1\" x=\"14.000000\" y=\"48.000000\">H</text>\n",
       "<text fill=\"rgb(102,102,102)\" font-size=\"13\" stroke=\"rgb(102,102,102)\" stroke-width=\"1\" x=\"26.000000\" y=\"51.680000\">3</text>\n",
       "<text fill=\"rgb(102,102,102)\" font-size=\"16\" stroke=\"rgb(102,102,102)\" stroke-width=\"1\" x=\"32.500000\" y=\"48.000000\">C</text>\n",
       "</svg>\n"
      ],
      "text/plain": [
       "<pybel.Molecule at 0x7f517fe4bf60>"
      ]
     },
     "execution_count": 30,
     "metadata": {},
     "output_type": "execute_result"
    }
   ],
   "source": [
    "mol = \"c1cncc(CCC)c1\"\n",
    "mol = rs(\"smi\", mol)\n",
    "mol"
   ]
  },
  {
   "cell_type": "code",
   "execution_count": 31,
   "metadata": {},
   "outputs": [
    {
     "data": {
      "text/html": [
       "<div id=\"molecule_58befabf-4d06-4b07-9008-13d3b8df5c98\"></div>\n",
       "           <script type=\"text/javascript\">\n",
       "           require.config({baseUrl: '/',\n",
       "                           paths: {imolecule: ['nbextensions/imolecule.min', 'https://rawgit.com/patrickfuller/imolecule/master/imolecule/js/build/imolecule.min']}});\n",
       "           require(['imolecule'], function () {\n",
       "               var $d = $('#molecule_58befabf-4d06-4b07-9008-13d3b8df5c98');\n",
       "               $d.width(400); $d.height(300);\n",
       "               $d.imolecule = jQuery.extend({}, imolecule);\n",
       "               $d.imolecule.create($d, {drawingType: 'ball and stick',\n",
       "                                        cameraType: 'perspective',\n",
       "                                        shader: 'lambert',\n",
       "                                        showSave: false});\n",
       "               $d.imolecule.addElements({});\n",
       "               $d.imolecule.draw({\"atoms\":[{\"charge\":-0.043338343734700815,\"element\":\"C\",\"location\":[0.6977581262219331,2.66346078416811,0.22468525621370244]},{\"charge\":0.027569339421333456,\"element\":\"C\",\"location\":[2.0802823235237673,2.642934993766292,0.215905102800367]},{\"charge\":-0.2629889736112493,\"element\":\"N\",\"location\":[2.8124585893825342,1.5116089980548102,0.2376246195867786]},{\"charge\":0.030719932189371944,\"element\":\"C\",\"location\":[2.1315842950558395,0.33993031764160797,0.22254439993519792]},{\"charge\":-0.029271290350025212,\"element\":\"C\",\"location\":[0.7434599654045048,0.24569495500379368,0.13399017592832768]},{\"charge\":-0.02649660781600584,\"element\":\"C\",\"location\":[0.08017045820355895,-1.1039570119387019,-0.006196828834376472]},{\"charge\":-0.05186728175009439,\"element\":\"C\",\"location\":[-1.4416747974094952,-1.0242420830875738,-0.17635421989519423]},{\"charge\":-0.06497961576172682,\"element\":\"C\",\"location\":[-2.0914827269766856,-2.38108501941418,-0.3431073030972026]},{\"charge\":-0.05570920768202134,\"element\":\"C\",\"location\":[0.031798583340550746,1.447010799469461,0.16146393117668506]},{\"charge\":0.06327331878918091,\"element\":\"H\",\"location\":[0.14657858833081883,3.5930454203090307,0.2630992717649525]},{\"charge\":0.08293343866301728,\"element\":\"H\",\"location\":[2.6449520937319013,3.5693214710895025,0.18726961116655588]},{\"charge\":0.08321159010780214,\"element\":\"H\",\"location\":[2.75807824510761,-0.5448213700562647,0.28253440872407803]},{\"charge\":0.031355179726450653,\"element\":\"H\",\"location\":[0.31993697430171086,-1.7145423136908056,0.8729284105652813]},{\"charge\":0.031355179726450653,\"element\":\"H\",\"location\":[0.5064674259299595,-1.6087156630998147,-0.8837319327578141]},{\"charge\":0.026576126077973994,\"element\":\"H\",\"location\":[-1.6860436731113908,-0.41403488901836294,-1.0554087706087587]},{\"charge\":0.026576126077973994,\"element\":\"H\",\"location\":[-1.8868708665871061,-0.5343949365083633,0.6982768219852682]},{\"charge\":0.022986772326569534,\"element\":\"H\",\"location\":[-1.7143607696421581,-2.8881597781927613,-1.2354203048834478]},{\"charge\":0.022986772326569534,\"element\":\"H\",\"location\":[-3.1739241891711885,-2.2561768179341026,-0.45181869609531955]},{\"charge\":0.022986772326569534,\"element\":\"H\",\"location\":[-1.9053133006527685,-3.01167860619694,0.530335365413519]},{\"charge\":0.06212077294656008,\"element\":\"H\",\"location\":[-1.0538553449838943,1.4688007496352633,0.12138068091139972]}],\"bonds\":[{\"atoms\":[0,1],\"order\":2},{\"atoms\":[1,2],\"order\":1},{\"atoms\":[2,3],\"order\":2},{\"atoms\":[3,4],\"order\":1},{\"atoms\":[4,5],\"order\":1},{\"atoms\":[5,6],\"order\":1},{\"atoms\":[6,7],\"order\":1},{\"atoms\":[4,8],\"order\":2},{\"atoms\":[0,8],\"order\":1},{\"atoms\":[0,9],\"order\":1},{\"atoms\":[1,10],\"order\":1},{\"atoms\":[3,11],\"order\":1},{\"atoms\":[5,12],\"order\":1},{\"atoms\":[5,13],\"order\":1},{\"atoms\":[6,14],\"order\":1},{\"atoms\":[6,15],\"order\":1},{\"atoms\":[7,16],\"order\":1},{\"atoms\":[7,17],\"order\":1},{\"atoms\":[7,18],\"order\":1},{\"atoms\":[8,19],\"order\":1}],\"formula\":\"C8H11N\",\"molecular_weight\":121.17964000000006,\"units\":{\"molecular_weight\":\"g / mol\"}});\n",
       "\n",
       "               $d.resizable({\n",
       "                   aspectRatio: 400 / 300,\n",
       "                   resize: function (evt, ui) {\n",
       "                       $d.imolecule.renderer.setSize(ui.size.width,\n",
       "                                                     ui.size.height);\n",
       "                   }\n",
       "               });\n",
       "           });\n",
       "           </script>"
      ],
      "text/plain": [
       "<pybel.Molecule at 0x7f517fe4bf60>"
      ]
     },
     "execution_count": 31,
     "metadata": {},
     "output_type": "execute_result"
    }
   ],
   "source": [
    "mol.make3D()\n",
    "pybel.ipython_3d = True\n",
    "mol"
   ]
  },
  {
   "cell_type": "code",
   "execution_count": 32,
   "metadata": {
    "collapsed": true
   },
   "outputs": [],
   "source": [
    "pybel.ipython_3d = False"
   ]
  },
  {
   "cell_type": "markdown",
   "metadata": {},
   "source": [
    "### 4.4. Compuestos Organometálicos"
   ]
  },
  {
   "cell_type": "markdown",
   "metadata": {},
   "source": [
    "Un compuesto organometálico es un compuesto en el que los átomos de carbono de un ligando orgánico forman enlaces covalentes con un átomo metálico. Los compuestos basados en cadenas y anillos de átomos de carbono se llaman orgánicos, y éste es el fundamento del nombre organometálicos. La característica de estos compuestos es la presencia de enlaces entre átomos de metal y de carbono (que pueden ser sencillos, dobles o triples) y por tanto no se consideran organometálicos aquellos compuestos en que un metal se une a una molécula o fragmento por un átomo distinto del carbono, como ocurre en algunos compuestos de coordinación. Este grupo incluye un elevado número de compuestos y algunos químicos lo consideran un grupo distinto al de los compuestos orgánicos e inorgánicos."
   ]
  },
  {
   "cell_type": "code",
   "execution_count": 33,
   "metadata": {},
   "outputs": [
    {
     "data": {
      "image/svg+xml": [
       "<svg xmlns=\"http://www.w3.org/2000/svg\" font-family=\"sans-serif\" height=\"100\" stroke=\"rgb(0,0,0)\" stroke-linecap=\"round\" stroke-width=\"2\" viewBox=\"0 0 209.282 189.282\" width=\"100\" x=\"0\" y=\"0\">\n",
       "<line stroke=\"rgb(0,0,0)\" stroke-width=\"2.0\" x1=\"53.5\" x2=\"40.0\" y1=\"51.3\" y2=\"74.6\" />\n",
       "<line stroke=\"rgb(0,0,0)\" stroke-width=\"2.0\" x1=\"40.0\" x2=\"53.5\" y1=\"74.6\" y2=\"98.0\" />\n",
       "<line stroke=\"rgb(0,0,0)\" stroke-width=\"2.0\" x1=\"73.0\" x2=\"87.0\" y1=\"109.3\" y2=\"109.3\" />\n",
       "<line stroke=\"rgb(0,0,0)\" stroke-width=\"2.0\" x1=\"100.0\" x2=\"100.0\" y1=\"122.3\" y2=\"136.3\" />\n",
       "<line stroke=\"rgb(0,0,0)\" stroke-width=\"2.0\" x1=\"113.0\" x2=\"127.0\" y1=\"109.3\" y2=\"109.3\" />\n",
       "<line stroke=\"rgb(0,0,0)\" stroke-width=\"2.0\" x1=\"100.0\" x2=\"100.0\" y1=\"96.3\" y2=\"82.3\" />\n",
       "<line stroke=\"rgb(0,0,0)\" stroke-width=\"2.0\" x1=\"111.3\" x2=\"134.6\" y1=\"62.8\" y2=\"49.3\" />\n",
       "<line stroke=\"rgb(0,0,0)\" stroke-width=\"2.0\" x1=\"134.6\" x2=\"158.0\" y1=\"49.3\" y2=\"62.8\" />\n",
       "<text fill=\"rgb(102,102,102)\" font-size=\"16\" stroke=\"rgb(102,102,102)\" stroke-width=\"1\" x=\"56.000000\" y=\"48.000000\">CH</text>\n",
       "<text fill=\"rgb(102,102,102)\" font-size=\"13\" stroke=\"rgb(102,102,102)\" stroke-width=\"1\" x=\"80.000000\" y=\"51.680000\">3</text>\n",
       "<text fill=\"rgb(255,12,12)\" font-size=\"16\" stroke=\"rgb(255,12,12)\" stroke-width=\"1\" x=\"54.000000\" y=\"117.282032\">O</text>\n",
       "<text fill=\"rgb(127,153,153)\" font-size=\"16\" stroke=\"rgb(127,153,153)\" stroke-width=\"1\" x=\"94.000000\" y=\"117.282032\">Si</text>\n",
       "<text fill=\"rgb(102,102,102)\" font-size=\"16\" stroke=\"rgb(102,102,102)\" stroke-width=\"1\" x=\"96.000000\" y=\"157.282032\">CH</text>\n",
       "<text fill=\"rgb(102,102,102)\" font-size=\"13\" stroke=\"rgb(102,102,102)\" stroke-width=\"1\" x=\"120.000000\" y=\"160.962032\">3</text>\n",
       "<text fill=\"rgb(102,102,102)\" font-size=\"16\" stroke=\"rgb(102,102,102)\" stroke-width=\"1\" x=\"136.000000\" y=\"117.282032\">CH</text>\n",
       "<text fill=\"rgb(102,102,102)\" font-size=\"13\" stroke=\"rgb(102,102,102)\" stroke-width=\"1\" x=\"160.000000\" y=\"120.962032\">3</text>\n",
       "<text fill=\"rgb(255,12,12)\" font-size=\"16\" stroke=\"rgb(255,12,12)\" stroke-width=\"1\" x=\"94.000000\" y=\"77.282032\">O</text>\n",
       "<text fill=\"rgb(102,102,102)\" font-size=\"16\" stroke=\"rgb(102,102,102)\" stroke-width=\"1\" x=\"165.282032\" y=\"77.282032\">CH</text>\n",
       "<text fill=\"rgb(102,102,102)\" font-size=\"13\" stroke=\"rgb(102,102,102)\" stroke-width=\"1\" x=\"189.282032\" y=\"80.962032\">3</text>\n",
       "</svg>\n"
      ],
      "text/plain": [
       "<pybel.Molecule at 0x7f517fe4ba20>"
      ]
     },
     "execution_count": 33,
     "metadata": {},
     "output_type": "execute_result"
    }
   ],
   "source": [
    "mol = \"CCO[Si](C)(C)OCC\"\n",
    "mol = rs(\"smi\", mol)\n",
    "mol"
   ]
  },
  {
   "cell_type": "code",
   "execution_count": 34,
   "metadata": {},
   "outputs": [
    {
     "data": {
      "text/html": [
       "<div id=\"molecule_68667e4b-fc65-4d9a-8c33-b31b1ab4c674\"></div>\n",
       "           <script type=\"text/javascript\">\n",
       "           require.config({baseUrl: '/',\n",
       "                           paths: {imolecule: ['nbextensions/imolecule.min', 'https://rawgit.com/patrickfuller/imolecule/master/imolecule/js/build/imolecule.min']}});\n",
       "           require(['imolecule'], function () {\n",
       "               var $d = $('#molecule_68667e4b-fc65-4d9a-8c33-b31b1ab4c674');\n",
       "               $d.width(400); $d.height(300);\n",
       "               $d.imolecule = jQuery.extend({}, imolecule);\n",
       "               $d.imolecule.create($d, {drawingType: 'ball and stick',\n",
       "                                        cameraType: 'perspective',\n",
       "                                        shader: 'lambert',\n",
       "                                        showSave: false});\n",
       "               $d.imolecule.addElements({});\n",
       "               $d.imolecule.draw({\"atoms\":[{\"element\":\"C\",\"location\":[-3.7638922870869247,0.06266301979706197,1.2973864813119054]},{\"element\":\"C\",\"location\":[-2.249875545758551,0.06691803691096715,1.3854835028817296]},{\"element\":\"O\",\"location\":[-1.6549553723246961,0.004050501620327107,0.08384081437774937]},{\"element\":\"Si\",\"location\":[0.030247779486473725,0.0020641017062053985,0.04272656513318318]},{\"element\":\"C\",\"location\":[0.6626709831040403,1.5768041163821012,0.8620894284728183]},{\"element\":\"C\",\"location\":[0.662669579753679,-1.486383439064771,1.010035930376873]},{\"element\":\"O\",\"location\":[0.6307844548203816,-0.07392243966299528,-1.5305456892727902]},{\"element\":\"C\",\"location\":[2.057721676838746,-0.080026948987793,-1.6569134162278958]},{\"element\":\"C\",\"location\":[2.4792324478115546,-0.15030894445026324,-3.112047408958653]},{\"element\":\"H\",\"location\":[-4.192575766077886,0.11139936177128171,2.306429718065365]},{\"element\":\"H\",\"location\":[-4.125526804337684,-0.8450534835836806,0.8088682833507511]},{\"element\":\"H\",\"location\":[-4.125526832635401,0.9190736082173768,0.7236616224662744]},{\"element\":\"H\",\"location\":[-1.9403279250985883,-0.7970632352227675,1.984312293677612]},{\"element\":\"H\",\"location\":[-1.9403278663072316,0.9845882962447555,1.8982609549226546]},{\"element\":\"H\",\"location\":[0.31056266325318393,1.647162660574592,1.894006997266706]},{\"element\":\"H\",\"location\":[0.3043730300375538,2.452874827985782,0.31248089477954144]},{\"element\":\"H\",\"location\":[1.7550090055937524,1.5978905234243064,0.8738117674297088]},{\"element\":\"H\",\"location\":[0.3105607522372891,-1.456966944312534,2.04393074761993]},{\"element\":\"H\",\"location\":[1.7550075787923891,-1.5062426772562083,1.023736419487015]},{\"element\":\"H\",\"location\":[0.3043712760194426,-2.4113427355472172,0.5474135344569269]},{\"element\":\"H\",\"location\":[2.4791675133051028,-0.9478253827940705,-1.1371168381507413]},{\"element\":\"H\",\"location\":[2.479168783849974,0.8338261243050131,-1.2231688801450422]},{\"element\":\"H\",\"location\":[2.0984432080367066,-1.0573708996145468,-3.587039159608638]},{\"element\":\"H\",\"location\":[3.5745706874521526,-0.15356431361915665,-3.1794003083450573]},{\"element\":\"H\",\"location\":[2.09844697923453,0.7067562651762339,-3.6722442553679313]}],\"bonds\":[{\"atoms\":[0,1],\"order\":1},{\"atoms\":[1,2],\"order\":1},{\"atoms\":[2,3],\"order\":1},{\"atoms\":[3,4],\"order\":1},{\"atoms\":[3,5],\"order\":1},{\"atoms\":[3,6],\"order\":1},{\"atoms\":[6,7],\"order\":1},{\"atoms\":[7,8],\"order\":1},{\"atoms\":[0,9],\"order\":1},{\"atoms\":[0,10],\"order\":1},{\"atoms\":[0,11],\"order\":1},{\"atoms\":[1,12],\"order\":1},{\"atoms\":[1,13],\"order\":1},{\"atoms\":[4,14],\"order\":1},{\"atoms\":[4,15],\"order\":1},{\"atoms\":[4,16],\"order\":1},{\"atoms\":[5,17],\"order\":1},{\"atoms\":[5,18],\"order\":1},{\"atoms\":[5,19],\"order\":1},{\"atoms\":[7,20],\"order\":1},{\"atoms\":[7,21],\"order\":1},{\"atoms\":[8,22],\"order\":1},{\"atoms\":[8,23],\"order\":1},{\"atoms\":[8,24],\"order\":1}],\"formula\":\"C6H16O2Si\",\"molecular_weight\":148.27553999999986,\"units\":{\"molecular_weight\":\"g / mol\"}});\n",
       "\n",
       "               $d.resizable({\n",
       "                   aspectRatio: 400 / 300,\n",
       "                   resize: function (evt, ui) {\n",
       "                       $d.imolecule.renderer.setSize(ui.size.width,\n",
       "                                                     ui.size.height);\n",
       "                   }\n",
       "               });\n",
       "           });\n",
       "           </script>"
      ],
      "text/plain": [
       "<pybel.Molecule at 0x7f517fe4ba20>"
      ]
     },
     "execution_count": 34,
     "metadata": {},
     "output_type": "execute_result"
    }
   ],
   "source": [
    "mol.make3D()\n",
    "pybel.ipython_3d = True\n",
    "mol"
   ]
  },
  {
   "cell_type": "code",
   "execution_count": 35,
   "metadata": {
    "collapsed": true
   },
   "outputs": [],
   "source": [
    "pybel.ipython_3d = False"
   ]
  },
  {
   "cell_type": "markdown",
   "metadata": {},
   "source": [
    "### 4.5. Propiedades Moleculares"
   ]
  },
  {
   "cell_type": "markdown",
   "metadata": {},
   "source": [
    "Primero, obtengamos una <strong>molécula de un monosacárido</strong>."
   ]
  },
  {
   "cell_type": "code",
   "execution_count": 36,
   "metadata": {},
   "outputs": [
    {
     "data": {
      "image/svg+xml": [
       "<svg xmlns=\"http://www.w3.org/2000/svg\" font-family=\"sans-serif\" height=\"100\" stroke=\"rgb(0,0,0)\" stroke-linecap=\"round\" stroke-width=\"2\" viewBox=\"0 0 253.205 240\" width=\"100\" x=\"0\" y=\"0\">\n",
       "<line stroke=\"rgb(0,0,0)\" stroke-width=\"2.0\" x1=\"178.6\" x2=\"201.9\" y1=\"100.0\" y2=\"86.5\" />\n",
       "<line stroke=\"rgb(0,0,0)\" stroke-width=\"2.0\" x1=\"178.6\" x2=\"143.9\" y1=\"100.0\" y2=\"80.0\" />\n",
       "<line stroke=\"rgb(0,0,0)\" stroke-width=\"2.0\" x1=\"143.9\" x2=\"143.9\" y1=\"80.0\" y2=\"53.0\" />\n",
       "<line stroke=\"rgb(0,0,0)\" stroke-width=\"2.0\" x1=\"143.9\" x2=\"109.3\" y1=\"80.0\" y2=\"100.0\" />\n",
       "<line stroke=\"rgb(0,0,0)\" stroke-width=\"2.0\" x1=\"109.3\" x2=\"85.9\" y1=\"100.0\" y2=\"86.5\" />\n",
       "<line stroke=\"rgb(0,0,0)\" stroke-width=\"2.0\" x1=\"109.3\" x2=\"109.3\" y1=\"100.0\" y2=\"140.0\" />\n",
       "<line stroke=\"rgb(0,0,0)\" stroke-width=\"2.0\" x1=\"109.3\" x2=\"132.7\" y1=\"140.0\" y2=\"153.5\" />\n",
       "<line stroke=\"rgb(0,0,0)\" stroke-width=\"2.0\" x1=\"109.3\" x2=\"74.6\" y1=\"140.0\" y2=\"160.0\" />\n",
       "<line stroke=\"rgb(0,0,0)\" stroke-width=\"2.0\" x1=\"74.6\" x2=\"74.6\" y1=\"160.0\" y2=\"187.0\" />\n",
       "<line stroke=\"rgb(0,0,0)\" stroke-width=\"2.0\" x1=\"74.6\" x2=\"40.0\" y1=\"160.0\" y2=\"140.0\" />\n",
       "<line stroke=\"rgb(0,0,0)\" stroke-width=\"2.0\" x1=\"37.0\" x2=\"37.0\" y1=\"140.0\" y2=\"113.0\" />\n",
       "<line stroke=\"rgb(0,0,0)\" stroke-width=\"2.0\" x1=\"43.0\" x2=\"43.0\" y1=\"140.0\" y2=\"113.0\" />\n",
       "<text fill=\"rgb(255,12,12)\" font-size=\"16\" stroke=\"rgb(255,12,12)\" stroke-width=\"1\" x=\"207.205081\" y=\"88.000000\">OH</text>\n",
       "<text fill=\"rgb(255,12,12)\" font-size=\"16\" stroke=\"rgb(255,12,12)\" stroke-width=\"1\" x=\"137.923048\" y=\"48.000000\">OH</text>\n",
       "<text fill=\"rgb(255,12,12)\" font-size=\"16\" stroke=\"rgb(255,12,12)\" stroke-width=\"1\" x=\"56.641016\" y=\"88.000000\">HO</text>\n",
       "<text fill=\"rgb(255,12,12)\" font-size=\"16\" stroke=\"rgb(255,12,12)\" stroke-width=\"1\" x=\"137.923048\" y=\"168.000000\">OH</text>\n",
       "<text fill=\"rgb(255,12,12)\" font-size=\"16\" stroke=\"rgb(255,12,12)\" stroke-width=\"1\" x=\"68.641016\" y=\"208.000000\">OH</text>\n",
       "<text fill=\"rgb(255,12,12)\" font-size=\"16\" stroke=\"rgb(255,12,12)\" stroke-width=\"1\" x=\"34.000000\" y=\"108.000000\">O</text>\n",
       "</svg>\n"
      ],
      "text/plain": [
       "<pybel.Molecule at 0x7f517fe4b470>"
      ]
     },
     "execution_count": 36,
     "metadata": {},
     "output_type": "execute_result"
    }
   ],
   "source": [
    "mol = \"C(O)C(O)C(O)C(O)C(O)C(=O)\"\n",
    "mol = rs(\"smi\", mol)\n",
    "mol"
   ]
  },
  {
   "cell_type": "markdown",
   "metadata": {},
   "source": [
    "Ahora, obtendremos sus propiedades moleculares."
   ]
  },
  {
   "cell_type": "markdown",
   "metadata": {},
   "source": [
    "#### 4.5.1. Peso Molecular"
   ]
  },
  {
   "cell_type": "code",
   "execution_count": 37,
   "metadata": {},
   "outputs": [
    {
     "name": "stdout",
     "output_type": "stream",
     "text": [
      "El peso molecular es: 180.063388104\n"
     ]
    }
   ],
   "source": [
    "print(\"El peso molecular es:\", mol.exactmass)"
   ]
  },
  {
   "cell_type": "markdown",
   "metadata": {},
   "source": [
    "#### 4.5.2. Fórmula Global"
   ]
  },
  {
   "cell_type": "code",
   "execution_count": 38,
   "metadata": {},
   "outputs": [
    {
     "name": "stdout",
     "output_type": "stream",
     "text": [
      "Su fórmula global es: C6H12O6\n"
     ]
    }
   ],
   "source": [
    "print(\"Su fórmula global es:\", mol.formula)"
   ]
  },
  {
   "cell_type": "markdown",
   "metadata": {},
   "source": [
    "### 4.6. Polímero"
   ]
  },
  {
   "cell_type": "markdown",
   "metadata": {},
   "source": [
    "Los polímeros son macromoléculas (generalmente orgánicas) formadas por la unión mediante enlaces covalentes de una o más unidades simples llamadas monómeros. Estos forman largas cadenas que se unen entre sí por fuerzas de Van der Waals, puentes de hidrógeno o interacciones hidrofóbicas. Los polímeros tienen elevadas masas moleculares, que pueden alcanzar incluso millones de UMAs."
   ]
  },
  {
   "cell_type": "code",
   "execution_count": 39,
   "metadata": {},
   "outputs": [
    {
     "name": "stdout",
     "output_type": "stream",
     "text": [
      "MetTrpLysProGlyGlyGlyPhe\n"
     ]
    },
    {
     "data": {
      "image/svg+xml": [
       "<svg xmlns=\"http://www.w3.org/2000/svg\" font-family=\"sans-serif\" height=\"100\" stroke=\"rgb(0,0,0)\" stroke-linecap=\"round\" stroke-width=\"2\" viewBox=\"0 0 766.597 613.023\" width=\"100\" x=\"0\" y=\"0\">\n",
       "<line stroke=\"rgb(0,0,0)\" stroke-width=\"2.0\" x1=\"178.7\" x2=\"196.8\" y1=\"347.8\" y2=\"327.7\" />\n",
       "<line stroke=\"rgb(0,0,0)\" stroke-width=\"2.0\" x1=\"196.8\" x2=\"235.9\" y1=\"327.7\" y2=\"336.0\" />\n",
       "<line stroke=\"rgb(0,0,0)\" stroke-width=\"2.0\" x1=\"235.9\" x2=\"262.7\" y1=\"336.0\" y2=\"306.3\" />\n",
       "<line stroke=\"rgb(0,0,0)\" stroke-width=\"2.0\" x1=\"262.7\" x2=\"289.1\" y1=\"306.3\" y2=\"311.9\" />\n",
       "<line stroke=\"rgb(0,0,0)\" stroke-width=\"2.0\" x1=\"305.8\" x2=\"310.1\" y1=\"327.0\" y2=\"340.3\" />\n",
       "<line stroke=\"rgb(0,0,0)\" stroke-width=\"2.0\" x1=\"196.8\" x2=\"184.4\" y1=\"327.7\" y2=\"289.7\" />\n",
       "<line stroke=\"rgb(0,0,0)\" stroke-width=\"2.0\" x1=\"183.8\" x2=\"157.4\" y1=\"292.6\" y2=\"287.0\" />\n",
       "<line stroke=\"rgb(0,0,0)\" stroke-width=\"2.0\" x1=\"185.0\" x2=\"158.6\" y1=\"286.7\" y2=\"281.1\" />\n",
       "<line stroke=\"rgb(0,0,0)\" stroke-width=\"2.0\" x1=\"184.4\" x2=\"202.5\" y1=\"289.7\" y2=\"269.6\" />\n",
       "<line stroke=\"rgb(0,0,0)\" stroke-width=\"2.0\" x1=\"207.2\" x2=\"198.8\" y1=\"247.6\" y2=\"221.9\" />\n",
       "<line stroke=\"rgb(0,0,0)\" stroke-width=\"2.0\" x1=\"198.8\" x2=\"159.7\" y1=\"221.9\" y2=\"213.6\" />\n",
       "<line stroke=\"rgb(0,0,0)\" stroke-width=\"2.0\" x1=\"159.7\" x2=\"147.3\" y1=\"213.6\" y2=\"175.5\" />\n",
       "<line stroke=\"rgb(0,0,0)\" stroke-width=\"2.0\" x1=\"198.8\" x2=\"225.6\" y1=\"221.9\" y2=\"192.2\" />\n",
       "<line stroke=\"rgb(0,0,0)\" stroke-width=\"2.0\" x1=\"222.7\" x2=\"214.4\" y1=\"193.1\" y2=\"167.4\" />\n",
       "<line stroke=\"rgb(0,0,0)\" stroke-width=\"2.0\" x1=\"228.4\" x2=\"220.1\" y1=\"191.2\" y2=\"165.6\" />\n",
       "<line stroke=\"rgb(0,0,0)\" stroke-width=\"2.0\" x1=\"225.6\" x2=\"252.0\" y1=\"192.2\" y2=\"197.8\" />\n",
       "<line stroke=\"rgb(0,0,0)\" stroke-width=\"2.0\" x1=\"273.4\" x2=\"291.5\" y1=\"190.8\" y2=\"170.8\" />\n",
       "<line stroke=\"rgb(0,0,0)\" stroke-width=\"2.0\" x1=\"291.5\" x2=\"279.1\" y1=\"170.8\" y2=\"132.7\" />\n",
       "<line stroke=\"rgb(0,0,0)\" stroke-width=\"2.0\" x1=\"279.1\" x2=\"240.0\" y1=\"132.7\" y2=\"124.4\" />\n",
       "<line stroke=\"rgb(0,0,0)\" stroke-width=\"2.0\" x1=\"240.0\" x2=\"227.6\" y1=\"124.4\" y2=\"86.4\" />\n",
       "<line stroke=\"rgb(0,0,0)\" stroke-width=\"2.0\" x1=\"227.6\" x2=\"188.5\" y1=\"86.4\" y2=\"78.0\" />\n",
       "<line stroke=\"rgb(0,0,0)\" stroke-width=\"2.0\" x1=\"188.5\" x2=\"180.2\" y1=\"78.0\" y2=\"52.4\" />\n",
       "<line stroke=\"rgb(0,0,0)\" stroke-width=\"2.0\" x1=\"291.5\" x2=\"330.6\" y1=\"170.8\" y2=\"179.1\" />\n",
       "<line stroke=\"rgb(0,0,0)\" stroke-width=\"2.0\" x1=\"328.4\" x2=\"346.4\" y1=\"177.1\" y2=\"157.0\" />\n",
       "<line stroke=\"rgb(0,0,0)\" stroke-width=\"2.0\" x1=\"332.8\" x2=\"350.9\" y1=\"181.1\" y2=\"161.0\" />\n",
       "<line stroke=\"rgb(0,0,0)\" stroke-width=\"2.0\" x1=\"330.6\" x2=\"338.9\" y1=\"179.1\" y2=\"204.8\" />\n",
       "<line stroke=\"rgb(0,0,0)\" stroke-width=\"2.0\" x1=\"381.0\" x2=\"413.4\" y1=\"229.5\" y2=\"206.0\" />\n",
       "<line stroke=\"rgb(0,0,0)\" stroke-width=\"2.0\" x1=\"410.4\" x2=\"407.6\" y1=\"206.3\" y2=\"179.4\" />\n",
       "<line stroke=\"rgb(0,0,0)\" stroke-width=\"2.0\" x1=\"416.3\" x2=\"413.5\" y1=\"205.7\" y2=\"178.8\" />\n",
       "<line stroke=\"rgb(0,0,0)\" stroke-width=\"2.0\" x1=\"413.4\" x2=\"438.0\" y1=\"206.0\" y2=\"216.9\" />\n",
       "<line stroke=\"rgb(0,0,0)\" stroke-width=\"2.0\" x1=\"451.3\" x2=\"454.1\" y1=\"235.2\" y2=\"262.0\" />\n",
       "<line stroke=\"rgb(0,0,0)\" stroke-width=\"2.0\" x1=\"454.1\" x2=\"490.6\" y1=\"262.0\" y2=\"278.3\" />\n",
       "<line stroke=\"rgb(0,0,0)\" stroke-width=\"2.0\" x1=\"488.9\" x2=\"510.7\" y1=\"275.9\" y2=\"260.0\" />\n",
       "<line stroke=\"rgb(0,0,0)\" stroke-width=\"2.0\" x1=\"492.4\" x2=\"514.2\" y1=\"280.7\" y2=\"264.8\" />\n",
       "<line stroke=\"rgb(0,0,0)\" stroke-width=\"2.0\" x1=\"490.6\" x2=\"493.4\" y1=\"278.3\" y2=\"305.1\" />\n",
       "<line stroke=\"rgb(0,0,0)\" stroke-width=\"2.0\" x1=\"506.7\" x2=\"531.3\" y1=\"323.4\" y2=\"334.3\" />\n",
       "<line stroke=\"rgb(0,0,0)\" stroke-width=\"2.0\" x1=\"531.3\" x2=\"535.5\" y1=\"334.3\" y2=\"374.1\" />\n",
       "<line stroke=\"rgb(0,0,0)\" stroke-width=\"2.0\" x1=\"536.7\" x2=\"561.4\" y1=\"371.4\" y2=\"382.4\" />\n",
       "<line stroke=\"rgb(0,0,0)\" stroke-width=\"2.0\" x1=\"534.3\" x2=\"559.0\" y1=\"376.9\" y2=\"387.8\" />\n",
       "<line stroke=\"rgb(0,0,0)\" stroke-width=\"2.0\" x1=\"535.5\" x2=\"513.7\" y1=\"374.1\" y2=\"390.0\" />\n",
       "<line stroke=\"rgb(0,0,0)\" stroke-width=\"2.0\" x1=\"504.5\" x2=\"507.3\" y1=\"410.6\" y2=\"437.4\" />\n",
       "<line stroke=\"rgb(0,0,0)\" stroke-width=\"2.0\" x1=\"507.3\" x2=\"543.9\" y1=\"437.4\" y2=\"453.7\" />\n",
       "<line stroke=\"rgb(0,0,0)\" stroke-width=\"2.0\" x1=\"542.1\" x2=\"564.0\" y1=\"451.3\" y2=\"435.4\" />\n",
       "<line stroke=\"rgb(0,0,0)\" stroke-width=\"2.0\" x1=\"545.7\" x2=\"567.5\" y1=\"456.1\" y2=\"440.2\" />\n",
       "<line stroke=\"rgb(0,0,0)\" stroke-width=\"2.0\" x1=\"543.9\" x2=\"546.7\" y1=\"453.7\" y2=\"480.5\" />\n",
       "<line stroke=\"rgb(0,0,0)\" stroke-width=\"2.0\" x1=\"559.9\" x2=\"584.6\" y1=\"498.7\" y2=\"509.7\" />\n",
       "<line stroke=\"rgb(0,0,0)\" stroke-width=\"2.0\" x1=\"584.6\" x2=\"617.0\" y1=\"509.7\" y2=\"486.2\" />\n",
       "<line stroke=\"rgb(0,0,0)\" stroke-width=\"2.0\" x1=\"617.0\" x2=\"653.5\" y1=\"486.2\" y2=\"502.5\" />\n",
       "<line stroke=\"rgb(0,0,0)\" stroke-width=\"2.0\" x1=\"584.6\" x2=\"588.8\" y1=\"509.7\" y2=\"549.5\" />\n",
       "<line stroke=\"rgb(0,0,0)\" stroke-width=\"2.0\" x1=\"590.0\" x2=\"614.7\" y1=\"546.8\" y2=\"557.8\" />\n",
       "<line stroke=\"rgb(0,0,0)\" stroke-width=\"2.0\" x1=\"587.6\" x2=\"612.2\" y1=\"552.3\" y2=\"563.2\" />\n",
       "<line stroke=\"rgb(0,0,0)\" stroke-width=\"2.0\" x1=\"588.8\" x2=\"566.9\" y1=\"549.5\" y2=\"565.4\" />\n",
       "<line stroke=\"rgb(0,0,0)\" stroke-width=\"2.0\" x1=\"135.0\" x2=\"109.3\" y1=\"114.8\" y2=\"123.2\" />\n",
       "<line stroke=\"rgb(0,0,0)\" stroke-width=\"2.0\" x1=\"109.3\" x2=\"109.3\" y1=\"123.2\" y2=\"163.2\" />\n",
       "<line stroke=\"rgb(0,0,0)\" stroke-width=\"2.0\" x1=\"116.5\" x2=\"116.5\" y1=\"129.2\" y2=\"157.2\" />\n",
       "<line stroke=\"rgb(0,0,0)\" stroke-width=\"2.0\" x1=\"109.3\" x2=\"147.3\" y1=\"163.2\" y2=\"175.5\" />\n",
       "<line stroke=\"rgb(0,0,0)\" stroke-width=\"2.0\" x1=\"147.3\" x2=\"170.8\" y1=\"175.5\" y2=\"143.2\" />\n",
       "<line stroke=\"rgb(0,0,0)\" stroke-width=\"2.0\" x1=\"145.0\" x2=\"161.5\" y1=\"166.4\" y2=\"143.8\" />\n",
       "<line stroke=\"rgb(0,0,0)\" stroke-width=\"2.0\" x1=\"170.8\" x2=\"155.0\" y1=\"143.2\" y2=\"121.3\" />\n",
       "<line stroke=\"rgb(0,0,0)\" stroke-width=\"2.0\" x1=\"40.0\" x2=\"40.0\" y1=\"123.2\" y2=\"163.2\" />\n",
       "<line stroke=\"rgb(0,0,0)\" stroke-width=\"2.0\" x1=\"40.0\" x2=\"74.6\" y1=\"163.2\" y2=\"183.2\" />\n",
       "<line stroke=\"rgb(0,0,0)\" stroke-width=\"2.0\" x1=\"48.8\" x2=\"73.0\" y1=\"159.9\" y2=\"173.9\" />\n",
       "<line stroke=\"rgb(0,0,0)\" stroke-width=\"2.0\" x1=\"74.6\" x2=\"109.3\" y1=\"183.2\" y2=\"163.2\" />\n",
       "<line stroke=\"rgb(0,0,0)\" stroke-width=\"2.0\" x1=\"109.3\" x2=\"74.6\" y1=\"123.2\" y2=\"103.2\" />\n",
       "<line stroke=\"rgb(0,0,0)\" stroke-width=\"2.0\" x1=\"74.6\" x2=\"40.0\" y1=\"103.2\" y2=\"123.2\" />\n",
       "<line stroke=\"rgb(0,0,0)\" stroke-width=\"2.0\" x1=\"73.0\" x2=\"48.8\" y1=\"112.4\" y2=\"126.4\" />\n",
       "<line stroke=\"rgb(0,0,0)\" stroke-width=\"2.0\" x1=\"694.2\" x2=\"726.6\" y1=\"558.5\" y2=\"535.0\" />\n",
       "<line stroke=\"rgb(0,0,0)\" stroke-width=\"2.0\" x1=\"694.9\" x2=\"717.5\" y1=\"549.2\" y2=\"532.7\" />\n",
       "<line stroke=\"rgb(0,0,0)\" stroke-width=\"2.0\" x1=\"726.6\" x2=\"722.4\" y1=\"535.0\" y2=\"495.2\" />\n",
       "<line stroke=\"rgb(0,0,0)\" stroke-width=\"2.0\" x1=\"722.4\" x2=\"685.9\" y1=\"495.2\" y2=\"479.0\" />\n",
       "<line stroke=\"rgb(0,0,0)\" stroke-width=\"2.0\" x1=\"714.0\" x2=\"688.4\" y1=\"499.4\" y2=\"488.0\" />\n",
       "<line stroke=\"rgb(0,0,0)\" stroke-width=\"2.0\" x1=\"685.9\" x2=\"653.5\" y1=\"479.0\" y2=\"502.5\" />\n",
       "<line stroke=\"rgb(0,0,0)\" stroke-width=\"2.0\" x1=\"653.5\" x2=\"657.7\" y1=\"502.5\" y2=\"542.3\" />\n",
       "<line stroke=\"rgb(0,0,0)\" stroke-width=\"2.0\" x1=\"661.3\" x2=\"664.2\" y1=\"507.7\" y2=\"535.6\" />\n",
       "<line stroke=\"rgb(0,0,0)\" stroke-width=\"2.0\" x1=\"657.7\" x2=\"694.2\" y1=\"542.3\" y2=\"558.5\" />\n",
       "<line stroke=\"rgb(0,0,0)\" stroke-width=\"2.0\" x1=\"381.0\" x2=\"343.0\" y1=\"269.5\" y2=\"281.8\" />\n",
       "<line stroke=\"rgb(0,0,0)\" stroke-width=\"2.0\" x1=\"343.0\" x2=\"319.4\" y1=\"281.8\" y2=\"249.5\" />\n",
       "<line stroke=\"rgb(0,0,0)\" stroke-width=\"2.0\" x1=\"319.4\" x2=\"335.3\" y1=\"249.5\" y2=\"227.6\" />\n",
       "<line stroke=\"rgb(0,0,0)\" stroke-width=\"2.0\" x1=\"355.3\" x2=\"381.0\" y1=\"221.1\" y2=\"229.5\" />\n",
       "<line stroke=\"rgb(0,0,0)\" stroke-width=\"2.0\" x1=\"381.0\" x2=\"381.0\" y1=\"229.5\" y2=\"269.5\" />\n",
       "<text fill=\"rgb(255,12,12)\" font-size=\"16\" stroke=\"rgb(255,12,12)\" stroke-width=\"1\" x=\"403.175615\" y=\"174.186839\">O</text>\n",
       "<text fill=\"rgb(12,12,255)\" font-size=\"16\" stroke=\"rgb(12,12,255)\" stroke-width=\"1\" x=\"443.898572\" y=\"230.237181\">NH</text>\n",
       "<text fill=\"rgb(255,12,12)\" font-size=\"16\" stroke=\"rgb(255,12,12)\" stroke-width=\"1\" x=\"516.982208\" y=\"262.776112\">O</text>\n",
       "<text fill=\"rgb(12,12,255)\" font-size=\"16\" stroke=\"rgb(12,12,255)\" stroke-width=\"1\" x=\"476.802667\" y=\"326.068398\">HN</text>\n",
       "<text fill=\"rgb(255,12,12)\" font-size=\"16\" stroke=\"rgb(255,12,12)\" stroke-width=\"1\" x=\"566.067442\" y=\"398.388206\">O</text>\n",
       "<text fill=\"rgb(12,12,255)\" font-size=\"16\" stroke=\"rgb(12,12,255)\" stroke-width=\"1\" x=\"485.164944\" y=\"405.630150\">HN</text>\n",
       "<text fill=\"rgb(12,12,255)\" font-size=\"16\" stroke=\"rgb(12,12,255)\" stroke-width=\"1\" x=\"336.953813\" y=\"225.118446\">N</text>\n",
       "<text fill=\"rgb(255,12,12)\" font-size=\"16\" stroke=\"rgb(255,12,12)\" stroke-width=\"1\" x=\"570.248581\" y=\"438.169081\">O</text>\n",
       "<text fill=\"rgb(12,12,255)\" font-size=\"16\" stroke=\"rgb(12,12,255)\" stroke-width=\"1\" x=\"530.069040\" y=\"501.461367\">HN</text>\n",
       "<text fill=\"rgb(255,12,12)\" font-size=\"16\" stroke=\"rgb(255,12,12)\" stroke-width=\"1\" x=\"619.333815\" y=\"573.781175\">O</text>\n",
       "<text fill=\"rgb(255,12,12)\" font-size=\"16\" stroke=\"rgb(255,12,12)\" stroke-width=\"1\" x=\"538.431317\" y=\"581.023119\">HO</text>\n",
       "<text fill=\"rgb(178,178,0)\" font-size=\"16\" stroke=\"rgb(178,178,0)\" stroke-width=\"1\" x=\"295.784044\" y=\"322.612292\">S</text>\n",
       "<text fill=\"rgb(102,102,102)\" font-size=\"16\" stroke=\"rgb(102,102,102)\" stroke-width=\"1\" x=\"310.144724\" y=\"360.654553\">CH</text>\n",
       "<text fill=\"rgb(102,102,102)\" font-size=\"13\" stroke=\"rgb(102,102,102)\" stroke-width=\"1\" x=\"334.144724\" y=\"364.334553\">3</text>\n",
       "<text fill=\"rgb(255,12,12)\" font-size=\"16\" stroke=\"rgb(255,12,12)\" stroke-width=\"1\" x=\"139.280428\" y=\"289.346422\">O</text>\n",
       "<text fill=\"rgb(12,12,255)\" font-size=\"16\" stroke=\"rgb(12,12,255)\" stroke-width=\"1\" x=\"205.171557\" y=\"267.937096\">NH</text>\n",
       "<text fill=\"rgb(12,12,255)\" font-size=\"16\" stroke=\"rgb(12,12,255)\" stroke-width=\"1\" x=\"141.324293\" y=\"118.814748\">N</text>\n",
       "<text fill=\"rgb(12,12,255)\" font-size=\"16\" stroke=\"rgb(12,12,255)\" stroke-width=\"1\" x=\"141.324293\" y=\"102.814748\">H</text>\n",
       "<text fill=\"rgb(12,12,255)\" font-size=\"16\" stroke=\"rgb(12,12,255)\" stroke-width=\"1\" x=\"144.001788\" y=\"365.430943\">H</text>\n",
       "<text fill=\"rgb(12,12,255)\" font-size=\"13\" stroke=\"rgb(12,12,255)\" stroke-width=\"1\" x=\"156.001788\" y=\"369.110943\">2</text>\n",
       "<text fill=\"rgb(12,12,255)\" font-size=\"16\" stroke=\"rgb(12,12,255)\" stroke-width=\"1\" x=\"162.501788\" y=\"365.430943\">N</text>\n",
       "<text fill=\"rgb(255,12,12)\" font-size=\"16\" stroke=\"rgb(255,12,12)\" stroke-width=\"1\" x=\"207.215421\" y=\"162.126782\">O</text>\n",
       "<text fill=\"rgb(12,12,255)\" font-size=\"16\" stroke=\"rgb(12,12,255)\" stroke-width=\"1\" x=\"258.702005\" y=\"208.485510\">N</text>\n",
       "<text fill=\"rgb(12,12,255)\" font-size=\"16\" stroke=\"rgb(12,12,255)\" stroke-width=\"1\" x=\"258.702005\" y=\"224.485510\">H</text>\n",
       "<text fill=\"rgb(12,12,255)\" font-size=\"16\" stroke=\"rgb(12,12,255)\" stroke-width=\"1\" x=\"150.133382\" y=\"48.000000\">H</text>\n",
       "<text fill=\"rgb(12,12,255)\" font-size=\"13\" stroke=\"rgb(12,12,255)\" stroke-width=\"1\" x=\"162.133382\" y=\"51.680000\">2</text>\n",
       "<text fill=\"rgb(12,12,255)\" font-size=\"16\" stroke=\"rgb(12,12,255)\" stroke-width=\"1\" x=\"168.633382\" y=\"48.000000\">N</text>\n",
       "<text fill=\"rgb(255,12,12)\" font-size=\"16\" stroke=\"rgb(255,12,12)\" stroke-width=\"1\" x=\"351.358358\" y=\"157.350392\">O</text>\n",
       "</svg>\n"
      ],
      "text/plain": [
       "<pybel.Molecule at 0x7f517fe5e518>"
      ]
     },
     "execution_count": 39,
     "metadata": {},
     "output_type": "execute_result"
    }
   ],
   "source": [
    "def peptide_bond(a1,a2):\n",
    "    prot = a1[:len(a1)-1] + a2\n",
    "    return prot\n",
    "\n",
    "Gly = \"NCC(=O)O\"\n",
    "Ala = \"NC(C)C(=O)O\"\n",
    "Val = \"NC(C(C)(C))C(=O)O\"\n",
    "Ile = \"NC(C(C)(CC))C(=O)O\"\n",
    "Leu = \"NC(CC(C)(C))C(=O)O\"\n",
    "Met = \"NC(CCSC)C(=O)O\"\n",
    "Phe = \"NC(C(c1ccccc1))C(=O)O\"\n",
    "Tyr = \"NC(C(c1ccc(O)cc1))C(=O)O\"\n",
    "Trp = \"NC(CC1=CNC2=C1C=CC=C2)C(=O)O\"\n",
    "Ser = \"NC(CO)C(=O)O\"\n",
    "Thr = \"NC(C(O)C)C(=O)O\"\n",
    "Asn = \"NC(CC(N)=O)C(=O)O\"\n",
    "Gln = \"NC(CCC(N)=O)C(=O)O\"\n",
    "Arg = \"NC(CCCNC(N)=N)C(=O)O\"\n",
    "His = \"NC(CC1=CNC=N1)C(=O)O\"\n",
    "Lys = \"NC(CCCCN)C(=O)O\"\n",
    "Asp = \"NC(CC(O)=O)C(=O)O\"\n",
    "Glu = \"NC(CCC(O)=O)C(=O)O\"\n",
    "Cys = \"NC(CS)C(=O)O\"\n",
    "Pro = \"N1C(CCC1)C(=O)O\"\n",
    "\n",
    "main_str = input()\n",
    "protein = \"\"\n",
    "\n",
    "for i in range(len(main_str) // 3):\n",
    "    a = main_str[3*i:3*(i+1)]\n",
    "    protein = peptide_bond(protein, eval(a))\n",
    "mol = rs(\"smi\", protein)\n",
    "mol"
   ]
  },
  {
   "cell_type": "code",
   "execution_count": 40,
   "metadata": {},
   "outputs": [
    {
     "data": {
      "text/html": [
       "<div id=\"molecule_a07cbdff-622c-4500-9fba-26be742ea138\"></div>\n",
       "           <script type=\"text/javascript\">\n",
       "           require.config({baseUrl: '/',\n",
       "                           paths: {imolecule: ['nbextensions/imolecule.min', 'https://rawgit.com/patrickfuller/imolecule/master/imolecule/js/build/imolecule.min']}});\n",
       "           require(['imolecule'], function () {\n",
       "               var $d = $('#molecule_a07cbdff-622c-4500-9fba-26be742ea138');\n",
       "               $d.width(400); $d.height(300);\n",
       "               $d.imolecule = jQuery.extend({}, imolecule);\n",
       "               $d.imolecule.create($d, {drawingType: 'ball and stick',\n",
       "                                        cameraType: 'perspective',\n",
       "                                        shader: 'lambert',\n",
       "                                        showSave: false});\n",
       "               $d.imolecule.addElements({});\n",
       "               $d.imolecule.draw({\"atoms\":[{\"charge\":-0.31992049454977417,\"element\":\"N\",\"location\":[-5.16895288403246,-0.6241446597756979,-7.368431240482229]},{\"charge\":0.08303023129286535,\"element\":\"C\",\"location\":[-3.692480404882654,-0.4740697931688602,-7.343274378902799]},{\"charge\":-0.020204016059843937,\"element\":\"C\",\"location\":[-3.238848482497702,0.9162100054153226,-7.781489735997601]},{\"charge\":-0.004721308224809332,\"element\":\"C\",\"location\":[-3.7181320932066497,1.33995889364084,-9.16312981555968]},{\"charge\":-0.16406430203063838,\"element\":\"S\",\"location\":[-3.0389507379441936,3.001340736925535,-9.482714919564966]},{\"charge\":-0.018101743302917476,\"element\":\"C\",\"location\":[-3.752195619153331,3.322519628462526,-11.109003555294482]},{\"charge\":0.23047333184017968,\"element\":\"C\",\"location\":[-3.1931738871026103,-0.613764604838394,-5.875235820998175]},{\"charge\":-0.27409109690521716,\"element\":\"O\",\"location\":[-3.9292046591355456,-0.2900180465956581,-4.941992380250318]},{\"charge\":-0.3024061146229378,\"element\":\"N\",\"location\":[-1.8866629095829763,-1.031007972751823,-5.684686837549191]},{\"charge\":0.10341464911956175,\"element\":\"C\",\"location\":[-1.3590537328621597,-1.4693380248549415,-4.354982564605473]},{\"charge\":0.0013254176986541915,\"element\":\"C\",\"location\":[-1.8652141749345388,-2.8694158386558217,-3.970374731270922]},{\"charge\":-0.02014052360617458,\"element\":\"C\",\"location\":[-3.346056872094297,-2.985811925757789,-3.9177630205502645]},{\"charge\":0.005978924759431953,\"element\":\"C\",\"location\":[-4.1652285661403665,-3.354626897818694,-4.968215412486101]},{\"charge\":-0.36036633229278286,\"element\":\"N\",\"location\":[-5.458358592830459,-3.1085292897798658,-4.5962144798347655]},{\"charge\":0.046730871794305386,\"element\":\"C\",\"location\":[-5.5073565389212815,-2.7028162223069665,-3.2822743070268645]},{\"charge\":0.002891478221148399,\"element\":\"C\",\"location\":[-4.1906975062844865,-2.602455540426187,-2.8335819685238324]},{\"charge\":-0.05232538304578399,\"element\":\"C\",\"location\":[-3.950846800392455,-2.1163792848154506,-1.5330868670241946]},{\"charge\":-0.061066425420466426,\"element\":\"C\",\"location\":[-5.035556461755689,-1.8152459784554644,-0.7052376151873885]},{\"charge\":-0.059783830777398426,\"element\":\"C\",\"location\":[-6.34117956358961,-1.948585584201379,-1.1722503251024348]},{\"charge\":-0.03779081467650334,\"element\":\"C\",\"location\":[-6.6028628906508535,-2.3687809291310806,-2.4802012667056514]},{\"charge\":0.23426743349318316,\"element\":\"C\",\"location\":[0.18477100370239796,-1.6389348206621486,-4.425461047359733]},{\"charge\":-0.27375131149443643,\"element\":\"O\",\"location\":[0.717122605569255,-1.7439181153900878,-5.535291210081645]},{\"charge\":-0.30245869403967923,\"element\":\"N\",\"location\":[0.9093834389807904,-1.6967554599206403,-3.22966955183116]},{\"charge\":0.09962368184400576,\"element\":\"C\",\"location\":[2.4126529958475933,-1.685961997538159,-3.1475947330986633]},{\"charge\":-0.025923661602067178,\"element\":\"C\",\"location\":[2.958591870395293,-0.2903816841786659,-3.502174629055025]},{\"charge\":-0.04978228307478154,\"element\":\"C\",\"location\":[2.507313215191197,0.20202566561545937,-4.862883056135866]},{\"charge\":-0.04057878516797719,\"element\":\"C\",\"location\":[3.0360297001540184,1.5605938809559312,-5.24999104779244]},{\"charge\":-0.006903868186549166,\"element\":\"C\",\"location\":[2.476910721827829,1.9063566279929431,-6.62837497028732]},{\"charge\":-0.3299786123670623,\"element\":\"N\",\"location\":[2.9294361128685305,3.234716383714402,-7.000188251217048]},{\"charge\":0.23651390724291152,\"element\":\"C\",\"location\":[2.9995049999915286,-2.1072857005550256,-1.7267033033253991]},{\"charge\":-0.27354494924613926,\"element\":\"O\",\"location\":[2.2591370140277744,-2.4794151817429975,-0.8161176234113148]},{\"charge\":-0.28839730005643316,\"element\":\"N\",\"location\":[4.385413463446192,-2.1496131587123593,-1.6092365851198922]},{\"charge\":0.10225622274128829,\"element\":\"C\",\"location\":[5.266525977264348,-1.0375753480155923,-1.2114351923347044]},{\"charge\":-0.024342961324886836,\"element\":\"C\",\"location\":[6.5550082829711345,-1.4535347210675198,-1.9430311840902288]},{\"charge\":-0.034988307218824004,\"element\":\"C\",\"location\":[6.60233257254228,-2.977308246717738,-1.7528591063062144]},{\"charge\":0.015577605110847804,\"element\":\"C\",\"location\":[5.1436072275560045,-3.3902069340877863,-1.4965222698337008]},{\"charge\":0.23396262374386784,\"element\":\"C\",\"location\":[5.568755509978428,-0.8799176365780261,0.32563044822950005]},{\"charge\":-0.2737625727710404,\"element\":\"O\",\"location\":[6.692944650901791,-1.0688373348095046,0.7946338370645059]},{\"charge\":-0.3051868045538736,\"element\":\"N\",\"location\":[4.5371219043103155,-0.44940468043089565,1.1296359978149475]},{\"charge\":0.08815998976179766,\"element\":\"C\",\"location\":[4.711593768599575,-0.25839127357388547,2.578856679020518]},{\"charge\":0.2305884298895698,\"element\":\"C\",\"location\":[3.403057968517751,0.1999111469156844,3.268866535476276]},{\"charge\":-0.274086272826636,\"element\":\"O\",\"location\":[2.369846073560402,0.382630381027046,2.6236749976847182]},{\"charge\":-0.3054287727884036,\"element\":\"N\",\"location\":[3.456417137571557,0.39655322452843683,4.6368876055849775]},{\"charge\":0.08815086063902577,\"element\":\"C\",\"location\":[2.2871266144832108,0.8232342759213089,5.4286771939978955]},{\"charge\":0.2305883052563523,\"element\":\"C\",\"location\":[2.638060962338744,0.9581354112664529,6.936139631895109]},{\"charge\":-0.274086273373548,\"element\":\"O\",\"location\":[3.7817468989404643,0.7402729011312204,7.341673497475037]},{\"charge\":-0.30542867438779353,\"element\":\"N\",\"location\":[1.6266948788857656,1.3239055029322875,7.801569875183537]},{\"charge\":0.08815866405213778,\"element\":\"C\",\"location\":[1.863856562694731,1.540733126990498,9.24837802260351]},{\"charge\":0.23083916773317906,\"element\":\"C\",\"location\":[0.6453759496521334,2.2162219314337914,9.890846661202538]},{\"charge\":-0.27407845816148113,\"element\":\"O\",\"location\":[-0.095256773986236,2.877709224068947,9.156295098147915]},{\"charge\":-0.30080963312565295,\"element\":\"N\",\"location\":[0.4536918006171131,2.13053707177757,11.256396985466885]},{\"charge\":0.12423372451542132,\"element\":\"C\",\"location\":[-0.7834376524057252,2.6115875043311254,11.962803173377289]},{\"charge\":0.0012138933996237405,\"element\":\"C\",\"location\":[-1.9710200392684474,1.6198650857799999,11.794385702753814]},{\"charge\":-0.04507573270639912,\"element\":\"C\",\"location\":[-2.408884266050739,1.408700535414008,10.359316644552514]},{\"charge\":-0.058500466842365255,\"element\":\"C\",\"location\":[-2.3737660496523985,0.12265974667853002,9.806496976419599]},{\"charge\":-0.06150044603004511,\"element\":\"C\",\"location\":[-2.362885842736567,-0.04169649389921043,8.419898182665909]},{\"charge\":-0.06174169957303583,\"element\":\"C\",\"location\":[-2.4777897419810047,1.0638803107758406,7.579806305365436]},{\"charge\":-0.06150044603004511,\"element\":\"C\",\"location\":[-2.6867471695536826,2.3267671465541766,8.12550094124168]},{\"charge\":-0.058500466842365255,\"element\":\"C\",\"location\":[-2.6653028382716375,2.4994881929846624,9.513591614036475]},{\"charge\":0.3255823634625298,\"element\":\"C\",\"location\":[-0.47895168191634063,2.7845546967997468,13.469185663299278]},{\"charge\":-0.24890255068795367,\"element\":\"O\",\"location\":[0.6329513137489755,2.58908756875867,13.94901535732425]},{\"charge\":-0.4793199121788233,\"element\":\"O\",\"location\":[-1.5038565544365463,3.207852055527284,14.247265616590298]},{\"charge\":0.11889989614826187,\"element\":\"H\",\"location\":[-5.570681412402136,-0.30677711342716507,-8.245944952951714]},{\"charge\":0.11889989614826187,\"element\":\"H\",\"location\":[-5.5417933791813745,-0.007751804821680641,-6.637122551044039]},{\"charge\":0.05544093495743774,\"element\":\"H\",\"location\":[-3.2660167505768465,-1.2594873217982192,-7.978203626904315]},{\"charge\":0.029275604306522516,\"element\":\"H\",\"location\":[-2.1410019459902783,0.9336927115341791,-7.74943182171825]},{\"charge\":0.029275604306522516,\"element\":\"H\",\"location\":[-3.5816743747616098,1.6429275575168476,-7.030936748909694]},{\"charge\":0.03767879486998338,\"element\":\"H\",\"location\":[-4.810159646338252,1.3953995075730177,-9.201102392390327]},{\"charge\":0.03767879486998338,\"element\":\"H\",\"location\":[-3.3702755581744412,0.6317169962168385,-9.921374299117335]},{\"charge\":0.03404900442685991,\"element\":\"H\",\"location\":[-3.429752207209525,4.317912295759582,-11.425874555252157]},{\"charge\":0.03404900442685991,\"element\":\"H\",\"location\":[-4.844673036192447,3.309741435045159,-11.074097782326566]},{\"charge\":0.03404900442685991,\"element\":\"H\",\"location\":[-3.3916117877971015,2.5937587812099725,-11.838573056817756]},{\"charge\":0.1495086020030108,\"element\":\"H\",\"location\":[-1.2132019926702382,-0.969174448192494,-6.44111254551926]},{\"charge\":0.05977040660326561,\"element\":\"H\",\"location\":[-1.6307413545804028,-0.6989184679333272,-3.622626457474179]},{\"charge\":0.03365279245868353,\"element\":\"H\",\"location\":[-1.4437651924899395,-3.1569752011955217,-3.0002059310930864]},{\"charge\":0.03365279245868353,\"element\":\"H\",\"location\":[-1.478508815081792,-3.5937213776577845,-4.699612118255287]},{\"charge\":0.08097464874413564,\"element\":\"H\",\"location\":[-3.927914438549651,-3.6181971813236835,-5.990623820081343]},{\"charge\":0.16534284832534552,\"element\":\"H\",\"location\":[-6.251276606864079,-3.138193572811089,-5.220629453955164]},{\"charge\":0.062417048386827274,\"element\":\"H\",\"location\":[-2.9367459953315436,-1.97501979760976,-1.1740123736670096]},{\"charge\":0.061777540012787464,\"element\":\"H\",\"location\":[-4.853633761225751,-1.4681616483029032,0.3080661365593169]},{\"charge\":0.061821961001290046,\"element\":\"H\",\"location\":[-7.17177572881511,-1.7107457243247624,-0.5132383069550315]},{\"charge\":0.06382105814102891,\"element\":\"H\",\"location\":[-7.6180287452851605,-2.4312830800401146,-2.8553375943886152]},{\"charge\":0.14950695497053748,\"element\":\"H\",\"location\":[0.42543074999087516,-1.8629431179776657,-2.352489949011166]},{\"charge\":0.05944719804690906,\"element\":\"H\",\"location\":[2.7685052707492064,-2.4296033252113167,-3.8730545213921705]},{\"charge\":0.028778504578874965,\"element\":\"H\",\"location\":[4.051128262927798,-0.3094516121502282,-3.509681872015529]},{\"charge\":0.028778504578874965,\"element\":\"H\",\"location\":[2.6431654058982046,0.42293772003834357,-2.7310464823787433]},{\"charge\":0.026636842331752137,\"element\":\"H\",\"location\":[1.4246699795487316,0.33267707182808265,-4.850575974137527]},{\"charge\":0.026636842331752137,\"element\":\"H\",\"location\":[2.7896149948163407,-0.5348171501566612,-5.625096064668634]},{\"charge\":0.027742730056777284,\"element\":\"H\",\"location\":[4.130263908833274,1.5582553749538004,-5.253810090575994]},{\"charge\":0.027742730056777284,\"element\":\"H\",\"location\":[2.6959591626468677,2.292730770671201,-4.507646331140772]},{\"charge\":0.04217944569800818,\"element\":\"H\",\"location\":[1.378956497895981,1.8796086380982713,-6.6177192536102405]},{\"charge\":0.04217944569800818,\"element\":\"H\",\"location\":[2.8083602811317805,1.1721162208688722,-7.372285470290026]},{\"charge\":0.11821323201778886,\"element\":\"H\",\"location\":[2.563056296906079,3.905325571194059,-6.32544415535725]},{\"charge\":0.11821323201778886,\"element\":\"H\",\"location\":[2.522853798818308,3.483823561876519,-7.899818510748425]},{\"charge\":0.059659369671735116,\"element\":\"H\",\"location\":[4.884569427771036,-0.07820047661857754,-1.5655164754417275]},{\"charge\":0.028833172350275365,\"element\":\"H\",\"location\":[7.465742635669851,-0.963416882867999,-1.5841665949888197]},{\"charge\":0.028833172350275365,\"element\":\"H\",\"location\":[6.469192967239475,-1.2362365011245677,-3.0161348503018806]},{\"charge\":0.02810489611997144,\"element\":\"H\",\"location\":[7.240694580291307,-3.2425320401056834,-0.9011961633833119]},{\"charge\":0.02810489611997144,\"element\":\"H\",\"location\":[7.024415288245087,-3.4750902989581767,-2.6334156601716243]},{\"charge\":0.04646414376691165,\"element\":\"H\",\"location\":[5.037641445274832,-3.793630341012575,-0.48258493483132625]},{\"charge\":0.04646414376691165,\"element\":\"H\",\"location\":[4.783357615429771,-4.13520784308354,-2.2109619920180643]},{\"charge\":0.14924228324391534,\"element\":\"H\",\"location\":[3.5953245768161475,-0.355934550254586,0.761757983983296]},{\"charge\":0.05577145716663427,\"element\":\"H\",\"location\":[5.493817145728282,0.49402059418331584,2.7338770053777406]},{\"charge\":0.05577145716663427,\"element\":\"H\",\"location\":[5.047329286426714,-1.2079847077978079,3.009845173272087]},{\"charge\":0.14923320672325122,\"element\":\"H\",\"location\":[4.317878585129345,0.2523759797125558,5.156954737874152]},{\"charge\":0.05577133715789232,\"element\":\"H\",\"location\":[1.4968572190948226,0.07745469282439627,5.293868027940277]},{\"charge\":0.05577133715789232,\"element\":\"H\",\"location\":[1.9433237602292488,1.7853247688687564,5.034255194379439]},{\"charge\":0.14923320714647806,\"element\":\"H\",\"location\":[0.7045390775121785,1.5900433059812102,7.4601117464318705]},{\"charge\":0.05577143206249381,\"element\":\"H\",\"location\":[2.706049343497331,2.2296192168015287,9.356889640798052]},{\"charge\":0.05577143206249381,\"element\":\"H\",\"location\":[2.0958890274030333,0.5775430975923419,9.709957575462877]},{\"charge\":0.1495662391225121,\"element\":\"H\",\"location\":[1.2694974837939172,2.002847988230388,11.852853747560133]},{\"charge\":0.06175523749810072,\"element\":\"H\",\"location\":[-1.0274324187524266,3.608322398917952,11.57646391524585]},{\"charge\":0.0336512470634793,\"element\":\"H\",\"location\":[-2.847128825548152,1.9420284733847022,12.369282610031327]},{\"charge\":0.0336512470634793,\"element\":\"H\",\"location\":[-1.6659352601319677,0.6573631866613474,12.22915005634248]},{\"charge\":0.06202967384305552,\"element\":\"H\",\"location\":[-2.259516968063895,-0.7517542971062001,10.4424382683961]},{\"charge\":0.06176644949052326,\"element\":\"H\",\"location\":[-2.202385772024391,-1.0285692393383707,7.994679805487781]},{\"charge\":0.06175835551347513,\"element\":\"H\",\"location\":[-2.3637899640066875,0.9503050934497543,6.505298402550391]},{\"charge\":0.06176644949052326,\"element\":\"H\",\"location\":[-2.71794138053509,3.201135570908852,7.479090453734557]},{\"charge\":0.06202967384305552,\"element\":\"H\",\"location\":[-2.6219718716169313,3.5199897187177434,9.890450165671862]},{\"charge\":0.29511310819325515,\"element\":\"H\",\"location\":[-2.362820094402155,3.394901339476958,13.823660847907512]}],\"bonds\":[{\"atoms\":[0,1],\"order\":1},{\"atoms\":[1,2],\"order\":1},{\"atoms\":[2,3],\"order\":1},{\"atoms\":[3,4],\"order\":1},{\"atoms\":[4,5],\"order\":1},{\"atoms\":[1,6],\"order\":1},{\"atoms\":[6,7],\"order\":2},{\"atoms\":[6,8],\"order\":1},{\"atoms\":[8,9],\"order\":1},{\"atoms\":[9,10],\"order\":1},{\"atoms\":[10,11],\"order\":1},{\"atoms\":[11,12],\"order\":2},{\"atoms\":[12,13],\"order\":1},{\"atoms\":[13,14],\"order\":1},{\"atoms\":[14,15],\"order\":2},{\"atoms\":[11,15],\"order\":1},{\"atoms\":[15,16],\"order\":1},{\"atoms\":[16,17],\"order\":2},{\"atoms\":[17,18],\"order\":1},{\"atoms\":[18,19],\"order\":2},{\"atoms\":[14,19],\"order\":1},{\"atoms\":[9,20],\"order\":1},{\"atoms\":[20,21],\"order\":2},{\"atoms\":[20,22],\"order\":1},{\"atoms\":[22,23],\"order\":1},{\"atoms\":[23,24],\"order\":1},{\"atoms\":[24,25],\"order\":1},{\"atoms\":[25,26],\"order\":1},{\"atoms\":[26,27],\"order\":1},{\"atoms\":[27,28],\"order\":1},{\"atoms\":[23,29],\"order\":1},{\"atoms\":[29,30],\"order\":2},{\"atoms\":[29,31],\"order\":1},{\"atoms\":[31,32],\"order\":1},{\"atoms\":[32,33],\"order\":1},{\"atoms\":[33,34],\"order\":1},{\"atoms\":[34,35],\"order\":1},{\"atoms\":[31,35],\"order\":1},{\"atoms\":[32,36],\"order\":1},{\"atoms\":[36,37],\"order\":2},{\"atoms\":[36,38],\"order\":1},{\"atoms\":[38,39],\"order\":1},{\"atoms\":[39,40],\"order\":1},{\"atoms\":[40,41],\"order\":2},{\"atoms\":[40,42],\"order\":1},{\"atoms\":[42,43],\"order\":1},{\"atoms\":[43,44],\"order\":1},{\"atoms\":[44,45],\"order\":2},{\"atoms\":[44,46],\"order\":1},{\"atoms\":[46,47],\"order\":1},{\"atoms\":[47,48],\"order\":1},{\"atoms\":[48,49],\"order\":2},{\"atoms\":[48,50],\"order\":1},{\"atoms\":[50,51],\"order\":1},{\"atoms\":[51,52],\"order\":1},{\"atoms\":[52,53],\"order\":1},{\"atoms\":[53,54],\"order\":2},{\"atoms\":[54,55],\"order\":1},{\"atoms\":[55,56],\"order\":2},{\"atoms\":[56,57],\"order\":1},{\"atoms\":[57,58],\"order\":2},{\"atoms\":[53,58],\"order\":1},{\"atoms\":[51,59],\"order\":1},{\"atoms\":[59,60],\"order\":2},{\"atoms\":[59,61],\"order\":1},{\"atoms\":[0,62],\"order\":1},{\"atoms\":[0,63],\"order\":1},{\"atoms\":[1,64],\"order\":1},{\"atoms\":[2,65],\"order\":1},{\"atoms\":[2,66],\"order\":1},{\"atoms\":[3,67],\"order\":1},{\"atoms\":[3,68],\"order\":1},{\"atoms\":[5,69],\"order\":1},{\"atoms\":[5,70],\"order\":1},{\"atoms\":[5,71],\"order\":1},{\"atoms\":[8,72],\"order\":1},{\"atoms\":[9,73],\"order\":1},{\"atoms\":[10,74],\"order\":1},{\"atoms\":[10,75],\"order\":1},{\"atoms\":[12,76],\"order\":1},{\"atoms\":[13,77],\"order\":1},{\"atoms\":[16,78],\"order\":1},{\"atoms\":[17,79],\"order\":1},{\"atoms\":[18,80],\"order\":1},{\"atoms\":[19,81],\"order\":1},{\"atoms\":[22,82],\"order\":1},{\"atoms\":[23,83],\"order\":1},{\"atoms\":[24,84],\"order\":1},{\"atoms\":[24,85],\"order\":1},{\"atoms\":[25,86],\"order\":1},{\"atoms\":[25,87],\"order\":1},{\"atoms\":[26,88],\"order\":1},{\"atoms\":[26,89],\"order\":1},{\"atoms\":[27,90],\"order\":1},{\"atoms\":[27,91],\"order\":1},{\"atoms\":[28,92],\"order\":1},{\"atoms\":[28,93],\"order\":1},{\"atoms\":[32,94],\"order\":1},{\"atoms\":[33,95],\"order\":1},{\"atoms\":[33,96],\"order\":1},{\"atoms\":[34,97],\"order\":1},{\"atoms\":[34,98],\"order\":1},{\"atoms\":[35,99],\"order\":1},{\"atoms\":[35,100],\"order\":1},{\"atoms\":[38,101],\"order\":1},{\"atoms\":[39,102],\"order\":1},{\"atoms\":[39,103],\"order\":1},{\"atoms\":[42,104],\"order\":1},{\"atoms\":[43,105],\"order\":1},{\"atoms\":[43,106],\"order\":1},{\"atoms\":[46,107],\"order\":1},{\"atoms\":[47,108],\"order\":1},{\"atoms\":[47,109],\"order\":1},{\"atoms\":[50,110],\"order\":1},{\"atoms\":[51,111],\"order\":1},{\"atoms\":[52,112],\"order\":1},{\"atoms\":[52,113],\"order\":1},{\"atoms\":[54,114],\"order\":1},{\"atoms\":[55,115],\"order\":1},{\"atoms\":[56,116],\"order\":1},{\"atoms\":[57,117],\"order\":1},{\"atoms\":[58,118],\"order\":1},{\"atoms\":[61,119],\"order\":1}],\"formula\":\"C42H58N10O9S\",\"molecular_weight\":879.0365199999984,\"units\":{\"molecular_weight\":\"g / mol\"}});\n",
       "\n",
       "               $d.resizable({\n",
       "                   aspectRatio: 400 / 300,\n",
       "                   resize: function (evt, ui) {\n",
       "                       $d.imolecule.renderer.setSize(ui.size.width,\n",
       "                                                     ui.size.height);\n",
       "                   }\n",
       "               });\n",
       "           });\n",
       "           </script>"
      ],
      "text/plain": [
       "<pybel.Molecule at 0x7f517fe5e518>"
      ]
     },
     "execution_count": 40,
     "metadata": {},
     "output_type": "execute_result"
    }
   ],
   "source": [
    "mol.make3D()\n",
    "pybel.ipython_3d = True\n",
    "mol"
   ]
  },
  {
   "cell_type": "code",
   "execution_count": 42,
   "metadata": {
    "collapsed": true
   },
   "outputs": [],
   "source": [
    "pybel.ipython_3d = False"
   ]
  },
  {
   "cell_type": "markdown",
   "metadata": {},
   "source": [
    "El almidón, la celulosa, la seda y el <strong>ADN</strong> son ejemplos de polímeros naturales y el nailon, el polietileno y la baquelita de polímeros sintéticos."
   ]
  },
  {
   "cell_type": "code",
   "execution_count": 43,
   "metadata": {},
   "outputs": [
    {
     "name": "stdout",
     "output_type": "stream",
     "text": [
      "ATGCATAT\n"
     ]
    },
    {
     "data": {
      "image/svg+xml": [
       "<svg xmlns=\"http://www.w3.org/2000/svg\" font-family=\"sans-serif\" height=\"100\" stroke=\"rgb(0,0,0)\" stroke-linecap=\"round\" stroke-width=\"2\" viewBox=\"0 0 1282.04 728.559\" width=\"100\" x=\"0\" y=\"0\">\n",
       "<line stroke=\"rgb(0,0,0)\" stroke-width=\"2.0\" x1=\"173.1\" x2=\"173.1\" y1=\"364.4\" y2=\"350.4\" />\n",
       "<line stroke=\"rgb(0,0,0)\" stroke-width=\"2.0\" x1=\"186.1\" x2=\"200.1\" y1=\"337.4\" y2=\"337.4\" />\n",
       "<line stroke=\"rgb(0,0,0)\" stroke-width=\"2.0\" x1=\"170.1\" x2=\"170.1\" y1=\"324.4\" y2=\"310.4\" />\n",
       "<line stroke=\"rgb(0,0,0)\" stroke-width=\"2.0\" x1=\"176.1\" x2=\"176.1\" y1=\"324.4\" y2=\"310.4\" />\n",
       "<line stroke=\"rgb(0,0,0)\" stroke-width=\"2.0\" x1=\"160.1\" x2=\"146.1\" y1=\"337.4\" y2=\"337.4\" />\n",
       "<line stroke=\"rgb(0,0,0)\" stroke-width=\"2.0\" x1=\"126.6\" x2=\"113.1\" y1=\"326.1\" y2=\"302.7\" />\n",
       "<line stroke=\"rgb(0,0,0)\" stroke-width=\"2.0\" x1=\"113.1\" x2=\"133.1\" y1=\"302.7\" y2=\"268.1\" />\n",
       "<line stroke=\"rgb(0,0,0)\" stroke-width=\"2.0\" x1=\"146.6\" x2=\"143.8\" y1=\"204.8\" y2=\"177.9\" />\n",
       "<line stroke=\"rgb(0,0,0)\" stroke-width=\"2.0\" x1=\"86.4\" x2=\"92.0\" y1=\"79.1\" y2=\"52.7\" />\n",
       "<line stroke=\"rgb(0,0,0)\" stroke-width=\"2.0\" x1=\"172.9\" x2=\"191.0\" y1=\"263.9\" y2=\"284.0\" />\n",
       "<line stroke=\"rgb(0,0,0)\" stroke-width=\"2.0\" x1=\"212.4\" x2=\"226.1\" y1=\"290.9\" y2=\"288.0\" />\n",
       "<line stroke=\"rgb(0,0,0)\" stroke-width=\"2.0\" x1=\"236.1\" x2=\"233.2\" y1=\"272.6\" y2=\"258.9\" />\n",
       "<line stroke=\"rgb(0,0,0)\" stroke-width=\"2.0\" x1=\"250.9\" x2=\"264.6\" y1=\"279.7\" y2=\"276.8\" />\n",
       "<line stroke=\"rgb(0,0,0)\" stroke-width=\"2.0\" x1=\"252.1\" x2=\"265.8\" y1=\"285.6\" y2=\"282.7\" />\n",
       "<line stroke=\"rgb(0,0,0)\" stroke-width=\"2.0\" x1=\"241.5\" x2=\"244.4\" y1=\"298.0\" y2=\"311.7\" />\n",
       "<line stroke=\"rgb(0,0,0)\" stroke-width=\"2.0\" x1=\"259.5\" x2=\"285.2\" y1=\"328.5\" y2=\"336.8\" />\n",
       "<line stroke=\"rgb(0,0,0)\" stroke-width=\"2.0\" x1=\"285.2\" x2=\"293.5\" y1=\"336.8\" y2=\"375.9\" />\n",
       "<line stroke=\"rgb(0,0,0)\" stroke-width=\"2.0\" x1=\"286.7\" x2=\"275.7\" y1=\"440.3\" y2=\"465.0\" />\n",
       "<line stroke=\"rgb(0,0,0)\" stroke-width=\"2.0\" x1=\"214.4\" x2=\"187.5\" y1=\"517.6\" y2=\"520.4\" />\n",
       "<line stroke=\"rgb(0,0,0)\" stroke-width=\"2.0\" x1=\"240.6\" x2=\"229.7\" y1=\"551.2\" y2=\"575.8\" />\n",
       "<line stroke=\"rgb(0,0,0)\" stroke-width=\"2.0\" x1=\"235.2\" x2=\"224.2\" y1=\"548.7\" y2=\"573.4\" />\n",
       "<line stroke=\"rgb(0,0,0)\" stroke-width=\"2.0\" x1=\"293.6\" x2=\"320.5\" y1=\"506.2\" y2=\"503.4\" />\n",
       "<line stroke=\"rgb(0,0,0)\" stroke-width=\"2.0\" x1=\"294.3\" x2=\"321.1\" y1=\"512.2\" y2=\"509.4\" />\n",
       "<line stroke=\"rgb(0,0,0)\" stroke-width=\"2.0\" x1=\"330.0\" x2=\"353.4\" y1=\"392.2\" y2=\"378.7\" />\n",
       "<line stroke=\"rgb(0,0,0)\" stroke-width=\"2.0\" x1=\"375.9\" x2=\"388.0\" y1=\"378.7\" y2=\"385.7\" />\n",
       "<line stroke=\"rgb(0,0,0)\" stroke-width=\"2.0\" x1=\"405.8\" x2=\"412.8\" y1=\"381.0\" y2=\"368.8\" />\n",
       "<line stroke=\"rgb(0,0,0)\" stroke-width=\"2.0\" x1=\"412.1\" x2=\"424.2\" y1=\"396.1\" y2=\"403.1\" />\n",
       "<line stroke=\"rgb(0,0,0)\" stroke-width=\"2.0\" x1=\"409.1\" x2=\"421.2\" y1=\"401.3\" y2=\"408.3\" />\n",
       "<line stroke=\"rgb(0,0,0)\" stroke-width=\"2.0\" x1=\"392.8\" x2=\"385.8\" y1=\"403.5\" y2=\"415.6\" />\n",
       "<line stroke=\"rgb(0,0,0)\" stroke-width=\"2.0\" x1=\"385.8\" x2=\"399.3\" y1=\"438.1\" y2=\"461.5\" />\n",
       "<line stroke=\"rgb(0,0,0)\" stroke-width=\"2.0\" x1=\"399.3\" x2=\"439.3\" y1=\"461.5\" y2=\"461.5\" />\n",
       "<line stroke=\"rgb(0,0,0)\" stroke-width=\"2.0\" x1=\"500.9\" x2=\"522.7\" y1=\"481.5\" y2=\"497.4\" />\n",
       "<line stroke=\"rgb(0,0,0)\" stroke-width=\"2.0\" x1=\"511.8\" x2=\"491.7\" y1=\"610.9\" y2=\"629.0\" />\n",
       "<line stroke=\"rgb(0,0,0)\" stroke-width=\"2.0\" x1=\"580.5\" x2=\"606.2\" y1=\"593.6\" y2=\"602.0\" />\n",
       "<line stroke=\"rgb(0,0,0)\" stroke-width=\"2.0\" x1=\"578.7\" x2=\"604.3\" y1=\"599.3\" y2=\"607.7\" />\n",
       "<line stroke=\"rgb(0,0,0)\" stroke-width=\"2.0\" x1=\"462.8\" x2=\"454.5\" y1=\"429.1\" y2=\"403.5\" />\n",
       "<line stroke=\"rgb(0,0,0)\" stroke-width=\"2.0\" x1=\"459.2\" x2=\"468.5\" y1=\"381.4\" y2=\"371.0\" />\n",
       "<line stroke=\"rgb(0,0,0)\" stroke-width=\"2.0\" x1=\"467.6\" x2=\"457.2\" y1=\"352.7\" y2=\"343.3\" />\n",
       "<line stroke=\"rgb(0,0,0)\" stroke-width=\"2.0\" x1=\"483.7\" x2=\"493.1\" y1=\"349.7\" y2=\"339.3\" />\n",
       "<line stroke=\"rgb(0,0,0)\" stroke-width=\"2.0\" x1=\"488.1\" x2=\"497.5\" y1=\"353.7\" y2=\"343.3\" />\n",
       "<line stroke=\"rgb(0,0,0)\" stroke-width=\"2.0\" x1=\"486.9\" x2=\"497.3\" y1=\"370.1\" y2=\"379.4\" />\n",
       "<line stroke=\"rgb(0,0,0)\" stroke-width=\"2.0\" x1=\"519.3\" x2=\"545.0\" y1=\"384.1\" y2=\"375.8\" />\n",
       "<line stroke=\"rgb(0,0,0)\" stroke-width=\"2.0\" x1=\"545.0\" x2=\"553.3\" y1=\"375.8\" y2=\"336.6\" />\n",
       "<line stroke=\"rgb(0,0,0)\" stroke-width=\"2.0\" x1=\"546.5\" x2=\"535.6\" y1=\"272.3\" y2=\"247.6\" />\n",
       "<line stroke=\"rgb(0,0,0)\" stroke-width=\"2.0\" x1=\"492.9\" x2=\"477.0\" y1=\"233.3\" y2=\"255.2\" />\n",
       "<line stroke=\"rgb(0,0,0)\" stroke-width=\"2.0\" x1=\"488.1\" x2=\"472.2\" y1=\"229.8\" y2=\"251.6\" />\n",
       "<line stroke=\"rgb(0,0,0)\" stroke-width=\"2.0\" x1=\"497.7\" x2=\"486.7\" y1=\"162.7\" y2=\"138.0\" />\n",
       "<line stroke=\"rgb(0,0,0)\" stroke-width=\"2.0\" x1=\"589.8\" x2=\"613.2\" y1=\"320.4\" y2=\"333.9\" />\n",
       "<line stroke=\"rgb(0,0,0)\" stroke-width=\"2.0\" x1=\"635.7\" x2=\"647.9\" y1=\"333.9\" y2=\"326.9\" />\n",
       "<line stroke=\"rgb(0,0,0)\" stroke-width=\"2.0\" x1=\"652.6\" x2=\"645.6\" y1=\"309.1\" y2=\"297.0\" />\n",
       "<line stroke=\"rgb(0,0,0)\" stroke-width=\"2.0\" x1=\"668.9\" x2=\"681.0\" y1=\"311.3\" y2=\"304.3\" />\n",
       "<line stroke=\"rgb(0,0,0)\" stroke-width=\"2.0\" x1=\"671.9\" x2=\"684.0\" y1=\"316.5\" y2=\"309.5\" />\n",
       "<line stroke=\"rgb(0,0,0)\" stroke-width=\"2.0\" x1=\"665.6\" x2=\"672.6\" y1=\"331.6\" y2=\"343.8\" />\n",
       "<line stroke=\"rgb(0,0,0)\" stroke-width=\"2.0\" x1=\"692.1\" x2=\"719.1\" y1=\"355.0\" y2=\"355.0\" />\n",
       "<line stroke=\"rgb(0,0,0)\" stroke-width=\"2.0\" x1=\"719.1\" x2=\"739.1\" y1=\"355.0\" y2=\"389.7\" />\n",
       "<line stroke=\"rgb(0,0,0)\" stroke-width=\"2.0\" x1=\"752.6\" x2=\"749.8\" y1=\"453.0\" y2=\"479.8\" />\n",
       "<line stroke=\"rgb(0,0,0)\" stroke-width=\"2.0\" x1=\"692.4\" x2=\"698.0\" y1=\"578.6\" y2=\"605.0\" />\n",
       "<line stroke=\"rgb(0,0,0)\" stroke-width=\"2.0\" x1=\"778.9\" x2=\"797.0\" y1=\"393.8\" y2=\"373.8\" />\n",
       "<line stroke=\"rgb(0,0,0)\" stroke-width=\"2.0\" x1=\"818.4\" x2=\"832.1\" y1=\"366.8\" y2=\"369.7\" />\n",
       "<line stroke=\"rgb(0,0,0)\" stroke-width=\"2.0\" x1=\"842.1\" x2=\"839.2\" y1=\"385.1\" y2=\"398.8\" />\n",
       "<line stroke=\"rgb(0,0,0)\" stroke-width=\"2.0\" x1=\"858.1\" x2=\"871.8\" y1=\"372.2\" y2=\"375.1\" />\n",
       "<line stroke=\"rgb(0,0,0)\" stroke-width=\"2.0\" x1=\"856.9\" x2=\"870.6\" y1=\"378.1\" y2=\"381.0\" />\n",
       "<line stroke=\"rgb(0,0,0)\" stroke-width=\"2.0\" x1=\"847.5\" x2=\"850.4\" y1=\"359.7\" y2=\"346.0\" />\n",
       "<line stroke=\"rgb(0,0,0)\" stroke-width=\"2.0\" x1=\"865.5\" x2=\"891.2\" y1=\"329.3\" y2=\"320.9\" />\n",
       "<line stroke=\"rgb(0,0,0)\" stroke-width=\"2.0\" x1=\"891.2\" x2=\"920.9\" y1=\"320.9\" y2=\"347.7\" />\n",
       "<line stroke=\"rgb(0,0,0)\" stroke-width=\"2.0\" x1=\"980.0\" x2=\"1006.9\" y1=\"374.0\" y2=\"376.9\" />\n",
       "<line stroke=\"rgb(0,0,0)\" stroke-width=\"2.0\" x1=\"1083.1\" x2=\"1099.0\" y1=\"350.0\" y2=\"328.2\" />\n",
       "<line stroke=\"rgb(0,0,0)\" stroke-width=\"2.0\" x1=\"1099.7\" x2=\"1126.5\" y1=\"383.6\" y2=\"386.4\" />\n",
       "<line stroke=\"rgb(0,0,0)\" stroke-width=\"2.0\" x1=\"1099.0\" x2=\"1125.9\" y1=\"389.6\" y2=\"392.4\" />\n",
       "<line stroke=\"rgb(0,0,0)\" stroke-width=\"2.0\" x1=\"1038.5\" x2=\"1022.6\" y1=\"416.5\" y2=\"438.4\" />\n",
       "<line stroke=\"rgb(0,0,0)\" stroke-width=\"2.0\" x1=\"1033.6\" x2=\"1017.8\" y1=\"413.0\" y2=\"434.8\" />\n",
       "<line stroke=\"rgb(0,0,0)\" stroke-width=\"2.0\" x1=\"916.7\" x2=\"893.3\" y1=\"387.5\" y2=\"401.0\" />\n",
       "<line stroke=\"rgb(0,0,0)\" stroke-width=\"2.0\" x1=\"882.1\" x2=\"882.1\" y1=\"420.5\" y2=\"434.5\" />\n",
       "<line stroke=\"rgb(0,0,0)\" stroke-width=\"2.0\" x1=\"869.1\" x2=\"855.1\" y1=\"447.5\" y2=\"447.5\" />\n",
       "<line stroke=\"rgb(0,0,0)\" stroke-width=\"2.0\" x1=\"885.1\" x2=\"885.1\" y1=\"460.5\" y2=\"474.5\" />\n",
       "<line stroke=\"rgb(0,0,0)\" stroke-width=\"2.0\" x1=\"879.1\" x2=\"879.1\" y1=\"460.5\" y2=\"474.5\" />\n",
       "<line stroke=\"rgb(0,0,0)\" stroke-width=\"2.0\" x1=\"895.1\" x2=\"909.1\" y1=\"447.5\" y2=\"447.5\" />\n",
       "<line stroke=\"rgb(0,0,0)\" stroke-width=\"2.0\" x1=\"928.6\" x2=\"942.1\" y1=\"458.7\" y2=\"482.1\" />\n",
       "<line stroke=\"rgb(0,0,0)\" stroke-width=\"2.0\" x1=\"942.1\" x2=\"922.1\" y1=\"482.1\" y2=\"516.8\" />\n",
       "<line stroke=\"rgb(0,0,0)\" stroke-width=\"2.0\" x1=\"874.0\" x2=\"849.3\" y1=\"560.1\" y2=\"571.1\" />\n",
       "<line stroke=\"rgb(0,0,0)\" stroke-width=\"2.0\" x1=\"773.1\" x2=\"746.2\" y1=\"656.2\" y2=\"659.0\" />\n",
       "<line stroke=\"rgb(0,0,0)\" stroke-width=\"2.0\" x1=\"938.3\" x2=\"964.7\" y1=\"553.3\" y2=\"558.9\" />\n",
       "<line stroke=\"rgb(0,0,0)\" stroke-width=\"2.0\" x1=\"981.5\" x2=\"985.8\" y1=\"574.0\" y2=\"587.3\" />\n",
       "<line stroke=\"rgb(0,0,0)\" stroke-width=\"2.0\" x1=\"977.5\" x2=\"964.1\" y1=\"603.7\" y2=\"608.0\" />\n",
       "<line stroke=\"rgb(0,0,0)\" stroke-width=\"2.0\" x1=\"996.7\" x2=\"1001.0\" y1=\"611.1\" y2=\"624.4\" />\n",
       "<line stroke=\"rgb(0,0,0)\" stroke-width=\"2.0\" x1=\"991.0\" x2=\"995.3\" y1=\"613.0\" y2=\"626.3\" />\n",
       "<line stroke=\"rgb(0,0,0)\" stroke-width=\"2.0\" x1=\"1002.2\" x2=\"1015.5\" y1=\"595.7\" y2=\"591.3\" />\n",
       "<line stroke=\"rgb(0,0,0)\" stroke-width=\"2.0\" x1=\"1037.5\" x2=\"1057.6\" y1=\"596.0\" y2=\"614.1\" />\n",
       "<line stroke=\"rgb(0,0,0)\" stroke-width=\"2.0\" x1=\"1057.6\" x2=\"1095.6\" y1=\"614.1\" y2=\"601.7\" />\n",
       "<line stroke=\"rgb(0,0,0)\" stroke-width=\"2.0\" x1=\"1148.0\" x2=\"1163.9\" y1=\"563.7\" y2=\"541.8\" />\n",
       "<line stroke=\"rgb(0,0,0)\" stroke-width=\"2.0\" x1=\"1178.7\" x2=\"1167.8\" y1=\"462.4\" y2=\"437.7\" />\n",
       "<line stroke=\"rgb(0,0,0)\" stroke-width=\"2.0\" x1=\"1216.1\" x2=\"1232.0\" y1=\"464.8\" y2=\"443.0\" />\n",
       "<line stroke=\"rgb(0,0,0)\" stroke-width=\"2.0\" x1=\"1221.0\" x2=\"1236.8\" y1=\"468.4\" y2=\"446.5\" />\n",
       "<line stroke=\"rgb(0,0,0)\" stroke-width=\"2.0\" x1=\"1214.0\" x2=\"1225.0\" y1=\"534.3\" y2=\"558.9\" />\n",
       "<line stroke=\"rgb(0,0,0)\" stroke-width=\"2.0\" x1=\"1208.5\" x2=\"1219.5\" y1=\"536.7\" y2=\"561.4\" />\n",
       "<line stroke=\"rgb(0,0,0)\" stroke-width=\"2.0\" x1=\"1128.0\" x2=\"1128.0\" y1=\"625.2\" y2=\"652.2\" />\n",
       "<line stroke=\"rgb(0,0,0)\" stroke-width=\"2.0\" x1=\"142.9\" x2=\"116.1\" y1=\"103.1\" y2=\"105.9\" />\n",
       "<line stroke=\"rgb(0,0,0)\" stroke-width=\"2.0\" x1=\"116.1\" x2=\"107.8\" y1=\"105.9\" y2=\"145.0\" />\n",
       "<line stroke=\"rgb(0,0,0)\" stroke-width=\"2.0\" x1=\"121.9\" x2=\"116.1\" y1=\"113.3\" y2=\"140.6\" />\n",
       "<line stroke=\"rgb(0,0,0)\" stroke-width=\"2.0\" x1=\"107.8\" x2=\"131.2\" y1=\"145.0\" y2=\"158.5\" />\n",
       "<line stroke=\"rgb(0,0,0)\" stroke-width=\"2.0\" x1=\"152.1\" x2=\"172.1\" y1=\"156.3\" y2=\"138.3\" />\n",
       "<line stroke=\"rgb(0,0,0)\" stroke-width=\"2.0\" x1=\"172.1\" x2=\"161.2\" y1=\"138.3\" y2=\"113.8\" />\n",
       "<line stroke=\"rgb(0,0,0)\" stroke-width=\"2.0\" x1=\"163.1\" x2=\"155.5\" y1=\"135.7\" y2=\"118.5\" />\n",
       "<line stroke=\"rgb(0,0,0)\" stroke-width=\"2.0\" x1=\"587.1\" x2=\"571.3\" y1=\"535.5\" y2=\"557.4\" />\n",
       "<line stroke=\"rgb(0,0,0)\" stroke-width=\"2.0\" x1=\"571.3\" x2=\"533.2\" y1=\"557.4\" y2=\"545.0\" />\n",
       "<line stroke=\"rgb(0,0,0)\" stroke-width=\"2.0\" x1=\"567.8\" x2=\"541.2\" y1=\"548.7\" y2=\"540.0\" />\n",
       "<line stroke=\"rgb(0,0,0)\" stroke-width=\"2.0\" x1=\"533.2\" x2=\"533.2\" y1=\"545.0\" y2=\"518.0\" />\n",
       "<line stroke=\"rgb(0,0,0)\" stroke-width=\"2.0\" x1=\"545.6\" x2=\"571.3\" y1=\"501.0\" y2=\"492.6\" />\n",
       "<line stroke=\"rgb(0,0,0)\" stroke-width=\"2.0\" x1=\"571.3\" x2=\"587.0\" y1=\"492.6\" y2=\"514.3\" />\n",
       "<line stroke=\"rgb(0,0,0)\" stroke-width=\"2.0\" x1=\"569.0\" x2=\"580.0\" y1=\"501.7\" y2=\"516.9\" />\n",
       "<line stroke=\"rgb(0,0,0)\" stroke-width=\"2.0\" x1=\"748.9\" x2=\"722.1\" y1=\"554.7\" y2=\"551.9\" />\n",
       "<line stroke=\"rgb(0,0,0)\" stroke-width=\"2.0\" x1=\"722.1\" x2=\"713.8\" y1=\"551.9\" y2=\"512.7\" />\n",
       "<line stroke=\"rgb(0,0,0)\" stroke-width=\"2.0\" x1=\"727.9\" x2=\"722.1\" y1=\"544.5\" y2=\"517.1\" />\n",
       "<line stroke=\"rgb(0,0,0)\" stroke-width=\"2.0\" x1=\"713.8\" x2=\"737.1\" y1=\"512.7\" y2=\"499.2\" />\n",
       "<line stroke=\"rgb(0,0,0)\" stroke-width=\"2.0\" x1=\"758.1\" x2=\"778.1\" y1=\"501.4\" y2=\"519.5\" />\n",
       "<line stroke=\"rgb(0,0,0)\" stroke-width=\"2.0\" x1=\"778.1\" x2=\"767.2\" y1=\"519.5\" y2=\"544.0\" />\n",
       "<line stroke=\"rgb(0,0,0)\" stroke-width=\"2.0\" x1=\"769.1\" x2=\"761.5\" y1=\"522.1\" y2=\"539.2\" />\n",
       "<line stroke=\"rgb(0,0,0)\" stroke-width=\"2.0\" x1=\"778.3\" x2=\"789.3\" y1=\"595.0\" y2=\"619.7\" />\n",
       "<line stroke=\"rgb(0,0,0)\" stroke-width=\"2.0\" x1=\"789.3\" x2=\"829.1\" y1=\"619.7\" y2=\"615.5\" />\n",
       "<line stroke=\"rgb(0,0,0)\" stroke-width=\"2.0\" x1=\"794.5\" x2=\"822.4\" y1=\"611.9\" y2=\"608.9\" />\n",
       "<line stroke=\"rgb(0,0,0)\" stroke-width=\"2.0\" x1=\"829.1\" x2=\"834.7\" y1=\"615.5\" y2=\"589.1\" />\n",
       "<line stroke=\"rgb(0,0,0)\" stroke-width=\"2.0\" x1=\"826.2\" x2=\"802.8\" y1=\"569.8\" y2=\"556.3\" />\n",
       "<line stroke=\"rgb(0,0,0)\" stroke-width=\"2.0\" x1=\"802.8\" x2=\"782.9\" y1=\"556.3\" y2=\"574.3\" />\n",
       "<line stroke=\"rgb(0,0,0)\" stroke-width=\"2.0\" x1=\"803.1\" x2=\"789.2\" y1=\"565.7\" y2=\"578.3\" />\n",
       "<line stroke=\"rgb(0,0,0)\" stroke-width=\"2.0\" x1=\"45.6\" x2=\"40.0\" y1=\"104.2\" y2=\"130.6\" />\n",
       "<line stroke=\"rgb(0,0,0)\" stroke-width=\"2.0\" x1=\"40.0\" x2=\"59.9\" y1=\"130.6\" y2=\"148.5\" />\n",
       "<line stroke=\"rgb(0,0,0)\" stroke-width=\"2.0\" x1=\"49.3\" x2=\"63.2\" y1=\"129.3\" y2=\"141.9\" />\n",
       "<line stroke=\"rgb(0,0,0)\" stroke-width=\"2.0\" x1=\"82.1\" x2=\"107.8\" y1=\"153.4\" y2=\"145.0\" />\n",
       "<line stroke=\"rgb(0,0,0)\" stroke-width=\"2.0\" x1=\"116.1\" x2=\"86.4\" y1=\"105.9\" y2=\"79.1\" />\n",
       "<line stroke=\"rgb(0,0,0)\" stroke-width=\"2.0\" x1=\"86.4\" x2=\"60.9\" y1=\"79.1\" y2=\"87.4\" />\n",
       "<line stroke=\"rgb(0,0,0)\" stroke-width=\"2.0\" x1=\"82.9\" x2=\"65.0\" y1=\"87.8\" y2=\"93.6\" />\n",
       "<line stroke=\"rgb(0,0,0)\" stroke-width=\"2.0\" x1=\"214.4\" x2=\"237.9\" y1=\"517.6\" y2=\"549.9\" />\n",
       "<line stroke=\"rgb(0,0,0)\" stroke-width=\"2.0\" x1=\"237.9\" x2=\"264.8\" y1=\"549.9\" y2=\"547.1\" />\n",
       "<line stroke=\"rgb(0,0,0)\" stroke-width=\"2.0\" x1=\"283.0\" x2=\"294.0\" y1=\"533.9\" y2=\"509.2\" />\n",
       "<line stroke=\"rgb(0,0,0)\" stroke-width=\"2.0\" x1=\"294.0\" x2=\"278.1\" y1=\"509.2\" y2=\"487.4\" />\n",
       "<line stroke=\"rgb(0,0,0)\" stroke-width=\"2.0\" x1=\"257.5\" x2=\"230.7\" y1=\"478.2\" y2=\"481.0\" />\n",
       "<line stroke=\"rgb(0,0,0)\" stroke-width=\"2.0\" x1=\"230.7\" x2=\"214.4\" y1=\"481.0\" y2=\"517.6\" />\n",
       "<line stroke=\"rgb(0,0,0)\" stroke-width=\"2.0\" x1=\"234.8\" x2=\"223.4\" y1=\"489.4\" y2=\"515.0\" />\n",
       "<line stroke=\"rgb(0,0,0)\" stroke-width=\"2.0\" x1=\"537.5\" x2=\"511.8\" y1=\"619.2\" y2=\"610.9\" />\n",
       "<line stroke=\"rgb(0,0,0)\" stroke-width=\"2.0\" x1=\"511.8\" x2=\"506.2\" y1=\"610.9\" y2=\"584.7\" />\n",
       "<line stroke=\"rgb(0,0,0)\" stroke-width=\"2.0\" x1=\"517.6\" x2=\"513.7\" y1=\"603.5\" y2=\"585.1\" />\n",
       "<line stroke=\"rgb(0,0,0)\" stroke-width=\"2.0\" x1=\"513.2\" x2=\"533.2\" y1=\"563.1\" y2=\"545.0\" />\n",
       "<line stroke=\"rgb(0,0,0)\" stroke-width=\"2.0\" x1=\"571.3\" x2=\"579.6\" y1=\"557.4\" y2=\"596.5\" />\n",
       "<line stroke=\"rgb(0,0,0)\" stroke-width=\"2.0\" x1=\"579.6\" x2=\"559.5\" y1=\"596.5\" y2=\"614.6\" />\n",
       "<line stroke=\"rgb(0,0,0)\" stroke-width=\"2.0\" x1=\"482.0\" x2=\"497.7\" y1=\"184.3\" y2=\"162.7\" />\n",
       "<line stroke=\"rgb(0,0,0)\" stroke-width=\"2.0\" x1=\"489.0\" x2=\"500.0\" y1=\"187.0\" y2=\"171.7\" />\n",
       "<line stroke=\"rgb(0,0,0)\" stroke-width=\"2.0\" x1=\"497.7\" x2=\"537.5\" y1=\"162.7\" y2=\"166.8\" />\n",
       "<line stroke=\"rgb(0,0,0)\" stroke-width=\"2.0\" x1=\"537.5\" x2=\"553.8\" y1=\"166.8\" y2=\"203.4\" />\n",
       "<line stroke=\"rgb(0,0,0)\" stroke-width=\"2.0\" x1=\"533.4\" x2=\"544.8\" y1=\"175.2\" y2=\"200.8\" />\n",
       "<line stroke=\"rgb(0,0,0)\" stroke-width=\"2.0\" x1=\"553.8\" x2=\"537.9\" y1=\"203.4\" y2=\"225.2\" />\n",
       "<line stroke=\"rgb(0,0,0)\" stroke-width=\"2.0\" x1=\"517.3\" x2=\"490.5\" y1=\"234.4\" y2=\"231.6\" />\n",
       "<line stroke=\"rgb(0,0,0)\" stroke-width=\"2.0\" x1=\"490.5\" x2=\"479.5\" y1=\"231.6\" y2=\"206.9\" />\n",
       "<line stroke=\"rgb(0,0,0)\" stroke-width=\"2.0\" x1=\"651.6\" x2=\"646.0\" y1=\"553.6\" y2=\"527.2\" />\n",
       "<line stroke=\"rgb(0,0,0)\" stroke-width=\"2.0\" x1=\"646.0\" x2=\"665.9\" y1=\"527.2\" y2=\"509.2\" />\n",
       "<line stroke=\"rgb(0,0,0)\" stroke-width=\"2.0\" x1=\"655.3\" x2=\"669.2\" y1=\"528.5\" y2=\"515.9\" />\n",
       "<line stroke=\"rgb(0,0,0)\" stroke-width=\"2.0\" x1=\"688.1\" x2=\"713.8\" y1=\"504.4\" y2=\"512.7\" />\n",
       "<line stroke=\"rgb(0,0,0)\" stroke-width=\"2.0\" x1=\"722.1\" x2=\"692.4\" y1=\"551.9\" y2=\"578.6\" />\n",
       "<line stroke=\"rgb(0,0,0)\" stroke-width=\"2.0\" x1=\"692.4\" x2=\"666.9\" y1=\"578.6\" y2=\"570.4\" />\n",
       "<line stroke=\"rgb(0,0,0)\" stroke-width=\"2.0\" x1=\"688.9\" x2=\"671.0\" y1=\"569.9\" y2=\"564.1\" />\n",
       "<line stroke=\"rgb(0,0,0)\" stroke-width=\"2.0\" x1=\"1083.1\" x2=\"1099.4\" y1=\"350.0\" y2=\"386.6\" />\n",
       "<line stroke=\"rgb(0,0,0)\" stroke-width=\"2.0\" x1=\"1099.4\" x2=\"1083.5\" y1=\"386.6\" y2=\"408.4\" />\n",
       "<line stroke=\"rgb(0,0,0)\" stroke-width=\"2.0\" x1=\"1062.9\" x2=\"1036.1\" y1=\"417.6\" y2=\"414.8\" />\n",
       "<line stroke=\"rgb(0,0,0)\" stroke-width=\"2.0\" x1=\"1036.1\" x2=\"1025.1\" y1=\"414.8\" y2=\"390.1\" />\n",
       "<line stroke=\"rgb(0,0,0)\" stroke-width=\"2.0\" x1=\"1027.4\" x2=\"1043.3\" y1=\"367.7\" y2=\"345.9\" />\n",
       "<line stroke=\"rgb(0,0,0)\" stroke-width=\"2.0\" x1=\"1043.3\" x2=\"1083.1\" y1=\"345.9\" y2=\"350.0\" />\n",
       "<line stroke=\"rgb(0,0,0)\" stroke-width=\"2.0\" x1=\"1048.5\" x2=\"1076.4\" y1=\"353.6\" y2=\"356.6\" />\n",
       "<line stroke=\"rgb(0,0,0)\" stroke-width=\"2.0\" x1=\"809.5\" x2=\"836.3\" y1=\"687.2\" y2=\"684.4\" />\n",
       "<line stroke=\"rgb(0,0,0)\" stroke-width=\"2.0\" x1=\"836.3\" x2=\"847.3\" y1=\"684.4\" y2=\"659.9\" />\n",
       "<line stroke=\"rgb(0,0,0)\" stroke-width=\"2.0\" x1=\"832.2\" x2=\"839.9\" y1=\"676.0\" y2=\"658.8\" />\n",
       "<line stroke=\"rgb(0,0,0)\" stroke-width=\"2.0\" x1=\"845.0\" x2=\"829.1\" y1=\"637.3\" y2=\"615.5\" />\n",
       "<line stroke=\"rgb(0,0,0)\" stroke-width=\"2.0\" x1=\"789.3\" x2=\"773.1\" y1=\"619.7\" y2=\"656.2\" />\n",
       "<line stroke=\"rgb(0,0,0)\" stroke-width=\"2.0\" x1=\"773.1\" x2=\"788.8\" y1=\"656.2\" y2=\"677.9\" />\n",
       "<line stroke=\"rgb(0,0,0)\" stroke-width=\"2.0\" x1=\"782.4\" x2=\"793.5\" y1=\"656.8\" y2=\"672.0\" />\n",
       "<line stroke=\"rgb(0,0,0)\" stroke-width=\"2.0\" x1=\"1178.7\" x2=\"1218.5\" y1=\"462.4\" y2=\"466.6\" />\n",
       "<line stroke=\"rgb(0,0,0)\" stroke-width=\"2.0\" x1=\"1218.5\" x2=\"1229.5\" y1=\"466.6\" y2=\"491.3\" />\n",
       "<line stroke=\"rgb(0,0,0)\" stroke-width=\"2.0\" x1=\"1227.2\" x2=\"1211.3\" y1=\"513.7\" y2=\"535.5\" />\n",
       "<line stroke=\"rgb(0,0,0)\" stroke-width=\"2.0\" x1=\"1211.3\" x2=\"1184.4\" y1=\"535.5\" y2=\"532.7\" />\n",
       "<line stroke=\"rgb(0,0,0)\" stroke-width=\"2.0\" x1=\"1166.2\" x2=\"1155.2\" y1=\"519.4\" y2=\"494.8\" />\n",
       "<line stroke=\"rgb(0,0,0)\" stroke-width=\"2.0\" x1=\"1155.2\" x2=\"1178.7\" y1=\"494.8\" y2=\"462.4\" />\n",
       "<line stroke=\"rgb(0,0,0)\" stroke-width=\"2.0\" x1=\"1164.6\" x2=\"1181.0\" y1=\"494.2\" y2=\"471.5\" />\n",
       "<line stroke=\"rgb(0,0,0)\" stroke-width=\"2.0\" x1=\"146.6\" x2=\"181.2\" y1=\"204.8\" y2=\"224.8\" />\n",
       "<line stroke=\"rgb(0,0,0)\" stroke-width=\"2.0\" x1=\"181.2\" x2=\"172.9\" y1=\"224.8\" y2=\"263.9\" />\n",
       "<line stroke=\"rgb(0,0,0)\" stroke-width=\"2.0\" x1=\"172.9\" x2=\"133.1\" y1=\"263.9\" y2=\"268.1\" />\n",
       "<line stroke=\"rgb(0,0,0)\" stroke-width=\"2.0\" x1=\"133.1\" x2=\"122.2\" y1=\"268.1\" y2=\"243.4\" />\n",
       "<line stroke=\"rgb(0,0,0)\" stroke-width=\"2.0\" x1=\"126.5\" x2=\"146.6\" y1=\"222.9\" y2=\"204.8\" />\n",
       "<line stroke=\"rgb(0,0,0)\" stroke-width=\"2.0\" x1=\"286.7\" x2=\"325.8\" y1=\"440.3\" y2=\"432.0\" />\n",
       "<line stroke=\"rgb(0,0,0)\" stroke-width=\"2.0\" x1=\"325.8\" x2=\"330.0\" y1=\"432.0\" y2=\"392.2\" />\n",
       "<line stroke=\"rgb(0,0,0)\" stroke-width=\"2.0\" x1=\"330.0\" x2=\"293.5\" y1=\"392.2\" y2=\"375.9\" />\n",
       "<line stroke=\"rgb(0,0,0)\" stroke-width=\"2.0\" x1=\"293.5\" x2=\"275.4\" y1=\"375.9\" y2=\"396.0\" />\n",
       "<line stroke=\"rgb(0,0,0)\" stroke-width=\"2.0\" x1=\"273.2\" x2=\"286.7\" y1=\"416.9\" y2=\"440.3\" />\n",
       "<line stroke=\"rgb(0,0,0)\" stroke-width=\"2.0\" x1=\"500.9\" x2=\"500.9\" y1=\"481.5\" y2=\"441.5\" />\n",
       "<line stroke=\"rgb(0,0,0)\" stroke-width=\"2.0\" x1=\"500.9\" x2=\"462.8\" y1=\"441.5\" y2=\"429.1\" />\n",
       "<line stroke=\"rgb(0,0,0)\" stroke-width=\"2.0\" x1=\"462.8\" x2=\"439.3\" y1=\"429.1\" y2=\"461.5\" />\n",
       "<line stroke=\"rgb(0,0,0)\" stroke-width=\"2.0\" x1=\"439.3\" x2=\"455.2\" y1=\"461.5\" y2=\"483.3\" />\n",
       "<line stroke=\"rgb(0,0,0)\" stroke-width=\"2.0\" x1=\"475.2\" x2=\"500.9\" y1=\"489.8\" y2=\"481.5\" />\n",
       "<line stroke=\"rgb(0,0,0)\" stroke-width=\"2.0\" x1=\"546.5\" x2=\"585.7\" y1=\"272.3\" y2=\"280.6\" />\n",
       "<line stroke=\"rgb(0,0,0)\" stroke-width=\"2.0\" x1=\"585.7\" x2=\"589.8\" y1=\"280.6\" y2=\"320.4\" />\n",
       "<line stroke=\"rgb(0,0,0)\" stroke-width=\"2.0\" x1=\"589.8\" x2=\"553.3\" y1=\"320.4\" y2=\"336.6\" />\n",
       "<line stroke=\"rgb(0,0,0)\" stroke-width=\"2.0\" x1=\"553.3\" x2=\"535.2\" y1=\"336.6\" y2=\"316.6\" />\n",
       "<line stroke=\"rgb(0,0,0)\" stroke-width=\"2.0\" x1=\"533.0\" x2=\"546.5\" y1=\"295.7\" y2=\"272.3\" />\n",
       "<line stroke=\"rgb(0,0,0)\" stroke-width=\"2.0\" x1=\"752.6\" x2=\"787.2\" y1=\"453.0\" y2=\"433.0\" />\n",
       "<line stroke=\"rgb(0,0,0)\" stroke-width=\"2.0\" x1=\"787.2\" x2=\"778.9\" y1=\"433.0\" y2=\"393.8\" />\n",
       "<line stroke=\"rgb(0,0,0)\" stroke-width=\"2.0\" x1=\"778.9\" x2=\"739.1\" y1=\"393.8\" y2=\"389.7\" />\n",
       "<line stroke=\"rgb(0,0,0)\" stroke-width=\"2.0\" x1=\"739.1\" x2=\"728.1\" y1=\"389.7\" y2=\"414.3\" />\n",
       "<line stroke=\"rgb(0,0,0)\" stroke-width=\"2.0\" x1=\"732.5\" x2=\"752.6\" y1=\"434.9\" y2=\"453.0\" />\n",
       "<line stroke=\"rgb(0,0,0)\" stroke-width=\"2.0\" x1=\"980.0\" x2=\"953.2\" y1=\"374.0\" y2=\"403.8\" />\n",
       "<line stroke=\"rgb(0,0,0)\" stroke-width=\"2.0\" x1=\"953.2\" x2=\"916.7\" y1=\"403.8\" y2=\"387.5\" />\n",
       "<line stroke=\"rgb(0,0,0)\" stroke-width=\"2.0\" x1=\"916.7\" x2=\"920.9\" y1=\"387.5\" y2=\"347.7\" />\n",
       "<line stroke=\"rgb(0,0,0)\" stroke-width=\"2.0\" x1=\"920.9\" x2=\"947.3\" y1=\"347.7\" y2=\"342.1\" />\n",
       "<line stroke=\"rgb(0,0,0)\" stroke-width=\"2.0\" x1=\"966.5\" x2=\"980.0\" y1=\"350.7\" y2=\"374.0\" />\n",
       "<line stroke=\"rgb(0,0,0)\" stroke-width=\"2.0\" x1=\"874.0\" x2=\"908.6\" y1=\"560.1\" y2=\"580.1\" />\n",
       "<line stroke=\"rgb(0,0,0)\" stroke-width=\"2.0\" x1=\"908.6\" x2=\"938.3\" y1=\"580.1\" y2=\"553.3\" />\n",
       "<line stroke=\"rgb(0,0,0)\" stroke-width=\"2.0\" x1=\"938.3\" x2=\"922.1\" y1=\"553.3\" y2=\"516.8\" />\n",
       "<line stroke=\"rgb(0,0,0)\" stroke-width=\"2.0\" x1=\"922.1\" x2=\"895.2\" y1=\"516.8\" y2=\"519.6\" />\n",
       "<line stroke=\"rgb(0,0,0)\" stroke-width=\"2.0\" x1=\"879.6\" x2=\"874.0\" y1=\"533.7\" y2=\"560.1\" />\n",
       "<line stroke=\"rgb(0,0,0)\" stroke-width=\"2.0\" x1=\"1148.0\" x2=\"1160.4\" y1=\"563.7\" y2=\"601.7\" />\n",
       "<line stroke=\"rgb(0,0,0)\" stroke-width=\"2.0\" x1=\"1160.4\" x2=\"1128.0\" y1=\"601.7\" y2=\"625.2\" />\n",
       "<line stroke=\"rgb(0,0,0)\" stroke-width=\"2.0\" x1=\"1128.0\" x2=\"1095.6\" y1=\"625.2\" y2=\"601.7\" />\n",
       "<line stroke=\"rgb(0,0,0)\" stroke-width=\"2.0\" x1=\"1095.6\" x2=\"1104.0\" y1=\"601.7\" y2=\"576.0\" />\n",
       "<line stroke=\"rgb(0,0,0)\" stroke-width=\"2.0\" x1=\"1121.0\" x2=\"1148.0\" y1=\"563.7\" y2=\"563.7\" />\n",
       "<text fill=\"rgb(255,127,0)\" font-size=\"16\" stroke=\"rgb(255,127,0)\" stroke-width=\"1\" x=\"838.801262\" y=\"380.431410\">P</text>\n",
       "<text fill=\"rgb(255,12,12)\" font-size=\"16\" stroke=\"rgb(255,12,12)\" stroke-width=\"1\" x=\"818.484795\" y=\"419.557314\">HO</text>\n",
       "<text fill=\"rgb(255,12,12)\" font-size=\"16\" stroke=\"rgb(255,12,12)\" stroke-width=\"1\" x=\"877.927166\" y=\"388.747878\">O</text>\n",
       "<text fill=\"rgb(255,12,12)\" font-size=\"16\" stroke=\"rgb(255,12,12)\" stroke-width=\"1\" x=\"847.117730\" y=\"341.305506\">O</text>\n",
       "<text fill=\"rgb(255,12,12)\" font-size=\"16\" stroke=\"rgb(255,12,12)\" stroke-width=\"1\" x=\"954.011688\" y=\"347.393583\">O</text>\n",
       "<text fill=\"rgb(12,12,255)\" font-size=\"16\" stroke=\"rgb(12,12,255)\" stroke-width=\"1\" x=\"1013.792563\" y=\"386.215738\">N</text>\n",
       "<text fill=\"rgb(255,12,12)\" font-size=\"16\" stroke=\"rgb(255,12,12)\" stroke-width=\"1\" x=\"799.675358\" y=\"372.114942\">O</text>\n",
       "<text fill=\"rgb(102,102,102)\" font-size=\"16\" stroke=\"rgb(102,102,102)\" stroke-width=\"1\" x=\"1102.596259\" y=\"325.675517\">CH</text>\n",
       "<text fill=\"rgb(102,102,102)\" font-size=\"13\" stroke=\"rgb(102,102,102)\" stroke-width=\"1\" x=\"1126.596259\" y=\"329.355517\">3</text>\n",
       "<text fill=\"rgb(255,12,12)\" font-size=\"16\" stroke=\"rgb(255,12,12)\" stroke-width=\"1\" x=\"1133.135191\" y=\"398.759153\">O</text>\n",
       "<text fill=\"rgb(12,12,255)\" font-size=\"16\" stroke=\"rgb(12,12,255)\" stroke-width=\"1\" x=\"1069.842905\" y=\"426.938694\">N</text>\n",
       "<text fill=\"rgb(12,12,255)\" font-size=\"16\" stroke=\"rgb(12,12,255)\" stroke-width=\"1\" x=\"1069.842905\" y=\"442.938694\">H</text>\n",
       "<text fill=\"rgb(255,12,12)\" font-size=\"16\" stroke=\"rgb(255,12,12)\" stroke-width=\"1\" x=\"1006.550619\" y=\"455.118236\">O</text>\n",
       "<text fill=\"rgb(255,12,12)\" font-size=\"16\" stroke=\"rgb(255,12,12)\" stroke-width=\"1\" x=\"876.063629\" y=\"415.490926\">O</text>\n",
       "<text fill=\"rgb(12,12,255)\" font-size=\"16\" stroke=\"rgb(12,12,255)\" stroke-width=\"1\" x=\"755.860774\" y=\"564.054558\">N</text>\n",
       "<text fill=\"rgb(255,127,0)\" font-size=\"16\" stroke=\"rgb(255,127,0)\" stroke-width=\"1\" x=\"653.129258\" y=\"328.377565\">P</text>\n",
       "<text fill=\"rgb(255,12,12)\" font-size=\"16\" stroke=\"rgb(255,12,12)\" stroke-width=\"1\" x=\"621.129258\" y=\"293.736549\">HO</text>\n",
       "<text fill=\"rgb(255,12,12)\" font-size=\"16\" stroke=\"rgb(255,12,12)\" stroke-width=\"1\" x=\"687.770274\" y=\"308.377565\">O</text>\n",
       "<text fill=\"rgb(255,12,12)\" font-size=\"16\" stroke=\"rgb(255,12,12)\" stroke-width=\"1\" x=\"673.129258\" y=\"363.018581\">O</text>\n",
       "<text fill=\"rgb(255,12,12)\" font-size=\"16\" stroke=\"rgb(255,12,12)\" stroke-width=\"1\" x=\"716.859792\" y=\"434.201415\">O</text>\n",
       "<text fill=\"rgb(12,12,255)\" font-size=\"16\" stroke=\"rgb(12,12,255)\" stroke-width=\"1\" x=\"742.404447\" y=\"500.747515\">N</text>\n",
       "<text fill=\"rgb(255,127,0)\" font-size=\"16\" stroke=\"rgb(255,127,0)\" stroke-width=\"1\" x=\"876.063629\" y=\"455.490926\">P</text>\n",
       "<text fill=\"rgb(12,12,255)\" font-size=\"16\" stroke=\"rgb(12,12,255)\" stroke-width=\"1\" x=\"669.721170\" y=\"508.386836\">N</text>\n",
       "<text fill=\"rgb(12,12,255)\" font-size=\"16\" stroke=\"rgb(12,12,255)\" stroke-width=\"1\" x=\"648.311845\" y=\"574.277964\">N</text>\n",
       "<text fill=\"rgb(12,12,255)\" font-size=\"16\" stroke=\"rgb(12,12,255)\" stroke-width=\"1\" x=\"696.670573\" y=\"625.764548\">NH</text>\n",
       "<text fill=\"rgb(12,12,255)\" font-size=\"13\" stroke=\"rgb(12,12,255)\" stroke-width=\"1\" x=\"720.670573\" y=\"629.444548\">2</text>\n",
       "<text fill=\"rgb(255,127,0)\" font-size=\"16\" stroke=\"rgb(255,127,0)\" stroke-width=\"1\" x=\"983.819678\" y=\"607.673505\">P</text>\n",
       "<text fill=\"rgb(255,12,12)\" font-size=\"16\" stroke=\"rgb(255,12,12)\" stroke-width=\"1\" x=\"933.777418\" y=\"620.034185\">HO</text>\n",
       "<text fill=\"rgb(255,12,12)\" font-size=\"16\" stroke=\"rgb(255,12,12)\" stroke-width=\"1\" x=\"996.180358\" y=\"645.715766\">O</text>\n",
       "<text fill=\"rgb(255,12,12)\" font-size=\"16\" stroke=\"rgb(255,12,12)\" stroke-width=\"1\" x=\"1021.861939\" y=\"595.312826\">O</text>\n",
       "<text fill=\"rgb(255,12,12)\" font-size=\"16\" stroke=\"rgb(255,12,12)\" stroke-width=\"1\" x=\"1101.990673\" y=\"571.675109\">O</text>\n",
       "<text fill=\"rgb(12,12,255)\" font-size=\"16\" stroke=\"rgb(12,12,255)\" stroke-width=\"1\" x=\"1165.502083\" y=\"539.314430\">N</text>\n",
       "<text fill=\"rgb(255,12,12)\" font-size=\"16\" stroke=\"rgb(255,12,12)\" stroke-width=\"1\" x=\"971.458999\" y=\"569.631245\">O</text>\n",
       "<text fill=\"rgb(102,102,102)\" font-size=\"16\" stroke=\"rgb(102,102,102)\" stroke-width=\"1\" x=\"1136.474561\" y=\"433.870113\">H</text>\n",
       "<text fill=\"rgb(102,102,102)\" font-size=\"13\" stroke=\"rgb(102,102,102)\" stroke-width=\"1\" x=\"1148.474561\" y=\"437.550113\">3</text>\n",
       "<text fill=\"rgb(102,102,102)\" font-size=\"16\" stroke=\"rgb(102,102,102)\" stroke-width=\"1\" x=\"1154.974561\" y=\"433.870113\">C</text>\n",
       "<text fill=\"rgb(255,12,12)\" font-size=\"16\" stroke=\"rgb(255,12,12)\" stroke-width=\"1\" x=\"1236.036313\" y=\"442.232390\">O</text>\n",
       "<text fill=\"rgb(12,12,255)\" font-size=\"16\" stroke=\"rgb(12,12,255)\" stroke-width=\"1\" x=\"1228.794369\" y=\"511.134888\">NH</text>\n",
       "<text fill=\"rgb(255,12,12)\" font-size=\"16\" stroke=\"rgb(255,12,12)\" stroke-width=\"1\" x=\"1221.552424\" y=\"580.037386\">O</text>\n",
       "<text fill=\"rgb(255,12,12)\" font-size=\"16\" stroke=\"rgb(255,12,12)\" stroke-width=\"1\" x=\"1121.990673\" y=\"673.228780\">OH</text>\n",
       "<text fill=\"rgb(12,12,255)\" font-size=\"16\" stroke=\"rgb(12,12,255)\" stroke-width=\"1\" x=\"767.057658\" y=\"591.114691\">N</text>\n",
       "<text fill=\"rgb(255,12,12)\" font-size=\"16\" stroke=\"rgb(255,12,12)\" stroke-width=\"1\" x=\"824.063629\" y=\"455.490926\">HO</text>\n",
       "<text fill=\"rgb(255,12,12)\" font-size=\"16\" stroke=\"rgb(255,12,12)\" stroke-width=\"1\" x=\"876.063629\" y=\"495.490926\">O</text>\n",
       "<text fill=\"rgb(255,12,12)\" font-size=\"16\" stroke=\"rgb(255,12,12)\" stroke-width=\"1\" x=\"916.063629\" y=\"455.490926\">O</text>\n",
       "<text fill=\"rgb(255,12,12)\" font-size=\"16\" stroke=\"rgb(255,12,12)\" stroke-width=\"1\" x=\"876.282753\" y=\"528.954097\">O</text>\n",
       "<text fill=\"rgb(12,12,255)\" font-size=\"16\" stroke=\"rgb(12,12,255)\" stroke-width=\"1\" x=\"831.424467\" y=\"584.349467\">N</text>\n",
       "<text fill=\"rgb(255,12,12)\" font-size=\"16\" stroke=\"rgb(255,12,12)\" stroke-width=\"1\" x=\"618.488242\" y=\"348.377565\">O</text>\n",
       "<text fill=\"rgb(12,12,255)\" font-size=\"16\" stroke=\"rgb(12,12,255)\" stroke-width=\"1\" x=\"846.619410\" y=\"655.836051\">N</text>\n",
       "<text fill=\"rgb(12,12,255)\" font-size=\"16\" stroke=\"rgb(12,12,255)\" stroke-width=\"1\" x=\"790.569068\" y=\"696.559008\">N</text>\n",
       "<text fill=\"rgb(12,12,255)\" font-size=\"16\" stroke=\"rgb(12,12,255)\" stroke-width=\"1\" x=\"707.276782\" y=\"668.379466\">H</text>\n",
       "<text fill=\"rgb(12,12,255)\" font-size=\"13\" stroke=\"rgb(12,12,255)\" stroke-width=\"1\" x=\"719.276782\" y=\"672.059466\">2</text>\n",
       "<text fill=\"rgb(12,12,255)\" font-size=\"16\" stroke=\"rgb(12,12,255)\" stroke-width=\"1\" x=\"725.776782\" y=\"668.379466\">N</text>\n",
       "<text fill=\"rgb(255,12,12)\" font-size=\"16\" stroke=\"rgb(255,12,12)\" stroke-width=\"1\" x=\"193.679981\" y=\"301.649605\">O</text>\n",
       "<text fill=\"rgb(255,127,0)\" font-size=\"16\" stroke=\"rgb(255,127,0)\" stroke-width=\"1\" x=\"232.805885\" y=\"293.333138\">P</text>\n",
       "<text fill=\"rgb(255,12,12)\" font-size=\"16\" stroke=\"rgb(255,12,12)\" stroke-width=\"1\" x=\"212.489418\" y=\"254.207234\">HO</text>\n",
       "<text fill=\"rgb(255,12,12)\" font-size=\"16\" stroke=\"rgb(255,12,12)\" stroke-width=\"1\" x=\"271.931789\" y=\"285.016670\">O</text>\n",
       "<text fill=\"rgb(255,12,12)\" font-size=\"16\" stroke=\"rgb(255,12,12)\" stroke-width=\"1\" x=\"241.122353\" y=\"332.459042\">O</text>\n",
       "<text fill=\"rgb(255,12,12)\" font-size=\"16\" stroke=\"rgb(255,12,12)\" stroke-width=\"1\" x=\"260.715857\" y=\"413.671418\">O</text>\n",
       "<text fill=\"rgb(12,12,255)\" font-size=\"16\" stroke=\"rgb(12,12,255)\" stroke-width=\"1\" x=\"264.446391\" y=\"484.854253\">N</text>\n",
       "<text fill=\"rgb(102,102,102)\" font-size=\"16\" stroke=\"rgb(102,102,102)\" stroke-width=\"1\" x=\"148.615174\" y=\"529.758348\">H</text>\n",
       "<text fill=\"rgb(102,102,102)\" font-size=\"13\" stroke=\"rgb(102,102,102)\" stroke-width=\"1\" x=\"160.615174\" y=\"533.438348\">3</text>\n",
       "<text fill=\"rgb(102,102,102)\" font-size=\"16\" stroke=\"rgb(102,102,102)\" stroke-width=\"1\" x=\"167.115174\" y=\"529.758348\">C</text>\n",
       "<text fill=\"rgb(255,12,12)\" font-size=\"16\" stroke=\"rgb(255,12,12)\" stroke-width=\"1\" x=\"215.637994\" y=\"594.479708\">O</text>\n",
       "<text fill=\"rgb(12,12,255)\" font-size=\"16\" stroke=\"rgb(12,12,255)\" stroke-width=\"1\" x=\"271.688335\" y=\"553.756751\">N</text>\n",
       "<text fill=\"rgb(12,12,255)\" font-size=\"16\" stroke=\"rgb(12,12,255)\" stroke-width=\"1\" x=\"271.688335\" y=\"569.756751\">H</text>\n",
       "<text fill=\"rgb(255,12,12)\" font-size=\"16\" stroke=\"rgb(255,12,12)\" stroke-width=\"1\" x=\"327.738677\" y=\"513.033794\">O</text>\n",
       "<text fill=\"rgb(255,127,0)\" font-size=\"16\" stroke=\"rgb(255,127,0)\" stroke-width=\"1\" x=\"167.133881\" y=\"345.386983\">P</text>\n",
       "<text fill=\"rgb(255,12,12)\" font-size=\"16\" stroke=\"rgb(255,12,12)\" stroke-width=\"1\" x=\"207.133881\" y=\"345.386983\">OH</text>\n",
       "<text fill=\"rgb(255,12,12)\" font-size=\"16\" stroke=\"rgb(255,12,12)\" stroke-width=\"1\" x=\"167.133881\" y=\"305.386983\">O</text>\n",
       "<text fill=\"rgb(255,12,12)\" font-size=\"16\" stroke=\"rgb(255,12,12)\" stroke-width=\"1\" x=\"127.133881\" y=\"345.386983\">O</text>\n",
       "<text fill=\"rgb(255,12,12)\" font-size=\"16\" stroke=\"rgb(255,12,12)\" stroke-width=\"1\" x=\"110.864415\" y=\"239.563132\">O</text>\n",
       "<text fill=\"rgb(12,12,255)\" font-size=\"16\" stroke=\"rgb(12,12,255)\" stroke-width=\"1\" x=\"136.409070\" y=\"173.017032\">N</text>\n",
       "<text fill=\"rgb(255,12,12)\" font-size=\"16\" stroke=\"rgb(255,12,12)\" stroke-width=\"1\" x=\"358.663916\" y=\"380.215091\">O</text>\n",
       "<text fill=\"rgb(12,12,255)\" font-size=\"16\" stroke=\"rgb(12,12,255)\" stroke-width=\"1\" x=\"149.865397\" y=\"109.709990\">N</text>\n",
       "<text fill=\"rgb(12,12,255)\" font-size=\"16\" stroke=\"rgb(12,12,255)\" stroke-width=\"1\" x=\"63.725793\" y=\"165.377712\">N</text>\n",
       "<text fill=\"rgb(12,12,255)\" font-size=\"16\" stroke=\"rgb(12,12,255)\" stroke-width=\"1\" x=\"42.316468\" y=\"99.486584\">N</text>\n",
       "<text fill=\"rgb(12,12,255)\" font-size=\"16\" stroke=\"rgb(12,12,255)\" stroke-width=\"1\" x=\"90.675196\" y=\"48.000000\">NH</text>\n",
       "<text fill=\"rgb(12,12,255)\" font-size=\"13\" stroke=\"rgb(12,12,255)\" stroke-width=\"1\" x=\"114.675196\" y=\"51.680000\">2</text>\n",
       "<text fill=\"rgb(12,12,255)\" font-size=\"16\" stroke=\"rgb(12,12,255)\" stroke-width=\"1\" x=\"524.270718\" y=\"243.738403\">N</text>\n",
       "<text fill=\"rgb(255,12,12)\" font-size=\"16\" stroke=\"rgb(255,12,12)\" stroke-width=\"1\" x=\"444.455662\" y=\"399.094183\">O</text>\n",
       "<text fill=\"rgb(255,127,0)\" font-size=\"16\" stroke=\"rgb(255,127,0)\" stroke-width=\"1\" x=\"471.220886\" y=\"369.368390\">P</text>\n",
       "<text fill=\"rgb(255,12,12)\" font-size=\"16\" stroke=\"rgb(255,12,12)\" stroke-width=\"1\" x=\"429.495093\" y=\"342.603166\">HO</text>\n",
       "<text fill=\"rgb(255,12,12)\" font-size=\"16\" stroke=\"rgb(255,12,12)\" stroke-width=\"1\" x=\"497.986111\" y=\"339.642597\">O</text>\n",
       "<text fill=\"rgb(255,12,12)\" font-size=\"16\" stroke=\"rgb(255,12,12)\" stroke-width=\"1\" x=\"500.946679\" y=\"396.133614\">O</text>\n",
       "<text fill=\"rgb(255,12,12)\" font-size=\"16\" stroke=\"rgb(255,12,12)\" stroke-width=\"1\" x=\"520.540183\" y=\"314.921237\">O</text>\n",
       "<text fill=\"rgb(255,12,12)\" font-size=\"16\" stroke=\"rgb(255,12,12)\" stroke-width=\"1\" x=\"460.978432\" y=\"271.917944\">O</text>\n",
       "<text fill=\"rgb(12,12,255)\" font-size=\"16\" stroke=\"rgb(12,12,255)\" stroke-width=\"1\" x=\"468.220376\" y=\"203.015446\">N</text>\n",
       "<text fill=\"rgb(12,12,255)\" font-size=\"16\" stroke=\"rgb(12,12,255)\" stroke-width=\"1\" x=\"455.462320\" y=\"134.112948\">H</text>\n",
       "<text fill=\"rgb(12,12,255)\" font-size=\"13\" stroke=\"rgb(12,12,255)\" stroke-width=\"1\" x=\"467.462320\" y=\"137.792948\">2</text>\n",
       "<text fill=\"rgb(12,12,255)\" font-size=\"16\" stroke=\"rgb(12,12,255)\" stroke-width=\"1\" x=\"473.962320\" y=\"134.112948\">N</text>\n",
       "<text fill=\"rgb(255,127,0)\" font-size=\"16\" stroke=\"rgb(255,127,0)\" stroke-width=\"1\" x=\"393.304932\" y=\"400.215091\">P</text>\n",
       "<text fill=\"rgb(255,12,12)\" font-size=\"16\" stroke=\"rgb(255,12,12)\" stroke-width=\"1\" x=\"413.304932\" y=\"365.574075\">OH</text>\n",
       "<text fill=\"rgb(255,12,12)\" font-size=\"16\" stroke=\"rgb(255,12,12)\" stroke-width=\"1\" x=\"427.945948\" y=\"420.215091\">O</text>\n",
       "<text fill=\"rgb(255,12,12)\" font-size=\"16\" stroke=\"rgb(255,12,12)\" stroke-width=\"1\" x=\"373.304932\" y=\"434.856107\">O</text>\n",
       "<text fill=\"rgb(255,12,12)\" font-size=\"16\" stroke=\"rgb(255,12,12)\" stroke-width=\"1\" x=\"456.816342\" y=\"501.857803\">O</text>\n",
       "<text fill=\"rgb(12,12,255)\" font-size=\"16\" stroke=\"rgb(12,12,255)\" stroke-width=\"1\" x=\"527.219282\" y=\"513.008533\">N</text>\n",
       "<text fill=\"rgb(255,12,12)\" font-size=\"16\" stroke=\"rgb(255,12,12)\" stroke-width=\"1\" x=\"167.133881\" y=\"385.386983\">OH</text>\n",
       "<text fill=\"rgb(12,12,255)\" font-size=\"16\" stroke=\"rgb(12,12,255)\" stroke-width=\"1\" x=\"588.772953\" y=\"533.008533\">N</text>\n",
       "<text fill=\"rgb(12,12,255)\" font-size=\"16\" stroke=\"rgb(12,12,255)\" stroke-width=\"1\" x=\"497.493489\" y=\"579.773758\">N</text>\n",
       "<text fill=\"rgb(12,12,255)\" font-size=\"16\" stroke=\"rgb(12,12,255)\" stroke-width=\"1\" x=\"456.084164\" y=\"645.664886\">H</text>\n",
       "<text fill=\"rgb(12,12,255)\" font-size=\"13\" stroke=\"rgb(12,12,255)\" stroke-width=\"1\" x=\"468.084164\" y=\"649.344886\">2</text>\n",
       "<text fill=\"rgb(12,12,255)\" font-size=\"16\" stroke=\"rgb(12,12,255)\" stroke-width=\"1\" x=\"474.584164\" y=\"645.664886\">N</text>\n",
       "<text fill=\"rgb(12,12,255)\" font-size=\"16\" stroke=\"rgb(12,12,255)\" stroke-width=\"1\" x=\"543.852217\" y=\"631.260342\">N</text>\n",
       "<text fill=\"rgb(12,12,255)\" font-size=\"16\" stroke=\"rgb(12,12,255)\" stroke-width=\"1\" x=\"543.852217\" y=\"647.260342\">H</text>\n",
       "<text fill=\"rgb(255,12,12)\" font-size=\"16\" stroke=\"rgb(255,12,12)\" stroke-width=\"1\" x=\"611.620271\" y=\"616.855797\">O</text>\n",
       "</svg>\n"
      ],
      "text/plain": [
       "<pybel.Molecule at 0x7f51b0017f60>"
      ]
     },
     "execution_count": 43,
     "metadata": {},
     "output_type": "execute_result"
    }
   ],
   "source": [
    "def adn_bond(a1,a2):\n",
    "    adn = a1[:len(a1)-1]+a2\n",
    "    return adn\n",
    "\n",
    "T = \"OP(O)(=O)OCC1OC(N2C=C(C)C(=O)NC2(=O))CC1O\"\n",
    "A = \"OP(O)(=O)OCC1OC(N2C=NC3=C2N=CN=C3(N))CC1O\"\n",
    "C = \"OP(O)(=O)OCC1OC(N2C(=O)N=C(N)C=C2)CC1O\"\n",
    "G = \"OP(O)(=O)OCC1OC(N2C=NC3=C2N=C(N)NC3(=O))CC1O\"\n",
    "\n",
    "string = input()\n",
    "\n",
    "ADN=\"\"\n",
    "\n",
    "for i in range(len(string)):\n",
    "    a = string[i]\n",
    "    ADN = adn_bond(ADN, eval(a))\n",
    "mol = rs(\"smi\", ADN)\n",
    "mol"
   ]
  },
  {
   "cell_type": "code",
   "execution_count": 44,
   "metadata": {},
   "outputs": [
    {
     "data": {
      "text/html": [
       "<div id=\"molecule_1dad3471-b8bd-4045-a200-6b03ebf4c6a0\"></div>\n",
       "           <script type=\"text/javascript\">\n",
       "           require.config({baseUrl: '/',\n",
       "                           paths: {imolecule: ['nbextensions/imolecule.min', 'https://rawgit.com/patrickfuller/imolecule/master/imolecule/js/build/imolecule.min']}});\n",
       "           require(['imolecule'], function () {\n",
       "               var $d = $('#molecule_1dad3471-b8bd-4045-a200-6b03ebf4c6a0');\n",
       "               $d.width(400); $d.height(300);\n",
       "               $d.imolecule = jQuery.extend({}, imolecule);\n",
       "               $d.imolecule.create($d, {drawingType: 'ball and stick',\n",
       "                                        cameraType: 'perspective',\n",
       "                                        shader: 'lambert',\n",
       "                                        showSave: false});\n",
       "               $d.imolecule.addElements({});\n",
       "               $d.imolecule.draw({\"atoms\":[{\"charge\":-0.3025973846977492,\"element\":\"O\",\"location\":[-4.878988325325554,0.10475863694254761,7.261582486702979]},{\"charge\":0.4724485417573238,\"element\":\"P\",\"location\":[-3.1489883253255537,0.10475863694254761,7.261582486702979]},{\"charge\":-0.3025973846977492,\"element\":\"O\",\"location\":[-3.1538943248326854,0.2954920266431319,8.87581631734092]},{\"charge\":-0.22751991029280663,\"element\":\"O\",\"location\":[-3.178549815768583,-1.3906390679470155,6.984666117252474]},{\"charge\":-0.2841046654293832,\"element\":\"O\",\"location\":[-1.4189883253255537,0.10475863694254761,7.261582486702979]},{\"charge\":0.08777644986405955,\"element\":\"C\",\"location\":[-0.9286615951947805,1.5426331700875178,7.435447572017232]},{\"charge\":0.11167435141048979,\"element\":\"C\",\"location\":[0.6306414033797871,1.525075358598159,7.4131033688254195]},{\"charge\":-0.3483463669400801,\"element\":\"O\",\"location\":[1.2881436112935987,2.5585857947006034,8.150170621666975]},{\"charge\":0.14081139488859895,\"element\":\"C\",\"location\":[2.62111487626047,2.0276905031595986,8.419986029114117]},{\"charge\":-0.28788196889350187,\"element\":\"N\",\"location\":[3.5181991329011213,2.3083032436512787,7.30315483016256]},{\"charge\":0.10033354848846261,\"element\":\"C\",\"location\":[3.844332360639954,3.5626268289144414,6.854500230432599]},{\"charge\":-0.23056359974965807,\"element\":\"N\",\"location\":[4.702528606321661,3.5240185423150123,5.855448486999489]},{\"charge\":0.14727980523123255,\"element\":\"C\",\"location\":[4.961670180834607,2.1820226331061794,5.652689350454587]},{\"charge\":0.16731052063627674,\"element\":\"C\",\"location\":[4.24652208898745,1.4158581977906226,6.551898016542973]},{\"charge\":-0.21591865293455909,\"element\":\"N\",\"location\":[4.278757836529988,0.08022189130386952,6.645959592330099]},{\"charge\":0.12047731977686882,\"element\":\"C\",\"location\":[5.094483580510992,-0.48485783319863074,5.745556634575767]},{\"charge\":-0.21884522171452045,\"element\":\"N\",\"location\":[5.836628898613154,0.1368868592331543,4.81365945512185]},{\"charge\":0.1471558977214239,\"element\":\"C\",\"location\":[5.7803832646560425,1.4873071691638176,4.742942519268311]},{\"charge\":-0.3413132465740901,\"element\":\"N\",\"location\":[6.539389780888116,2.1228268022195325,3.790723610627183]},{\"charge\":0.022156048835955088,\"element\":\"C\",\"location\":[2.394344868624491,0.5514825952023195,8.723445482966635]},{\"charge\":0.10247814448438904,\"element\":\"C\",\"location\":[1.1799055779187135,0.16690797315332315,7.906281312200951]},{\"charge\":-0.2805162076015561,\"element\":\"O\",\"location\":[1.459478253515643,-0.7994367273184622,6.859948010378837]},{\"charge\":0.47533662691512985,\"element\":\"P\",\"location\":[0.037049383061495966,-1.2536747432390831,5.986298233070426]},{\"charge\":-0.30246766074172005,\"element\":\"O\",\"location\":[0.031622345882781566,0.17276205290618318,5.2603292831653565]},{\"charge\":-0.2273123210142659,\"element\":\"O\",\"location\":[0.9458558460205095,-2.073093707476786,5.078560286083913]},{\"charge\":-0.28397519563771634,\"element\":\"O\",\"location\":[-1.385379487392652,-1.7079127591597043,5.112648455762015]},{\"charge\":0.08778134950062799,\"element\":\"C\",\"location\":[-1.4434471494744843,-2.9125991452330444,4.488252367902412]},{\"charge\":0.11167534491064872,\"element\":\"C\",\"location\":[-2.901797917161275,-2.9054364270977526,3.9953871165444057]},{\"charge\":-0.34829251681578605,\"element\":\"O\",\"location\":[-3.6092150299046954,-4.154928019731525,4.079905446465703]},{\"charge\":0.14224159765025354,\"element\":\"C\",\"location\":[-4.850870081593537,-3.9618312202863994,3.3141551646388008]},{\"charge\":-0.2737050716344312,\"element\":\"N\",\"location\":[-4.918058739542199,-4.392259574524318,1.824570479071788]},{\"charge\":0.019883619196273582,\"element\":\"C\",\"location\":[-4.928928942930451,-5.751836101295189,1.4405400458722362]},{\"charge\":0.030228690661936834,\"element\":\"C\",\"location\":[-4.905892955364562,-6.158968506451703,0.15009296116771775]},{\"charge\":-0.0331857335434837,\"element\":\"C\",\"location\":[-4.697136257567644,-7.576908978824657,-0.2933584903330342]},{\"charge\":0.25683323856271334,\"element\":\"C\",\"location\":[-4.955665423179011,-5.129561465390936,-0.9459197527029692]},{\"charge\":-0.26743970504275333,\"element\":\"O\",\"location\":[-4.945125936698631,-5.417551465600361,-2.1370648459160906]},{\"charge\":-0.274653544975347,\"element\":\"N\",\"location\":[-4.9466926357524565,-3.8462211793940475,-0.49141148660032474]},{\"charge\":0.3313341335766539,\"element\":\"C\",\"location\":[-5.066319154166868,-3.442578492440912,0.8025291726854613]},{\"charge\":-0.2463962402064492,\"element\":\"O\",\"location\":[-5.331447887904466,-2.260644449616769,0.9907499199121172]},{\"charge\":0.022208951660125265,\"element\":\"C\",\"location\":[-5.122746221567306,-2.4681584417251523,3.631520238052147]},{\"charge\":0.10247886401318448,\"element\":\"C\",\"location\":[-3.797457088546672,-1.6618774618391392,3.6997261118387414]},{\"charge\":-0.2805162044815338,\"element\":\"O\",\"location\":[-3.5180088265254215,-0.7709746216338697,2.401457529542607]},{\"charge\":0.47533662691512985,\"element\":\"P\",\"location\":[-2.0662956572904063,0.16924183191654218,2.3637495099351646]},{\"charge\":-0.30246766074172005,\"element\":\"O\",\"location\":[-1.7559022964402429,-0.07739094916122605,3.865430194940283]},{\"charge\":-0.2273123210142659,\"element\":\"O\",\"location\":[-3.0101110494545833,1.3762325356992173,2.4794539740726442]},{\"charge\":-0.28397519563771634,\"element\":\"O\",\"location\":[-0.6145824880553912,1.109458285466954,2.3260414903277224]},{\"charge\":0.08778134545500646,\"element\":\"C\",\"location\":[-0.9301804869450088,2.579379400299372,2.809981272463837]},{\"charge\":0.11167441317313621,\"element\":\"C\",\"location\":[0.3622191945220097,3.3985094004685212,2.986408082899179]},{\"charge\":-0.34834636009886133,\"element\":\"O\",\"location\":[0.36355108113805024,4.802113117116005,3.313034182331249]},{\"charge\":0.14081291554088443,\"element\":\"C\",\"location\":[1.7948535438450959,5.139831036130293,3.4143423789065643]},{\"charge\":-0.28777915877733107,\"element\":\"N\",\"location\":[2.5214711835941594,5.54070033400352,2.1753872614259384]},{\"charge\":0.1004076775494347,\"element\":\"C\",\"location\":[3.2788123421354642,4.687103862351858,1.3719821956833291]},{\"charge\":-0.22856760349742986,\"element\":\"N\",\"location\":[3.889194201839925,5.299025517909937,0.38097388775730945]},{\"charge\":0.17205352342274183,\"element\":\"C\",\"location\":[3.525980136281478,6.603237163239079,0.5187211658843403]},{\"charge\":0.1711283033296851,\"element\":\"C\",\"location\":[2.6989712650674855,6.803430882934224,1.6143352916927363]},{\"charge\":-0.1963150047933053,\"element\":\"N\",\"location\":[2.1907687036538865,7.995960409014772,2.030200880204365]},{\"charge\":0.194969830997067,\"element\":\"C\",\"location\":[2.5738936282425025,9.02013671317727,1.3021630819881107]},{\"charge\":-0.3288571606149599,\"element\":\"N\",\"location\":[2.1749391316785838,10.277077846196175,1.6105367718622876]},{\"charge\":-0.29344760394299707,\"element\":\"N\",\"location\":[3.391506420559957,8.920426524667484,0.19254840650461436]},{\"charge\":0.28031643341979945,\"element\":\"C\",\"location\":[3.917523597036406,7.73639601268681,-0.29001219970817793]},{\"charge\":-0.2653719196481901,\"element\":\"O\",\"location\":[4.6497272907964105,7.705231203172206,-1.2744828415824658]},{\"charge\":0.022156055418869156,\"element\":\"C\",\"location\":[2.3192724904164725,3.8413637679344497,4.05008825099171]},{\"charge\":0.10247814474269369,\"element\":\"C\",\"location\":[1.4803981617555193,2.6473048560900416,3.5982460043118487]},{\"charge\":-0.2805162076015561,\"element\":\"O\",\"location\":[2.1498501160496177,1.7461055479373844,2.6210515972952297]},{\"charge\":0.47533662691512985,\"element\":\"P\",\"location\":[1.1985506942045427,0.4640059994794147,1.9546056821294924]},{\"charge\":-0.30246766074172005,\"element\":\"O\",\"location\":[2.0070520036348007,-0.2607232392738502,3.1237583468129255]},{\"charge\":-0.2273123210142659,\"element\":\"O\",\"location\":[1.0823504429080248,1.6333117055774071,1.2036221105605254]},{\"charge\":-0.28397519563771634,\"element\":\"O\",\"location\":[0.24725127235946776,-0.8180935489785547,1.288159766963755]},{\"charge\":0.08778134950062799,\"element\":\"C\",\"location\":[0.8036480743197485,-2.1115050765121253,1.8226349037123937]},{\"charge\":0.11167534856547981,\"element\":\"C\",\"location\":[-0.011900929803450033,-3.336788850505849,1.3917802477123642]},{\"charge\":-0.3482918399819102,\"element\":\"O\",\"location\":[0.30131943986988663,-4.7236995658064584,1.7609486255925324]},{\"charge\":0.1422893565030024,\"element\":\"C\",\"location\":[-0.9213690660266396,-5.564024037807575,1.6437452602239286]},{\"charge\":-0.27250177615367027,\"element\":\"N\",\"location\":[-1.385393935921738,-6.153690154220372,0.3527016464919024]},{\"charge\":0.35209518136157053,\"element\":\"C\",\"location\":[-2.2190332335664107,-5.486092769443334,-0.5531950110664035]},{\"charge\":-0.2443621627146684,\"element\":\"O\",\"location\":[-2.603965452660903,-4.268165256154236,-0.28370936557737103]},{\"charge\":-0.1783364567429903,\"element\":\"N\",\"location\":[-2.4787640237809048,-5.8831542659667635,-1.8005482243445003]},{\"charge\":0.12297897825654482,\"element\":\"C\",\"location\":[-2.0474135720761777,-7.058286524707414,-2.1709543818770287]},{\"charge\":-0.34295618387881577,\"element\":\"N\",\"location\":[-2.1520213950082683,-7.330038749130758,-3.4943804425448137]},{\"charge\":-0.005588433622463248,\"element\":\"C\",\"location\":[-1.4132988984920303,-7.945553604249796,-1.1643303777941272]},{\"charge\":0.0151352839299863,\"element\":\"C\",\"location\":[-0.9847714248262802,-7.415274916614728,-0.016536857060914123]},{\"charge\":0.02220962475416553,\"element\":\"C\",\"location\":[-1.9359737003855026,-4.608053199573747,2.050685271189594]},{\"charge\":0.1024788668448658,\"element\":\"C\",\"location\":[-1.512003859965522,-3.2090257961467414,1.5412069656750749]},{\"charge\":-0.2805162044815338,\"element\":\"O\",\"location\":[-2.6037403110064803,-2.2921491119064523,1.0699306112659315]},{\"charge\":0.47533662691512985,\"element\":\"P\",\"location\":[-1.9832298958609673,-0.6935643905309926,0.8410338806626161]},{\"charge\":-0.30246766074172005,\"element\":\"O\",\"location\":[-3.5050961059307046,-0.40339311964831887,0.353388032960261]},{\"charge\":-0.2273123210142659,\"element\":\"O\",\"location\":[-1.1991042772764287,-1.1867701665042447,-0.3253191266701583]},{\"charge\":-0.28397519563771634,\"element\":\"O\",\"location\":[-1.3627194807154543,0.9050203308444674,0.6121371500593007]},{\"charge\":0.08778134545500646,\"element\":\"C\",\"location\":[-2.045564464430506,1.8215700903990188,-0.0770897221751019]},{\"charge\":0.11167441317313621,\"element\":\"C\",\"location\":[-1.1096068169144937,2.9436696207522774,-0.450971137682898]},{\"charge\":-0.34834636668177543,\"element\":\"O\",\"location\":[-1.6848644556836536,4.259206265321702,-0.37857827508157715]},{\"charge\":0.14081139488859895,\"element\":\"C\",\"location\":[-0.6546467088473094,5.396907514205739,-0.26612077262814005]},{\"charge\":-0.28788196889350187,\"element\":\"N\",\"location\":[0.10595015164768462,6.017927577321155,-1.3881071149717394]},{\"charge\":0.10033354848846261,\"element\":\"C\",\"location\":[-0.05563350563192593,7.252050766050186,-1.9506539952728579]},{\"charge\":-0.23056359974965807,\"element\":\"N\",\"location\":[0.5355024254830036,7.350044986801137,-3.1311088031127534]},{\"charge\":0.14727980523123255,\"element\":\"C\",\"location\":[1.2425911702630046,6.184858825602954,-3.2610393325856366]},{\"charge\":0.16731052063627674,\"element\":\"C\",\"location\":[1.157746996522242,5.502979492495397,-2.068835088540962]},{\"charge\":-0.21591865293455909,\"element\":\"N\",\"location\":[1.7899014833631472,4.413696633890498,-1.7179796897600985]},{\"charge\":0.12047731977686882,\"element\":\"C\",\"location\":[2.4385492536064506,3.8773778812566495,-2.6977411161427023]},{\"charge\":-0.21884522171452045,\"element\":\"N\",\"location\":[2.5982124918367733,4.389150116954345,-3.9354986545052286]},{\"charge\":0.1471558977214239,\"element\":\"C\",\"location\":[1.9911943286772713,5.553654208490222,-4.2695717967364955]},{\"charge\":-0.3413132465740901,\"element\":\"N\",\"location\":[2.1661566960950145,5.9994180862783555,-5.573242504546315]},{\"charge\":0.022156048835955088,\"element\":\"C\",\"location\":[0.28839744218942,4.648247370024037,0.48000684007974925]},{\"charge\":0.10247814474269369,\"element\":\"C\",\"location\":[0.269510916834677,3.243906270345468,-0.030834116467588046]},{\"charge\":-0.2805162076015561,\"element\":\"O\",\"location\":[1.5841667936767045,2.5267443354443637,-0.37190259331802267]},{\"charge\":0.47533662691512985,\"element\":\"P\",\"location\":[1.635586876357542,1.0369274499238232,-1.0312557348385427]},{\"charge\":-0.30246766074172005,\"element\":\"O\",\"location\":[0.2369754869006968,0.6566002473145003,-0.5348995994702941]},{\"charge\":-0.2273123210142659,\"element\":\"O\",\"location\":[1.0028659328745526,1.3223880949237916,-2.294401128564478]},{\"charge\":-0.28397519563771634,\"element\":\"O\",\"location\":[1.9229499637017424,-0.5415399749463813,-0.5686919259210743]},{\"charge\":0.08778134950062799,\"element\":\"C\",\"location\":[1.1673401790393818,-1.4151958049405275,-1.4967780311301846]},{\"charge\":0.11167534491064872,\"element\":\"C\",\"location\":[0.8499855772697007,-2.871266630475872,-1.7341692342153516]},{\"charge\":-0.34829251681578605,\"element\":\"O\",\"location\":[1.888228211326184,-3.8223084565830843,-1.4161623909452166]},{\"charge\":0.14224159765025354,\"element\":\"C\",\"location\":[1.3204645502140808,-5.139703803396109,-1.6861107358178176]},{\"charge\":-0.2737050716344312,\"element\":\"N\",\"location\":[1.2224243790427192,-5.8746656155027,-3.0606539269649486]},{\"charge\":0.019883619196273582,\"element\":\"C\",\"location\":[1.040430168399988,-7.260788422807277,-3.0065881484625576]},{\"charge\":0.030228690661936834,\"element\":\"C\",\"location\":[0.9652976273022542,-8.02364482535529,-4.108776895027513]},{\"charge\":-0.0331857335434837,\"element\":\"C\",\"location\":[0.7217414705777072,-9.48093062743987,-4.136589820462029]},{\"charge\":0.25683323856271334,\"element\":\"C\",\"location\":[1.1738193217125117,-7.3873726194009715,-5.421686943855383]},{\"charge\":-0.26743970504275333,\"element\":\"O\",\"location\":[1.279098264839515,-8.026808637230273,-6.464099238841215]},{\"charge\":-0.274653544975347,\"element\":\"N\",\"location\":[1.132837162685436,-6.044401285826577,-5.385636672362129]},{\"charge\":0.3313341335766539,\"element\":\"C\",\"location\":[0.7288238110108036,-5.359086380846943,-4.2731116003122915]},{\"charge\":-0.2463962402064492,\"element\":\"O\",\"location\":[0.07607771964961785,-4.354395262478741,-4.461713801511716]},{\"charge\":0.022208951660125265,\"element\":\"C\",\"location\":[-0.028303485813556684,-4.789179501443025,-1.3250967633310742]},{\"charge\":0.10247886401318448,\"element\":\"C\",\"location\":[-0.5082381335530153,-3.3891448114955796,-1.5202902620729768]},{\"charge\":-0.2805162044815338,\"element\":\"O\",\"location\":[-1.7020551270585704,-3.108423533795336,-2.229877971617591]},{\"charge\":0.47533662691512985,\"element\":\"P\",\"location\":[-1.988537612271462,-1.4668583612843173,-2.694734476428608]},{\"charge\":-0.30246766074172005,\"element\":\"O\",\"location\":[-2.97128275621679,-2.101428641759732,-3.8549106542846188]},{\"charge\":-0.2273123210142659,\"element\":\"O\",\"location\":[-3.118872316541563,-1.410170494476217,-1.6705977856395462]},{\"charge\":-0.28397519563771634,\"element\":\"O\",\"location\":[-2.2750200974843535,0.17470681122670106,-3.1595909812396252]},{\"charge\":0.08778134545500646,\"element\":\"C\",\"location\":[-2.3410784234492983,1.2556803463917112,-2.4462242521870303]},{\"charge\":0.11167441317313621,\"element\":\"C\",\"location\":[-2.47452374372708,2.6320349297527033,-2.9990651411024727]},{\"charge\":-0.34834636668177543,\"element\":\"O\",\"location\":[-3.5269613019411277,3.167467337558303,-2.155388638902413]},{\"charge\":0.14081139488859895,\"element\":\"C\",\"location\":[-3.4065223165860767,4.57400550203147,-2.1386825216455216]},{\"charge\":-0.28788196889350187,\"element\":\"N\",\"location\":[-4.277169884957064,5.125249857745116,-3.101383329017806]},{\"charge\":0.10033354848846261,\"element\":\"C\",\"location\":[-4.7368843864463495,4.3525938697279045,-4.125342108310899]},{\"charge\":-0.23056359974965807,\"element\":\"N\",\"location\":[-4.97214943122806,5.082859040268395,-5.175694871530234]},{\"charge\":0.14727980523123255,\"element\":\"C\",\"location\":[-4.597135679682914,6.353696707580143,-4.78795815446894]},{\"charge\":0.16731052063627674,\"element\":\"C\",\"location\":[-4.115838494680031,6.417476968067465,-3.5090747023072213]},{\"charge\":-0.21591865293455909,\"element\":\"N\",\"location\":[-3.513328883561137,7.4555640386372755,-2.88421006506153]},{\"charge\":0.12047731977686882,\"element\":\"C\",\"location\":[-3.5631430360253487,8.550669698262345,-3.6687778323593294]},{\"charge\":-0.21884522171452045,\"element\":\"N\",\"location\":[-4.138911405379306,8.66791280847553,-4.886636353086982]},{\"charge\":0.1471558977214239,\"element\":\"C\",\"location\":[-4.651380307118054,7.555595024294264,-5.459452054787728]},{\"charge\":-0.3413132465740901,\"element\":\"N\",\"location\":[-5.269716414071008,7.580987272722606,-6.678449589291795]},{\"charge\":0.022156048835955088,\"element\":\"C\",\"location\":[-2.0798994327597655,4.944777417731456,-2.7096680255593073]},{\"charge\":0.10247814474269369,\"element\":\"C\",\"location\":[-1.3746145261128646,3.681266738728509,-2.9146710697931892]},{\"charge\":-0.2805162076015561,\"element\":\"O\",\"location\":[-0.22300065235672495,3.721534908157257,-3.60464308027226]},{\"charge\":0.47533662596388176,\"element\":\"P\",\"location\":[0.4864181197763209,2.2435216543662357,-4.157003313601309]},{\"charge\":-0.30246766074172005,\"element\":\"O\",\"location\":[1.8733302611439537,2.546293957245477,-4.92403464596151]},{\"charge\":-0.2273123210142659,\"element\":\"O\",\"location\":[-0.7219346519967713,1.407754924187519,-4.4037554632098255]},{\"charge\":-0.28397547395369516,\"element\":\"O\",\"location\":[1.1958368919093667,0.7655084005752145,-4.709363546930358]},{\"charge\":0.08775840909433072,\"element\":\"C\",\"location\":[1.853343703602813,-0.03488142747060923,-3.8599870473856734]},{\"charge\":0.1108468763275923,\"element\":\"C\",\"location\":[2.5905522857368473,-1.1625198442594675,-4.423874341365646]},{\"charge\":-0.3483161150583749,\"element\":\"O\",\"location\":[3.6580472300993163,-1.500076450113519,-3.4918443295053097]},{\"charge\":0.14221913582725138,\"element\":\"C\",\"location\":[3.8900490402965717,-2.9067600526114674,-3.588538724220977]},{\"charge\":-0.2737053459096226,\"element\":\"N\",\"location\":[4.786659391066748,-3.2498191696314023,-4.658980303125646]},{\"charge\":0.019883617999477177,\"element\":\"C\",\"location\":[5.180803130262839,-2.211248474732811,-5.443773877059994]},{\"charge\":0.030228690661936834,\"element\":\"C\",\"location\":[5.4899014484631605,-2.3688428907439083,-6.718647824571362]},{\"charge\":-0.0331857335434837,\"element\":\"C\",\"location\":[5.733876882461172,-1.2028310566578915,-7.589557525799418]},{\"charge\":0.25683323856271334,\"element\":\"C\",\"location\":[5.581347232765741,-3.7387340183498083,-7.2423486641462675]},{\"charge\":-0.26743970504275333,\"element\":\"O\",\"location\":[5.876109389401498,-3.955631873238516,-8.410398035491117]},{\"charge\":-0.274653544975347,\"element\":\"N\",\"location\":[5.357139032067729,-4.745544217201356,-6.3478047393041654]},{\"charge\":0.3313341326324985,\"element\":\"C\",\"location\":[4.839488487585114,-4.582859366366025,-5.0939056296493]},{\"charge\":-0.2463962402064492,\"element\":\"O\",\"location\":[4.384564708309266,-5.557561327990783,-4.492409726942136]},{\"charge\":0.021376262369052608,\"element\":\"C\",\"location\":[2.5761154132127695,-3.4226037846282598,-4.037860871423709]},{\"charge\":0.08766602288491197,\"element\":\"C\",\"location\":[1.6641440724215473,-2.3051173110844423,-4.5071859241543395]},{\"charge\":-0.38899822169061066,\"element\":\"O\",\"location\":[1.203930328930622,-2.409269610351759,-5.83589220135672]},{\"charge\":0.2220261781736815,\"element\":\"H\",\"location\":[-5.2524950206321215,-0.5724638517396449,7.851870871878546]},{\"charge\":0.2220261781736815,\"element\":\"H\",\"location\":[-3.9654321804343002,0.009955733867767637,9.331332249252547]},{\"charge\":0.059228294123191465,\"element\":\"H\",\"location\":[-1.3773345996600357,2.025307083461985,8.308553385778584]},{\"charge\":0.059228294123191465,\"element\":\"H\",\"location\":[-1.305260464720556,2.0948827822277427,6.549926398371598]},{\"charge\":0.06460619510194071,\"element\":\"H\",\"location\":[0.972122825396478,1.7295531620414588,6.396022284331288]},{\"charge\":0.08395564776987698,\"element\":\"H\",\"location\":[3.0157768661011692,2.572194341925634,9.283983150395532]},{\"charge\":0.10299764467010505,\"element\":\"H\",\"location\":[3.394174608668666,4.463948509951635,7.253492058343382]},{\"charge\":0.10481068766388198,\"element\":\"H\",\"location\":[5.162908066935029,-1.5690440340994127,5.782928029820238]},{\"charge\":0.14376924768100718,\"element\":\"H\",\"location\":[7.082807767782492,1.5620954646234426,3.153977447452151]},{\"charge\":0.14376924768100718,\"element\":\"H\",\"location\":[6.4704671878482545,3.124949025591421,3.694573915782291]},{\"charge\":0.03348104480110914,\"element\":\"H\",\"location\":[2.1460253866215613,0.4505808103365791,9.784820272653082]},{\"charge\":0.03348104480110914,\"element\":\"H\",\"location\":[3.2512109524360744,-0.09509367526247833,8.569561840858663]},{\"charge\":0.06298689459384242,\"element\":\"H\",\"location\":[0.4662561912832821,-0.3011904719473202,8.591188080522578]},{\"charge\":0.22203101330329014,\"element\":\"H\",\"location\":[-0.7180244091852988,0.4579274700026524,5.807185405074955]},{\"charge\":0.05922835368287413,\"element\":\"H\",\"location\":[-0.8516312723993842,-3.7935175115002115,4.782388883070157]},{\"charge\":0.05922835368287413,\"element\":\"H\",\"location\":[-0.7191043325713213,-2.626255848661968,3.756475695172611]},{\"charge\":0.0646061991951852,\"element\":\"H\",\"location\":[-2.7900075876703254,-2.988512393431135,2.982354062119051]},{\"charge\":0.0840082116334065,\"element\":\"H\",\"location\":[-5.480551851670126,-4.688170665374805,3.8229845959210844]},{\"charge\":0.08155535811178823,\"element\":\"H\",\"location\":[-4.883936463840417,-6.483784142782519,2.238684431913259]},{\"charge\":0.02796527863289852,\"element\":\"H\",\"location\":[-4.732569177589043,-8.278766924519136,0.5393318323395677]},{\"charge\":0.02796527863289852,\"element\":\"H\",\"location\":[-3.721931369317917,-7.754486877219982,-0.7238359950846212]},{\"charge\":0.02796527863289852,\"element\":\"H\",\"location\":[-5.396343066172536,-7.85039372891201,-1.081552205780798]},{\"charge\":0.17343808455883328,\"element\":\"H\",\"location\":[-4.600770678189804,-3.125533256388551,-1.125847031041757]},{\"charge\":0.03348173490892785,\"element\":\"H\",\"location\":[-5.510988721697855,-2.4830378401035587,4.653261484037934]},{\"charge\":0.03348173490892785,\"element\":\"H\",\"location\":[-5.859506725401165,-2.028825820661112,2.9869466371462714]},{\"charge\":0.06298689756113637,\"element\":\"H\",\"location\":[-3.780729789088339,-0.9592731192829212,4.532436378463749]},{\"charge\":0.22203101330329014,\"element\":\"H\",\"location\":[-1.196422525182177,-0.868730484210225,3.8353899295199003]},{\"charge\":0.05922835368287413,\"element\":\"H\",\"location\":[-1.5329018773273537,2.573929215301193,3.720333809552238]},{\"charge\":0.05922835368287413,\"element\":\"H\",\"location\":[-1.5988199521696664,3.036016644817368,2.058480660523582]},{\"charge\":0.06460619534760109,\"element\":\"H\",\"location\":[0.8749265710293992,3.489243534124028,2.0695542696881777]},{\"charge\":0.0839556540305505,\"element\":\"H\",\"location\":[1.8391281998579503,6.021253687719526,4.05622136909857]},{\"charge\":0.10299858455044344,\"element\":\"H\",\"location\":[3.2696758052784647,3.6119223871084802,1.4857541324328105]},{\"charge\":0.14510087321021473,\"element\":\"H\",\"location\":[1.5940765087055784,10.41215790798556,2.427204231634091]},{\"charge\":0.14510087321021473,\"element\":\"H\",\"location\":[2.468824147567987,11.09936972193459,1.1028176318114866]},{\"charge\":0.1716420411897617,\"element\":\"H\",\"location\":[3.660073682251439,9.736234339068542,-0.3318468980639535]},{\"charge\":0.03348104480110914,\"element\":\"H\",\"location\":[2.088508264357669,3.958333739900669,5.107983050024181]},{\"charge\":0.03348104480110914,\"element\":\"H\",\"location\":[3.3691906309311337,3.6886179822349154,3.8481829705697237]},{\"charge\":0.06298689459384242,\"element\":\"H\",\"location\":[1.0515882975150292,2.0639544238131786,4.399673601171011]},{\"charge\":0.22203101330329014,\"element\":\"H\",\"location\":[1.8604519138011417,0.08808209623571095,4.0307182530481445]},{\"charge\":0.05922835368287413,\"element\":\"H\",\"location\":[0.7903026601129959,-2.050263045056829,2.892732328177779]},{\"charge\":0.05922835368287413,\"element\":\"H\",\"location\":[1.8603700792756452,-2.224986664857162,1.5548926636717448]},{\"charge\":0.0646061991951852,\"element\":\"H\",\"location\":[0.3781660726994014,-3.279710388463425,0.43060212648591545]},{\"charge\":0.08400886058752134,\"element\":\"H\",\"location\":[-0.8563560320551487,-6.3829001955317795,2.371924669303758]},{\"charge\":0.14370913389030246,\"element\":\"H\",\"location\":[-2.2319308243090576,-6.511424071385538,-4.108529886915352]},{\"charge\":0.14370913389030246,\"element\":\"H\",\"location\":[-1.697766317271621,-8.13013738185535,-3.8973251979162375]},{\"charge\":0.06662955746756727,\"element\":\"H\",\"location\":[-1.2468150796745903,-8.963975093836439,-1.453317049821945]},{\"charge\":0.08122663987333702,\"element\":\"H\",\"location\":[-0.3213813313075278,-7.908453338983028,0.6816082266213286]},{\"charge\":0.033481737601995396,\"element\":\"H\",\"location\":[-1.9874748561310769,-4.843072300308532,3.102204867855697]},{\"charge\":0.033481737601995396,\"element\":\"H\",\"location\":[-2.876354361176084,-4.893028744067337,1.6667569453769424]},{\"charge\":0.06298689756113637,\"element\":\"H\",\"location\":[-1.3458988093922883,-2.530460897801014,2.3188274268731455]},{\"charge\":0.22203101330329014,\"element\":\"H\",\"location\":[-3.968983443401294,-1.142307488852242,0.8692160057836134]},{\"charge\":0.05922835368287413,\"element\":\"H\",\"location\":[-3.1293725677847406,1.8675865242028673,-0.04930340334519201]},{\"charge\":0.05922835368287413,\"element\":\"H\",\"location\":[-1.9033713985896856,1.0153167851798068,-0.7260046347887217]},{\"charge\":0.06460619534760109,\"element\":\"H\",\"location\":[-0.7608610293462119,2.4746078281760613,-1.3419128105355567]},{\"charge\":0.08395564776987698,\"element\":\"H\",\"location\":[-1.2049182077021605,6.197572162836527,0.23123075461166565]},{\"charge\":0.10299764467010505,\"element\":\"H\",\"location\":[-0.68551922934296,7.992499557075409,-1.4997514668724206]},{\"charge\":0.10481068766388198,\"element\":\"H\",\"location\":[2.605671499973469,2.8106411947555845,-2.57930245513218]},{\"charge\":0.14376924768100718,\"element\":\"H\",\"location\":[2.843456003303708,5.47972210575815,-6.120467402534625]},{\"charge\":0.14376924768100718,\"element\":\"H\",\"location\":[2.215243243937235,7.006345693145849,-5.628715275076458]},{\"charge\":0.03348104480110914,\"element\":\"H\",\"location\":[-0.28505541210538343,4.744044461003624,1.3890942462432605]},{\"charge\":0.03348104480110914,\"element\":\"H\",\"location\":[1.2499036650546396,5.0562223471506655,0.5082473320228234]},{\"charge\":0.06298689459384242,\"element\":\"H\",\"location\":[-0.09968699749538068,2.8531278160134086,0.8580704149938221]},{\"charge\":0.22203101330329014,\"element\":\"H\",\"location\":[0.0702303929819088,1.0592325393449016,0.32982065236212144]},{\"charge\":0.05922835368287413,\"element\":\"H\",\"location\":[1.9398833260722839,-1.378209215621561,-2.202008775176899]},{\"charge\":0.05922835368287413,\"element\":\"H\",\"location\":[0.26750319986010496,-0.9180394787096945,-1.8702430643661154]},{\"charge\":0.0646061991951852,\"element\":\"H\",\"location\":[0.6926581360452557,-3.0735518990708077,-2.7630751876231434]},{\"charge\":0.0840082116334065,\"element\":\"H\",\"location\":[1.8097982585998649,-5.826259994799973,-0.9809737875830917]},{\"charge\":0.08155535811178823,\"element\":\"H\",\"location\":[0.8502096758991113,-7.690122893586992,-2.0341035627313753]},{\"charge\":0.02796527863289852,\"element\":\"H\",\"location\":[0.4494041929777648,-9.857536350122336,-3.1488422175342015]},{\"charge\":0.02796527863289852,\"element\":\"H\",\"location\":[1.6491998871268772,-9.953967967590678,-4.463272146735597]},{\"charge\":0.02796527863289852,\"element\":\"H\",\"location\":[-0.08199094729350431,-9.736075997208005,-4.8375714817688324]},{\"charge\":0.17343808455883328,\"element\":\"H\",\"location\":[1.0472397577618242,-5.561711308697142,-6.264230845435542]},{\"charge\":0.03348173490892785,\"element\":\"H\",\"location\":[0.10975961298883163,-4.922655601246298,-0.28265660536226456]},{\"charge\":0.03348173490892785,\"element\":\"H\",\"location\":[-0.5499789210601973,-5.512394882764309,-1.848610786549787]},{\"charge\":0.06298689756113637,\"element\":\"H\",\"location\":[-0.854742777464848,-3.0185608192531324,-0.6163918346128661]},{\"charge\":0.22203101330329014,\"element\":\"H\",\"location\":[-3.5446137912692373,-2.6969936774389893,-3.3085609948655668]},{\"charge\":0.05922835368287413,\"element\":\"H\",\"location\":[-1.309749348896089,1.085587725406862,-2.1880824864756905]},{\"charge\":0.05922835368287413,\"element\":\"H\",\"location\":[-3.2123714241187127,0.9906575376145232,-1.8375379745517746]},{\"charge\":0.06460619534760109,\"element\":\"H\",\"location\":[-2.76872993866737,2.551619867434322,-4.036990405749802]},{\"charge\":0.08395564776987698,\"element\":\"H\",\"location\":[-3.6655334511523967,4.972255231364264,-1.1414730687149008]},{\"charge\":0.10299764467010505,\"element\":\"H\",\"location\":[-4.7674399916383745,3.269097736243394,-4.04601907218601]},{\"charge\":0.10481068766388198,\"element\":\"H\",\"location\":[-3.1213827308626265,9.45876017213129,-3.263597035299072]},{\"charge\":0.14376924768100718,\"element\":\"H\",\"location\":[-5.412542285896836,8.4572855873582,-7.134853943314682]},{\"charge\":0.14376924768100718,\"element\":\"H\",\"location\":[-5.640213276487476,6.694614158036783,-7.008572501410211]},{\"charge\":0.03348104480110914,\"element\":\"H\",\"location\":[-1.8392459692187777,5.557158330810459,-1.8810012682922563]},{\"charge\":0.03348104480110914,\"element\":\"H\",\"location\":[-1.8021346320412386,5.693773706060814,-3.441008827406633]},{\"charge\":0.06298689459384242,\"element\":\"H\",\"location\":[-0.7248199228722596,3.785995455969271,-2.111717653130552]},{\"charge\":0.22203101330329014,\"element\":\"H\",\"location\":[2.630339154374089,3.079117910167667,-4.589622473983607]},{\"charge\":0.059228087387686826,\"element\":\"H\",\"location\":[0.9417406197489511,-0.3853163199900881,-3.40890650086408]},{\"charge\":0.059228087387686826,\"element\":\"H\",\"location\":[2.5542475289408744,0.4920244365575007,-3.2202593262051566]},{\"charge\":0.06458350951246697,\"element\":\"H\",\"location\":[2.942024757194086,-0.9487103130233907,-5.422528168885882]},{\"charge\":0.084007948217037,\"element\":\"H\",\"location\":[4.285045259631949,-3.304592272347852,-2.6366043518611226]},{\"charge\":0.08155535811178823,\"element\":\"H\",\"location\":[5.110381347189326,-1.2158885633576695,-5.0119716363724285]},{\"charge\":0.02796527863289852,\"element\":\"H\",\"location\":[5.57006114578719,-0.2590280961460707,-7.052884297384547]},{\"charge\":0.02796527863289852,\"element\":\"H\",\"location\":[5.053829646720746,-1.2184143036280708,-8.443762146271563]},{\"charge\":0.02796527863289852,\"element\":\"H\",\"location\":[6.769813269843415,-1.234230103215138,-7.923488151841755]},{\"charge\":0.17343808455883328,\"element\":\"H\",\"location\":[5.401482287784746,-5.689241509850582,-6.694973373832002]},{\"charge\":0.03345983137440988,\"element\":\"H\",\"location\":[2.3791793934184033,-4.009475922395976,-3.190248117256515]},{\"charge\":0.03345983137440988,\"element\":\"H\",\"location\":[2.6150548729778285,-4.205430176187199,-4.765114902833964]},{\"charge\":0.06212396205724478,\"element\":\"H\",\"location\":[0.71818813190625,-2.0812499631031396,-4.005588097784844]},{\"charge\":0.20989178770207442,\"element\":\"H\",\"location\":[1.1207266420835884,-3.3509826832547294,-6.009240863214559]}],\"bonds\":[{\"atoms\":[0,1],\"order\":1},{\"atoms\":[1,2],\"order\":1},{\"atoms\":[1,3],\"order\":2},{\"atoms\":[1,4],\"order\":1},{\"atoms\":[4,5],\"order\":1},{\"atoms\":[5,6],\"order\":1},{\"atoms\":[6,7],\"order\":1},{\"atoms\":[7,8],\"order\":1},{\"atoms\":[8,9],\"order\":1},{\"atoms\":[9,10],\"order\":1},{\"atoms\":[10,11],\"order\":2},{\"atoms\":[11,12],\"order\":1},{\"atoms\":[12,13],\"order\":2},{\"atoms\":[9,13],\"order\":1},{\"atoms\":[13,14],\"order\":1},{\"atoms\":[14,15],\"order\":2},{\"atoms\":[15,16],\"order\":1},{\"atoms\":[16,17],\"order\":2},{\"atoms\":[12,17],\"order\":1},{\"atoms\":[17,18],\"order\":1},{\"atoms\":[8,19],\"order\":1},{\"atoms\":[19,20],\"order\":1},{\"atoms\":[6,20],\"order\":1},{\"atoms\":[20,21],\"order\":1},{\"atoms\":[21,22],\"order\":1},{\"atoms\":[22,23],\"order\":1},{\"atoms\":[22,24],\"order\":2},{\"atoms\":[22,25],\"order\":1},{\"atoms\":[25,26],\"order\":1},{\"atoms\":[26,27],\"order\":1},{\"atoms\":[27,28],\"order\":1},{\"atoms\":[28,29],\"order\":1},{\"atoms\":[29,30],\"order\":1},{\"atoms\":[30,31],\"order\":1},{\"atoms\":[31,32],\"order\":2},{\"atoms\":[32,33],\"order\":1},{\"atoms\":[32,34],\"order\":1},{\"atoms\":[34,35],\"order\":2},{\"atoms\":[34,36],\"order\":1},{\"atoms\":[36,37],\"order\":1},{\"atoms\":[30,37],\"order\":1},{\"atoms\":[37,38],\"order\":2},{\"atoms\":[29,39],\"order\":1},{\"atoms\":[39,40],\"order\":1},{\"atoms\":[27,40],\"order\":1},{\"atoms\":[40,41],\"order\":1},{\"atoms\":[41,42],\"order\":1},{\"atoms\":[42,43],\"order\":1},{\"atoms\":[42,44],\"order\":2},{\"atoms\":[42,45],\"order\":1},{\"atoms\":[45,46],\"order\":1},{\"atoms\":[46,47],\"order\":1},{\"atoms\":[47,48],\"order\":1},{\"atoms\":[48,49],\"order\":1},{\"atoms\":[49,50],\"order\":1},{\"atoms\":[50,51],\"order\":1},{\"atoms\":[51,52],\"order\":2},{\"atoms\":[52,53],\"order\":1},{\"atoms\":[53,54],\"order\":2},{\"atoms\":[50,54],\"order\":1},{\"atoms\":[54,55],\"order\":1},{\"atoms\":[55,56],\"order\":2},{\"atoms\":[56,57],\"order\":1},{\"atoms\":[56,58],\"order\":1},{\"atoms\":[58,59],\"order\":1},{\"atoms\":[53,59],\"order\":1},{\"atoms\":[59,60],\"order\":2},{\"atoms\":[49,61],\"order\":1},{\"atoms\":[61,62],\"order\":1},{\"atoms\":[47,62],\"order\":1},{\"atoms\":[62,63],\"order\":1},{\"atoms\":[63,64],\"order\":1},{\"atoms\":[64,65],\"order\":1},{\"atoms\":[64,66],\"order\":2},{\"atoms\":[64,67],\"order\":1},{\"atoms\":[67,68],\"order\":1},{\"atoms\":[68,69],\"order\":1},{\"atoms\":[69,70],\"order\":1},{\"atoms\":[70,71],\"order\":1},{\"atoms\":[71,72],\"order\":1},{\"atoms\":[72,73],\"order\":1},{\"atoms\":[73,74],\"order\":2},{\"atoms\":[73,75],\"order\":1},{\"atoms\":[75,76],\"order\":2},{\"atoms\":[76,77],\"order\":1},{\"atoms\":[76,78],\"order\":1},{\"atoms\":[78,79],\"order\":2},{\"atoms\":[72,79],\"order\":1},{\"atoms\":[71,80],\"order\":1},{\"atoms\":[80,81],\"order\":1},{\"atoms\":[69,81],\"order\":1},{\"atoms\":[81,82],\"order\":1},{\"atoms\":[82,83],\"order\":1},{\"atoms\":[83,84],\"order\":1},{\"atoms\":[83,85],\"order\":2},{\"atoms\":[83,86],\"order\":1},{\"atoms\":[86,87],\"order\":1},{\"atoms\":[87,88],\"order\":1},{\"atoms\":[88,89],\"order\":1},{\"atoms\":[89,90],\"order\":1},{\"atoms\":[90,91],\"order\":1},{\"atoms\":[91,92],\"order\":1},{\"atoms\":[92,93],\"order\":2},{\"atoms\":[93,94],\"order\":1},{\"atoms\":[94,95],\"order\":2},{\"atoms\":[91,95],\"order\":1},{\"atoms\":[95,96],\"order\":1},{\"atoms\":[96,97],\"order\":2},{\"atoms\":[97,98],\"order\":1},{\"atoms\":[98,99],\"order\":2},{\"atoms\":[94,99],\"order\":1},{\"atoms\":[99,100],\"order\":1},{\"atoms\":[90,101],\"order\":1},{\"atoms\":[101,102],\"order\":1},{\"atoms\":[88,102],\"order\":1},{\"atoms\":[102,103],\"order\":1},{\"atoms\":[103,104],\"order\":1},{\"atoms\":[104,105],\"order\":1},{\"atoms\":[104,106],\"order\":2},{\"atoms\":[104,107],\"order\":1},{\"atoms\":[107,108],\"order\":1},{\"atoms\":[108,109],\"order\":1},{\"atoms\":[109,110],\"order\":1},{\"atoms\":[110,111],\"order\":1},{\"atoms\":[111,112],\"order\":1},{\"atoms\":[112,113],\"order\":1},{\"atoms\":[113,114],\"order\":2},{\"atoms\":[114,115],\"order\":1},{\"atoms\":[114,116],\"order\":1},{\"atoms\":[116,117],\"order\":2},{\"atoms\":[116,118],\"order\":1},{\"atoms\":[118,119],\"order\":1},{\"atoms\":[112,119],\"order\":1},{\"atoms\":[119,120],\"order\":2},{\"atoms\":[111,121],\"order\":1},{\"atoms\":[121,122],\"order\":1},{\"atoms\":[109,122],\"order\":1},{\"atoms\":[122,123],\"order\":1},{\"atoms\":[123,124],\"order\":1},{\"atoms\":[124,125],\"order\":1},{\"atoms\":[124,126],\"order\":2},{\"atoms\":[124,127],\"order\":1},{\"atoms\":[127,128],\"order\":1},{\"atoms\":[128,129],\"order\":1},{\"atoms\":[129,130],\"order\":1},{\"atoms\":[130,131],\"order\":1},{\"atoms\":[131,132],\"order\":1},{\"atoms\":[132,133],\"order\":1},{\"atoms\":[133,134],\"order\":2},{\"atoms\":[134,135],\"order\":1},{\"atoms\":[135,136],\"order\":2},{\"atoms\":[132,136],\"order\":1},{\"atoms\":[136,137],\"order\":1},{\"atoms\":[137,138],\"order\":2},{\"atoms\":[138,139],\"order\":1},{\"atoms\":[139,140],\"order\":2},{\"atoms\":[135,140],\"order\":1},{\"atoms\":[140,141],\"order\":1},{\"atoms\":[131,142],\"order\":1},{\"atoms\":[142,143],\"order\":1},{\"atoms\":[129,143],\"order\":1},{\"atoms\":[143,144],\"order\":1},{\"atoms\":[144,145],\"order\":1},{\"atoms\":[145,146],\"order\":1},{\"atoms\":[145,147],\"order\":2},{\"atoms\":[145,148],\"order\":1},{\"atoms\":[148,149],\"order\":1},{\"atoms\":[149,150],\"order\":1},{\"atoms\":[150,151],\"order\":1},{\"atoms\":[151,152],\"order\":1},{\"atoms\":[152,153],\"order\":1},{\"atoms\":[153,154],\"order\":1},{\"atoms\":[154,155],\"order\":2},{\"atoms\":[155,156],\"order\":1},{\"atoms\":[155,157],\"order\":1},{\"atoms\":[157,158],\"order\":2},{\"atoms\":[157,159],\"order\":1},{\"atoms\":[159,160],\"order\":1},{\"atoms\":[153,160],\"order\":1},{\"atoms\":[160,161],\"order\":2},{\"atoms\":[152,162],\"order\":1},{\"atoms\":[162,163],\"order\":1},{\"atoms\":[150,163],\"order\":1},{\"atoms\":[163,164],\"order\":1},{\"atoms\":[0,165],\"order\":1},{\"atoms\":[2,166],\"order\":1},{\"atoms\":[5,167],\"order\":1},{\"atoms\":[5,168],\"order\":1},{\"atoms\":[6,169],\"order\":1},{\"atoms\":[8,170],\"order\":1},{\"atoms\":[10,171],\"order\":1},{\"atoms\":[15,172],\"order\":1},{\"atoms\":[18,173],\"order\":1},{\"atoms\":[18,174],\"order\":1},{\"atoms\":[19,175],\"order\":1},{\"atoms\":[19,176],\"order\":1},{\"atoms\":[20,177],\"order\":1},{\"atoms\":[23,178],\"order\":1},{\"atoms\":[26,179],\"order\":1},{\"atoms\":[26,180],\"order\":1},{\"atoms\":[27,181],\"order\":1},{\"atoms\":[29,182],\"order\":1},{\"atoms\":[31,183],\"order\":1},{\"atoms\":[33,184],\"order\":1},{\"atoms\":[33,185],\"order\":1},{\"atoms\":[33,186],\"order\":1},{\"atoms\":[36,187],\"order\":1},{\"atoms\":[39,188],\"order\":1},{\"atoms\":[39,189],\"order\":1},{\"atoms\":[40,190],\"order\":1},{\"atoms\":[43,191],\"order\":1},{\"atoms\":[46,192],\"order\":1},{\"atoms\":[46,193],\"order\":1},{\"atoms\":[47,194],\"order\":1},{\"atoms\":[49,195],\"order\":1},{\"atoms\":[51,196],\"order\":1},{\"atoms\":[57,197],\"order\":1},{\"atoms\":[57,198],\"order\":1},{\"atoms\":[58,199],\"order\":1},{\"atoms\":[61,200],\"order\":1},{\"atoms\":[61,201],\"order\":1},{\"atoms\":[62,202],\"order\":1},{\"atoms\":[65,203],\"order\":1},{\"atoms\":[68,204],\"order\":1},{\"atoms\":[68,205],\"order\":1},{\"atoms\":[69,206],\"order\":1},{\"atoms\":[71,207],\"order\":1},{\"atoms\":[77,208],\"order\":1},{\"atoms\":[77,209],\"order\":1},{\"atoms\":[78,210],\"order\":1},{\"atoms\":[79,211],\"order\":1},{\"atoms\":[80,212],\"order\":1},{\"atoms\":[80,213],\"order\":1},{\"atoms\":[81,214],\"order\":1},{\"atoms\":[84,215],\"order\":1},{\"atoms\":[87,216],\"order\":1},{\"atoms\":[87,217],\"order\":1},{\"atoms\":[88,218],\"order\":1},{\"atoms\":[90,219],\"order\":1},{\"atoms\":[92,220],\"order\":1},{\"atoms\":[97,221],\"order\":1},{\"atoms\":[100,222],\"order\":1},{\"atoms\":[100,223],\"order\":1},{\"atoms\":[101,224],\"order\":1},{\"atoms\":[101,225],\"order\":1},{\"atoms\":[102,226],\"order\":1},{\"atoms\":[105,227],\"order\":1},{\"atoms\":[108,228],\"order\":1},{\"atoms\":[108,229],\"order\":1},{\"atoms\":[109,230],\"order\":1},{\"atoms\":[111,231],\"order\":1},{\"atoms\":[113,232],\"order\":1},{\"atoms\":[115,233],\"order\":1},{\"atoms\":[115,234],\"order\":1},{\"atoms\":[115,235],\"order\":1},{\"atoms\":[118,236],\"order\":1},{\"atoms\":[121,237],\"order\":1},{\"atoms\":[121,238],\"order\":1},{\"atoms\":[122,239],\"order\":1},{\"atoms\":[125,240],\"order\":1},{\"atoms\":[128,241],\"order\":1},{\"atoms\":[128,242],\"order\":1},{\"atoms\":[129,243],\"order\":1},{\"atoms\":[131,244],\"order\":1},{\"atoms\":[133,245],\"order\":1},{\"atoms\":[138,246],\"order\":1},{\"atoms\":[141,247],\"order\":1},{\"atoms\":[141,248],\"order\":1},{\"atoms\":[142,249],\"order\":1},{\"atoms\":[142,250],\"order\":1},{\"atoms\":[143,251],\"order\":1},{\"atoms\":[146,252],\"order\":1},{\"atoms\":[149,253],\"order\":1},{\"atoms\":[149,254],\"order\":1},{\"atoms\":[150,255],\"order\":1},{\"atoms\":[152,256],\"order\":1},{\"atoms\":[154,257],\"order\":1},{\"atoms\":[156,258],\"order\":1},{\"atoms\":[156,259],\"order\":1},{\"atoms\":[156,260],\"order\":1},{\"atoms\":[159,261],\"order\":1},{\"atoms\":[162,262],\"order\":1},{\"atoms\":[162,263],\"order\":1},{\"atoms\":[163,264],\"order\":1},{\"atoms\":[164,265],\"order\":1}],\"formula\":\"C79H101N29O49P8\",\"molecular_weight\":2488.6022279999947,\"units\":{\"molecular_weight\":\"g / mol\"}});\n",
       "\n",
       "               $d.resizable({\n",
       "                   aspectRatio: 400 / 300,\n",
       "                   resize: function (evt, ui) {\n",
       "                       $d.imolecule.renderer.setSize(ui.size.width,\n",
       "                                                     ui.size.height);\n",
       "                   }\n",
       "               });\n",
       "           });\n",
       "           </script>"
      ],
      "text/plain": [
       "<pybel.Molecule at 0x7f51b0017f60>"
      ]
     },
     "execution_count": 44,
     "metadata": {},
     "output_type": "execute_result"
    }
   ],
   "source": [
    "mol.make3D()\n",
    "pybel.ipython_3d = True\n",
    "mol"
   ]
  },
  {
   "cell_type": "code",
   "execution_count": 50,
   "metadata": {
    "collapsed": true
   },
   "outputs": [],
   "source": [
    "pybel.ipython_3d = False"
   ]
  },
  {
   "cell_type": "markdown",
   "metadata": {},
   "source": [
    "## 5. Super estructuras Macromoleculares"
   ]
  },
  {
   "cell_type": "markdown",
   "metadata": {},
   "source": [
    "### 5.1. Proteina"
   ]
  },
  {
   "cell_type": "code",
   "execution_count": 46,
   "metadata": {},
   "outputs": [
    {
     "data": {
      "text/html": [
       "<div id=\"3dmolviewer_1498669117893986\"  style=\"position: relative; width: 640px; height: 480px\">\n",
       "<script>\n",
       "if(typeof $3Dmolpromise === 'undefined') $3Dmolpromise = $.when($.getScript('https://3dmol.csb.pitt.edu/build/3Dmol.js'))\n",
       "var viewer_1498669117893986 = null;\n",
       "$3Dmolpromise.done(function() {\n",
       "viewer_1498669117893986 = $3Dmol.createViewer($(\"#3dmolviewer_1498669117893986\"),{backgroundColor:\"white\"});\n",
       "$3Dmol.download(\"pdb:1hvr\", viewer_1498669117893986, {}, function() {\n",
       "\tviewer_1498669117893986.setStyle({\"stick\": {\"color\": \"spectrum\"}});\n",
       "viewer_1498669117893986.render();\n",
       "})\n",
       "});\n",
       "</script>"
      ],
      "text/plain": [
       "<py3Dmol.view at 0x7f517fe5e0b8>"
      ]
     },
     "execution_count": 46,
     "metadata": {},
     "output_type": "execute_result"
    }
   ],
   "source": [
    "#cartoon, stick, sphere\n",
    "view = py3Dmol.view(query = 'pdb:1hvr')\n",
    "view.setStyle({'stick':{'color':'spectrum'}})\n",
    "view"
   ]
  },
  {
   "cell_type": "markdown",
   "metadata": {},
   "source": [
    "### 5.2. Complejo Proteina ADN"
   ]
  },
  {
   "cell_type": "code",
   "execution_count": 48,
   "metadata": {},
   "outputs": [
    {
     "data": {
      "text/html": [
       "<div id=\"3dmolviewer_14986691643444092\"  style=\"position: relative; width: 640px; height: 480px\">\n",
       "<script>\n",
       "if(typeof $3Dmolpromise === 'undefined') $3Dmolpromise = $.when($.getScript('https://3dmol.csb.pitt.edu/build/3Dmol.js'))\n",
       "var viewer_14986691643444092 = null;\n",
       "$3Dmolpromise.done(function() {\n",
       "viewer_14986691643444092 = $3Dmol.createViewer($(\"#3dmolviewer_14986691643444092\"),{backgroundColor:\"white\"});\n",
       "$3Dmol.download(\"pdb:3hvr\", viewer_14986691643444092, {}, function() {\n",
       "\tviewer_14986691643444092.setStyle({\"cartoon\": {\"color\": \"spectrum\"}});\n",
       "viewer_14986691643444092.render();\n",
       "})\n",
       "});\n",
       "</script>"
      ],
      "text/plain": [
       "<py3Dmol.view at 0x7f517fe5eef0>"
      ]
     },
     "execution_count": 48,
     "metadata": {},
     "output_type": "execute_result"
    }
   ],
   "source": [
    "view = py3Dmol.view(query = 'pdb:3hvr')\n",
    "view.setStyle({'cartoon':{'color':'spectrum'}})\n",
    "view"
   ]
  },
  {
   "cell_type": "markdown",
   "metadata": {},
   "source": [
    "## 6. Estereoquímica"
   ]
  },
  {
   "cell_type": "markdown",
   "metadata": {},
   "source": [
    "En ciertas moleculas algunos atomos de carbono tienen 4 grupos distintos enlazados a él, estos carbonos se llaman estereocentros y pueden poseer dos conformaciones L o D de acuerdo a la posicion de estos grupos."
   ]
  },
  {
   "cell_type": "code",
   "execution_count": 51,
   "metadata": {},
   "outputs": [
    {
     "data": {
      "text/html": [
       "<div id=\"molecule_1c8d0b05-4535-4b28-a377-28dc80ddc3ec\"></div>\n",
       "           <script type=\"text/javascript\">\n",
       "           require.config({baseUrl: '/',\n",
       "                           paths: {imolecule: ['nbextensions/imolecule.min', 'https://rawgit.com/patrickfuller/imolecule/master/imolecule/js/build/imolecule.min']}});\n",
       "           require(['imolecule'], function () {\n",
       "               var $d = $('#molecule_1c8d0b05-4535-4b28-a377-28dc80ddc3ec');\n",
       "               $d.width(400); $d.height(300);\n",
       "               $d.imolecule = jQuery.extend({}, imolecule);\n",
       "               $d.imolecule.create($d, {drawingType: 'ball and stick',\n",
       "                                        cameraType: 'perspective',\n",
       "                                        shader: 'lambert',\n",
       "                                        showSave: false});\n",
       "               $d.imolecule.addElements({});\n",
       "               $d.imolecule.draw({\"atoms\":[{\"charge\":0.24770586310320705,\"element\":\"C\",\"location\":[-0.19788634121434034,0.12818318441594315,-0.04199473844896516]},{\"charge\":-0.06431005756488631,\"element\":\"Cl\",\"location\":[-0.742457224922504,-0.9796486403097615,-1.3011882031902533]},{\"charge\":-0.02402209655650125,\"element\":\"Br\",\"location\":[-0.8179803338047796,-0.5047170499269142,1.6817436440387237]},{\"charge\":-0.015011009844771049,\"element\":\"I\",\"location\":[-0.8986470107262747,2.036220007311331,-0.4066560985594754]},{\"charge\":-0.35759870071097005,\"element\":\"O\",\"location\":[1.2139731751294156,0.12622129610029292,-0.03544349895878089]},{\"charge\":0.21323600157392159,\"element\":\"H\",\"location\":[1.4429977355384835,-0.8062587975908913,0.10353889511875078]}],\"bonds\":[{\"atoms\":[0,1],\"order\":1},{\"atoms\":[0,2],\"order\":1},{\"atoms\":[0,3],\"order\":1},{\"atoms\":[0,4],\"order\":1},{\"atoms\":[4,5],\"order\":1}],\"formula\":\"CHBrClIO\",\"molecular_weight\":271.27951,\"units\":{\"molecular_weight\":\"g / mol\"}});\n",
       "\n",
       "               $d.resizable({\n",
       "                   aspectRatio: 400 / 300,\n",
       "                   resize: function (evt, ui) {\n",
       "                       $d.imolecule.renderer.setSize(ui.size.width,\n",
       "                                                     ui.size.height);\n",
       "                   }\n",
       "               });\n",
       "           });\n",
       "           </script>"
      ],
      "text/plain": [
       "<pybel.Molecule at 0x7f517fe5eda0>"
      ]
     },
     "execution_count": 51,
     "metadata": {},
     "output_type": "execute_result"
    }
   ],
   "source": [
    "mol = rs(\"smi\",\"[C@](Cl)(Br)(I)O\")\n",
    "mol.make3D()\n",
    "pybel.ipython_3d = True\n",
    "mol"
   ]
  },
  {
   "cell_type": "code",
   "execution_count": 52,
   "metadata": {
    "collapsed": true
   },
   "outputs": [],
   "source": [
    "pybel.ipython_3d = False"
   ]
  },
  {
   "cell_type": "code",
   "execution_count": 53,
   "metadata": {},
   "outputs": [
    {
     "data": {
      "text/html": [
       "<div id=\"molecule_c9add722-abcd-4879-acc9-67c7d1844b32\"></div>\n",
       "           <script type=\"text/javascript\">\n",
       "           require.config({baseUrl: '/',\n",
       "                           paths: {imolecule: ['nbextensions/imolecule.min', 'https://rawgit.com/patrickfuller/imolecule/master/imolecule/js/build/imolecule.min']}});\n",
       "           require(['imolecule'], function () {\n",
       "               var $d = $('#molecule_c9add722-abcd-4879-acc9-67c7d1844b32');\n",
       "               $d.width(400); $d.height(300);\n",
       "               $d.imolecule = jQuery.extend({}, imolecule);\n",
       "               $d.imolecule.create($d, {drawingType: 'ball and stick',\n",
       "                                        cameraType: 'perspective',\n",
       "                                        shader: 'lambert',\n",
       "                                        showSave: false});\n",
       "               $d.imolecule.addElements({});\n",
       "               $d.imolecule.draw({\"atoms\":[{\"charge\":0.24770586310320708,\"element\":\"C\",\"location\":[-0.2001674862075662,0.15778177482654918,-0.12214189987417909]},{\"charge\":-0.06431005756488632,\"element\":\"Cl\",\"location\":[-0.7923206788273793,1.4055089096798468,-1.2117725965822888]},{\"charge\":-0.024022096556501272,\"element\":\"Br\",\"location\":[-0.8083187393423616,0.5060166686886809,1.6848599783571911]},{\"charge\":-0.01501100984477107,\"element\":\"I\",\"location\":[-0.8674309508441493,-1.7072437715619426,-0.7352416968417546]},{\"charge\":-0.35759870071097005,\"element\":\"O\",\"location\":[1.212254164558128,0.1612879064989038,-0.12884798363246255]},{\"charge\":0.21323600157392159,\"element\":\"H\",\"location\":[1.4559836906633283,-0.523351488132038,0.5131441985734938]}],\"bonds\":[{\"atoms\":[0,3],\"order\":1},{\"atoms\":[0,4],\"order\":1},{\"atoms\":[0,2],\"order\":1},{\"atoms\":[0,1],\"order\":1},{\"atoms\":[4,5],\"order\":1}],\"formula\":\"CHBrClIO\",\"molecular_weight\":271.27951,\"units\":{\"molecular_weight\":\"g / mol\"}});\n",
       "\n",
       "               $d.resizable({\n",
       "                   aspectRatio: 400 / 300,\n",
       "                   resize: function (evt, ui) {\n",
       "                       $d.imolecule.renderer.setSize(ui.size.width,\n",
       "                                                     ui.size.height);\n",
       "                   }\n",
       "               });\n",
       "           });\n",
       "           </script>"
      ],
      "text/plain": [
       "<pybel.Molecule at 0x7f517fe5ec88>"
      ]
     },
     "execution_count": 53,
     "metadata": {},
     "output_type": "execute_result"
    }
   ],
   "source": [
    "mol=rs(\"smi\",\"[C@@](Cl)(Br)(I)O\")\n",
    "mol.make3D()\n",
    "pybel.ipython_3d = True\n",
    "mol"
   ]
  },
  {
   "cell_type": "code",
   "execution_count": 55,
   "metadata": {
    "collapsed": true
   },
   "outputs": [],
   "source": [
    "pybel.ipython_3d = False"
   ]
  },
  {
   "cell_type": "markdown",
   "metadata": {},
   "source": [
    "## 7. Conclusiones"
   ]
  },
  {
   "cell_type": "markdown",
   "metadata": {
    "collapsed": true
   },
   "source": [
    "Los resultados obtenidos muestran de una manera interactiva un tema complejo, transformándolo en un <strong>aprendizaje visual y divertido</strong>. Además, la flexibilidad de Python y sus paquetes adicionales permiten <strong>ampliar los horizontes de la investigación científica</strong>.\n",
    "\n",
    "Por lo tanto, el uso de la Ciencia de la Computacion en conjunto con la Teoria Científica generan <strong>herramientas para un mejor aprendizaje y comprension</strong> de las materias. \n",
    "\n",
    "Finalmente, los estudiantes responsables de esta investigación nunca más volverán a ver la Química y la Computación de la misma manera."
   ]
  },
  {
   "cell_type": "markdown",
   "metadata": {},
   "source": [
    "## 8. ¡A probar!"
   ]
  },
  {
   "cell_type": "code",
   "execution_count": 56,
   "metadata": {},
   "outputs": [
    {
     "data": {
      "image/svg+xml": [
       "<svg xmlns=\"http://www.w3.org/2000/svg\" font-family=\"sans-serif\" height=\"100\" stroke=\"rgb(0,0,0)\" stroke-linecap=\"round\" stroke-width=\"2\" viewBox=\"0 0 440.118 340\" width=\"100\" x=\"0\" y=\"0\">\n",
       "<line stroke=\"rgb(0,0,0)\" stroke-width=\"2.0\" x1=\"335.8\" x2=\"362.2\" y1=\"125.5\" y2=\"119.9\" />\n",
       "<line stroke=\"rgb(0,0,0)\" stroke-width=\"2.0\" x1=\"362.2\" x2=\"389.0\" y1=\"119.9\" y2=\"149.6\" />\n",
       "<line stroke=\"rgb(0,0,0)\" stroke-width=\"2.0\" x1=\"389.0\" x2=\"376.6\" y1=\"149.6\" y2=\"187.6\" />\n",
       "<line stroke=\"rgb(0,0,0)\" stroke-width=\"2.0\" x1=\"306.9\" x2=\"306.9\" y1=\"260.0\" y2=\"287.0\" />\n",
       "<line stroke=\"rgb(0,0,0)\" stroke-width=\"2.0\" x1=\"300.9\" x2=\"300.9\" y1=\"260.0\" y2=\"287.0\" />\n",
       "<line stroke=\"rgb(0,0,0)\" stroke-width=\"2.0\" x1=\"269.3\" x2=\"234.6\" y1=\"200.0\" y2=\"180.0\" />\n",
       "<line stroke=\"rgb(0,0,0)\" stroke-width=\"2.0\" x1=\"200.0\" x2=\"200.0\" y1=\"120.0\" y2=\"93.0\" />\n",
       "<line stroke=\"rgb(0,0,0)\" stroke-width=\"2.0\" x1=\"213.0\" x2=\"227.0\" y1=\"77.0\" y2=\"77.0\" />\n",
       "<line stroke=\"rgb(0,0,0)\" stroke-width=\"2.0\" x1=\"213.0\" x2=\"227.0\" y1=\"83.0\" y2=\"83.0\" />\n",
       "<line stroke=\"rgb(0,0,0)\" stroke-width=\"2.0\" x1=\"197.0\" x2=\"197.0\" y1=\"67.0\" y2=\"53.0\" />\n",
       "<line stroke=\"rgb(0,0,0)\" stroke-width=\"2.0\" x1=\"203.0\" x2=\"203.0\" y1=\"67.0\" y2=\"53.0\" />\n",
       "<line stroke=\"rgb(0,0,0)\" stroke-width=\"2.0\" x1=\"187.0\" x2=\"173.0\" y1=\"80.0\" y2=\"80.0\" />\n",
       "<line stroke=\"rgb(0,0,0)\" stroke-width=\"2.0\" x1=\"67.0\" x2=\"53.0\" y1=\"80.0\" y2=\"80.0\" />\n",
       "<line stroke=\"rgb(0,0,0)\" stroke-width=\"2.0\" x1=\"200.0\" x2=\"200.0\" y1=\"200.0\" y2=\"227.0\" />\n",
       "<line stroke=\"rgb(0,0,0)\" stroke-width=\"2.0\" x1=\"188.7\" x2=\"165.4\" y1=\"246.5\" y2=\"260.0\" />\n",
       "<line stroke=\"rgb(0,0,0)\" stroke-width=\"2.0\" x1=\"165.4\" x2=\"142.0\" y1=\"260.0\" y2=\"246.5\" />\n",
       "<line stroke=\"rgb(0,0,0)\" stroke-width=\"2.0\" x1=\"380.6\" x2=\"384.9\" y1=\"264.7\" y2=\"278.0\" />\n",
       "<line stroke=\"rgb(0,0,0)\" stroke-width=\"2.0\" x1=\"364.2\" x2=\"338.6\" y1=\"248.3\" y2=\"240.0\" />\n",
       "<line stroke=\"rgb(0,0,0)\" stroke-width=\"2.0\" x1=\"338.6\" x2=\"338.6\" y1=\"240.0\" y2=\"200.0\" />\n",
       "<line stroke=\"rgb(0,0,0)\" stroke-width=\"2.0\" x1=\"345.8\" x2=\"345.8\" y1=\"234.0\" y2=\"206.0\" />\n",
       "<line stroke=\"rgb(0,0,0)\" stroke-width=\"2.0\" x1=\"338.6\" x2=\"376.6\" y1=\"200.0\" y2=\"187.6\" />\n",
       "<line stroke=\"rgb(0,0,0)\" stroke-width=\"2.0\" x1=\"376.6\" x2=\"392.4\" y1=\"187.6\" y2=\"209.3\" />\n",
       "<line stroke=\"rgb(0,0,0)\" stroke-width=\"2.0\" x1=\"374.3\" x2=\"385.4\" y1=\"196.7\" y2=\"211.9\" />\n",
       "<line stroke=\"rgb(0,0,0)\" stroke-width=\"2.0\" x1=\"392.5\" x2=\"384.2\" y1=\"230.5\" y2=\"241.8\" />\n",
       "<line stroke=\"rgb(0,0,0)\" stroke-width=\"2.0\" x1=\"269.3\" x2=\"269.3\" y1=\"227.0\" y2=\"200.0\" />\n",
       "<line stroke=\"rgb(0,0,0)\" stroke-width=\"2.0\" x1=\"269.3\" x2=\"292.5\" y1=\"200.0\" y2=\"186.6\" />\n",
       "<line stroke=\"rgb(0,0,0)\" stroke-width=\"2.0\" x1=\"278.1\" x2=\"294.4\" y1=\"203.2\" y2=\"193.8\" />\n",
       "<line stroke=\"rgb(0,0,0)\" stroke-width=\"2.0\" x1=\"315.2\" x2=\"338.6\" y1=\"186.5\" y2=\"200.0\" />\n",
       "<line stroke=\"rgb(0,0,0)\" stroke-width=\"2.0\" x1=\"338.6\" x2=\"303.9\" y1=\"240.0\" y2=\"260.0\" />\n",
       "<line stroke=\"rgb(0,0,0)\" stroke-width=\"2.0\" x1=\"303.9\" x2=\"280.5\" y1=\"260.0\" y2=\"246.5\" />\n",
       "<line stroke=\"rgb(0,0,0)\" stroke-width=\"2.0\" x1=\"165.4\" x2=\"165.4\" y1=\"180.0\" y2=\"140.0\" />\n",
       "<line stroke=\"rgb(0,0,0)\" stroke-width=\"2.0\" x1=\"172.6\" x2=\"172.6\" y1=\"174.0\" y2=\"146.0\" />\n",
       "<line stroke=\"rgb(0,0,0)\" stroke-width=\"2.0\" x1=\"165.4\" x2=\"200.0\" y1=\"140.0\" y2=\"120.0\" />\n",
       "<line stroke=\"rgb(0,0,0)\" stroke-width=\"2.0\" x1=\"200.0\" x2=\"234.6\" y1=\"120.0\" y2=\"140.0\" />\n",
       "<line stroke=\"rgb(0,0,0)\" stroke-width=\"2.0\" x1=\"201.6\" x2=\"225.8\" y1=\"129.2\" y2=\"143.2\" />\n",
       "<line stroke=\"rgb(0,0,0)\" stroke-width=\"2.0\" x1=\"234.6\" x2=\"234.6\" y1=\"140.0\" y2=\"180.0\" />\n",
       "<line stroke=\"rgb(0,0,0)\" stroke-width=\"2.0\" x1=\"234.6\" x2=\"200.0\" y1=\"180.0\" y2=\"200.0\" />\n",
       "<line stroke=\"rgb(0,0,0)\" stroke-width=\"2.0\" x1=\"225.8\" x2=\"201.6\" y1=\"176.8\" y2=\"190.8\" />\n",
       "<line stroke=\"rgb(0,0,0)\" stroke-width=\"2.0\" x1=\"200.0\" x2=\"165.4\" y1=\"200.0\" y2=\"180.0\" />\n",
       "<line stroke=\"rgb(0,0,0)\" stroke-width=\"2.0\" x1=\"100.0\" x2=\"86.5\" y1=\"114.6\" y2=\"91.3\" />\n",
       "<line stroke=\"rgb(0,0,0)\" stroke-width=\"2.0\" x1=\"86.5\" x2=\"100.0\" y1=\"68.7\" y2=\"45.4\" />\n",
       "<line stroke=\"rgb(0,0,0)\" stroke-width=\"2.0\" x1=\"100.0\" x2=\"140.0\" y1=\"45.4\" y2=\"45.4\" />\n",
       "<line stroke=\"rgb(0,0,0)\" stroke-width=\"2.0\" x1=\"140.0\" x2=\"153.5\" y1=\"45.4\" y2=\"68.7\" />\n",
       "<line stroke=\"rgb(0,0,0)\" stroke-width=\"2.0\" x1=\"153.5\" x2=\"140.0\" y1=\"91.3\" y2=\"114.6\" />\n",
       "<line stroke=\"rgb(0,0,0)\" stroke-width=\"2.0\" x1=\"140.0\" x2=\"100.0\" y1=\"114.6\" y2=\"114.6\" />\n",
       "<text fill=\"rgb(12,12,255)\" font-size=\"16\" stroke=\"rgb(12,12,255)\" stroke-width=\"1\" x=\"74.000000\" y=\"88.000000\">N</text>\n",
       "<text fill=\"rgb(178,178,0)\" font-size=\"16\" stroke=\"rgb(178,178,0)\" stroke-width=\"1\" x=\"194.000000\" y=\"88.000000\">S</text>\n",
       "<text fill=\"rgb(255,12,12)\" font-size=\"16\" stroke=\"rgb(255,12,12)\" stroke-width=\"1\" x=\"234.000000\" y=\"88.000000\">O</text>\n",
       "<text fill=\"rgb(255,12,12)\" font-size=\"16\" stroke=\"rgb(255,12,12)\" stroke-width=\"1\" x=\"194.000000\" y=\"48.000000\">O</text>\n",
       "<text fill=\"rgb(12,12,255)\" font-size=\"16\" stroke=\"rgb(12,12,255)\" stroke-width=\"1\" x=\"154.000000\" y=\"88.000000\">N</text>\n",
       "<text fill=\"rgb(102,102,102)\" font-size=\"16\" stroke=\"rgb(102,102,102)\" stroke-width=\"1\" x=\"14.000000\" y=\"88.000000\">H</text>\n",
       "<text fill=\"rgb(102,102,102)\" font-size=\"13\" stroke=\"rgb(102,102,102)\" stroke-width=\"1\" x=\"26.000000\" y=\"91.680000\">3</text>\n",
       "<text fill=\"rgb(102,102,102)\" font-size=\"16\" stroke=\"rgb(102,102,102)\" stroke-width=\"1\" x=\"32.500000\" y=\"88.000000\">C</text>\n",
       "<text fill=\"rgb(255,12,12)\" font-size=\"16\" stroke=\"rgb(255,12,12)\" stroke-width=\"1\" x=\"194.000000\" y=\"248.000000\">O</text>\n",
       "<text fill=\"rgb(102,102,102)\" font-size=\"16\" stroke=\"rgb(102,102,102)\" stroke-width=\"1\" x=\"104.717968\" y=\"248.000000\">H</text>\n",
       "<text fill=\"rgb(102,102,102)\" font-size=\"13\" stroke=\"rgb(102,102,102)\" stroke-width=\"1\" x=\"116.717968\" y=\"251.680000\">3</text>\n",
       "<text fill=\"rgb(102,102,102)\" font-size=\"16\" stroke=\"rgb(102,102,102)\" stroke-width=\"1\" x=\"123.217968\" y=\"248.000000\">C</text>\n",
       "<text fill=\"rgb(102,102,102)\" font-size=\"16\" stroke=\"rgb(102,102,102)\" stroke-width=\"1\" x=\"384.967005\" y=\"298.402940\">CH</text>\n",
       "<text fill=\"rgb(102,102,102)\" font-size=\"13\" stroke=\"rgb(102,102,102)\" stroke-width=\"1\" x=\"408.967005\" y=\"302.082940\">3</text>\n",
       "<text fill=\"rgb(102,102,102)\" font-size=\"16\" stroke=\"rgb(102,102,102)\" stroke-width=\"1\" x=\"297.075877\" y=\"136.187734\">H</text>\n",
       "<text fill=\"rgb(102,102,102)\" font-size=\"13\" stroke=\"rgb(102,102,102)\" stroke-width=\"1\" x=\"309.075877\" y=\"139.867734\">3</text>\n",
       "<text fill=\"rgb(102,102,102)\" font-size=\"16\" stroke=\"rgb(102,102,102)\" stroke-width=\"1\" x=\"315.575877\" y=\"136.187734\">C</text>\n",
       "<text fill=\"rgb(255,12,12)\" font-size=\"16\" stroke=\"rgb(255,12,12)\" stroke-width=\"1\" x=\"297.923048\" y=\"308.000000\">O</text>\n",
       "<text fill=\"rgb(12,12,255)\" font-size=\"16\" stroke=\"rgb(12,12,255)\" stroke-width=\"1\" x=\"251.282032\" y=\"248.000000\">HN</text>\n",
       "<text fill=\"rgb(12,12,255)\" font-size=\"16\" stroke=\"rgb(12,12,255)\" stroke-width=\"1\" x=\"297.923048\" y=\"188.000000\">N</text>\n",
       "<text fill=\"rgb(12,12,255)\" font-size=\"16\" stroke=\"rgb(12,12,255)\" stroke-width=\"1\" x=\"370.606325\" y=\"260.360680\">N</text>\n",
       "<text fill=\"rgb(12,12,255)\" font-size=\"16\" stroke=\"rgb(12,12,255)\" stroke-width=\"1\" x=\"394.117735\" y=\"228.000000\">N</text>\n",
       "</svg>\n"
      ],
      "text/plain": [
       "<pybel.Molecule at 0x7f517fe5e2e8>"
      ]
     },
     "execution_count": 56,
     "metadata": {},
     "output_type": "execute_result"
    }
   ],
   "source": [
    "mol = rs(\"smi\", \"CCCC1=NN(C2=C1N=C(NC2=O)C3=C(C=CC(=C3)S(=O)(=O)N4CCN(CC4)C)OCC)C\")\n",
    "mol"
   ]
  },
  {
   "cell_type": "code",
   "execution_count": 59,
   "metadata": {},
   "outputs": [
    {
     "data": {
      "text/html": [
       "<div id=\"molecule_10100551-b6b8-47f3-84e4-5fdfded54c15\"></div>\n",
       "           <script type=\"text/javascript\">\n",
       "           require.config({baseUrl: '/',\n",
       "                           paths: {imolecule: ['nbextensions/imolecule.min', 'https://rawgit.com/patrickfuller/imolecule/master/imolecule/js/build/imolecule.min']}});\n",
       "           require(['imolecule'], function () {\n",
       "               var $d = $('#molecule_10100551-b6b8-47f3-84e4-5fdfded54c15');\n",
       "               $d.width(400); $d.height(300);\n",
       "               $d.imolecule = jQuery.extend({}, imolecule);\n",
       "               $d.imolecule.create($d, {drawingType: 'ball and stick',\n",
       "                                        cameraType: 'perspective',\n",
       "                                        shader: 'lambert',\n",
       "                                        showSave: false});\n",
       "               $d.imolecule.addElements({});\n",
       "               $d.imolecule.draw({\"atoms\":[{\"charge\":-0.06493153550523943,\"element\":\"C\",\"location\":[0.4917479109066178,2.220326545318983,2.9908473973398504]},{\"charge\":-0.05036793926908955,\"element\":\"C\",\"location\":[0.03784485392541653,3.665474857991845,3.0577457580121883]},{\"charge\":-0.006819653647255018,\"element\":\"C\",\"location\":[0.5422562794343793,4.5598796289440555,1.9008897700293246]},{\"charge\":0.08913061102383402,\"element\":\"C\",\"location\":[0.12214992580452338,4.149072043141406,0.514755094767775]},{\"charge\":-0.1735689636474414,\"element\":\"N\",\"location\":[-0.4485641711056441,5.013895914468683,-0.3562686510479911]},{\"charge\":-0.2598080572188289,\"element\":\"N\",\"location\":[-0.6618276882647923,4.263475795390637,-1.4799453820181965]},{\"charge\":0.15130342806935584,\"element\":\"C\",\"location\":[-0.30201048367391214,2.9585283935449658,-1.3172101315595928]},{\"charge\":0.11924092336181268,\"element\":\"C\",\"location\":[0.2988480937181088,2.8945032322109396,-0.09930760812468664]},{\"charge\":-0.22543907562534538,\"element\":\"N\",\"location\":[0.8758549662282755,1.7307149680770717,0.4159408174200592]},{\"charge\":0.14518619501281332,\"element\":\"C\",\"location\":[0.6145894848518132,0.6275872525040098,-0.20923997765882696]},{\"charge\":-0.30507627268279974,\"element\":\"N\",\"location\":[0.01482275303582925,0.6636396377111602,-1.4755410598930068]},{\"charge\":0.2775171696822734,\"element\":\"C\",\"location\":[-0.4208956844267282,1.8105954360520635,-2.124173825659546]},{\"charge\":-0.2654763599080081,\"element\":\"O\",\"location\":[-0.8890716652220957,1.8011763593841597,-3.275062618036925]},{\"charge\":0.06079284244286474,\"element\":\"C\",\"location\":[0.9698943625133063,-0.7507343107602931,0.40699856653298694]},{\"charge\":0.13120076775798412,\"element\":\"C\",\"location\":[2.0828129154434643,-1.0600723200560145,1.1408529527209934]},{\"charge\":-0.017384197469474668,\"element\":\"C\",\"location\":[2.289953751324312,-2.413070109383034,1.5686885380439528]},{\"charge\":-0.03185276626002933,\"element\":\"C\",\"location\":[1.4641795201440782,-3.4701053848263386,1.1687179240383614]},{\"charge\":0.10637554902297071,\"element\":\"C\",\"location\":[0.29734658098723493,-3.1332438405713225,0.5484848539950251]},{\"charge\":-0.021181174165159834,\"element\":\"C\",\"location\":[0.02624240958758306,-1.7473220759052421,0.5871428699264185]},{\"charge\":0.060950667742223436,\"element\":\"S\",\"location\":[-0.7124228423168573,-4.506303309945958,-0.189480014614408]},{\"charge\":-0.1528453538892599,\"element\":\"O\",\"location\":[0.20294543543113214,-5.236132161756695,-1.0489155703941502]},{\"charge\":-0.1528453538892599,\"element\":\"O\",\"location\":[-1.3378637624676009,-5.157211226975869,0.9417035235646878]},{\"charge\":-0.1741490982524934,\"element\":\"N\",\"location\":[-2.004582391842651,-3.983654268206586,-1.2502656184863894]},{\"charge\":0.03329071279122156,\"element\":\"C\",\"location\":[-1.6634206415063626,-3.7630675260637703,-2.722940701433898]},{\"charge\":0.013071725314961095,\"element\":\"C\",\"location\":[-0.7908830592969784,-2.5176496935862587,-2.9265594212902313]},{\"charge\":-0.30280826246530207,\"element\":\"N\",\"location\":[-1.4637265216201834,-1.3082433270107003,-2.3840774742835658]},{\"charge\":0.013071725314961095,\"element\":\"C\",\"location\":[-2.0732846284748785,-1.6133970381819358,-1.0963689864870494]},{\"charge\":0.03329071279122156,\"element\":\"C\",\"location\":[-2.848537999266214,-2.863206847851052,-0.7385109713004363]},{\"charge\":-0.012667831772595953,\"element\":\"C\",\"location\":[-2.560062988134654,-0.7510911978230386,-3.1277986771485873]},{\"charge\":-0.4915242773381787,\"element\":\"O\",\"location\":[2.837250356770672,0.00838741077656735,1.5048665505392436]},{\"charge\":0.08680521928221699,\"element\":\"C\",\"location\":[3.9180479430719384,-0.25077861601038043,2.373458281136376]},{\"charge\":-0.030683568858159455,\"element\":\"C\",\"location\":[3.4521608128078647,-0.599176734295924,3.782169350928971]},{\"charge\":0.031120140248834142,\"element\":\"C\",\"location\":[-1.1601642705065354,4.8900574518560465,-2.684890610814498]},{\"charge\":0.022987358598766258,\"element\":\"H\",\"location\":[-0.13876573724644137,1.7227013378718554,2.2573364898671766]},{\"charge\":0.022987358598766258,\"element\":\"H\",\"location\":[0.3045336404525614,1.6306157017102036,3.8870104432108032]},{\"charge\":0.022987358598766258,\"element\":\"H\",\"location\":[1.559522501103476,2.1538269571847817,2.7452635660524867]},{\"charge\":0.026623719874855505,\"element\":\"H\",\"location\":[-1.0571276954914766,3.6715704113293346,3.0743764529557414]},{\"charge\":0.026623719874855505,\"element\":\"H\",\"location\":[0.3880966694581252,4.075532415815773,4.011381492223394]},{\"charge\":0.032934267241833334,\"element\":\"H\",\"location\":[0.19444658948953858,5.582185491237121,2.104918180002602]},{\"charge\":0.032934267241833334,\"element\":\"H\",\"location\":[1.6385558343011506,4.599765489866551,1.9233481422348946]},{\"charge\":0.17041956380071116,\"element\":\"H\",\"location\":[-0.1660713568293708,-0.18603523362233965,-1.99941482649791]},{\"charge\":0.0654776675532524,\"element\":\"H\",\"location\":[3.084091643142451,-2.689978208817824,2.2496624706930484]},{\"charge\":0.06381165187728681,\"element\":\"H\",\"location\":[1.6820771790899345,-4.501074127359349,1.4339140441419562]},{\"charge\":0.06451713841694182,\"element\":\"H\",\"location\":[-0.9631352759560079,-1.3928085083029615,0.8539564650204028]},{\"charge\":0.04564524005848499,\"element\":\"H\",\"location\":[-1.2084702196137902,-4.654125477429501,-3.158535384908146]},{\"charge\":0.04564524005848499,\"element\":\"H\",\"location\":[-2.5999513774662026,-3.596473705633634,-3.27172125657642]},{\"charge\":0.043947397856112236,\"element\":\"H\",\"location\":[0.16508010318761507,-2.6805038796720733,-2.3928963584194642]},{\"charge\":0.043947397856112236,\"element\":\"H\",\"location\":[-0.48666817952385444,-2.347912046374374,-3.9626917118497182]},{\"charge\":0.043947397856112236,\"element\":\"H\",\"location\":[-1.1588840897199675,-2.002780287135819,-0.8123370607283396]},{\"charge\":0.043947397856112236,\"element\":\"H\",\"location\":[-2.3011164246462634,-0.7368022640784013,-0.4822049009384708]},{\"charge\":0.04564524005848499,\"element\":\"H\",\"location\":[-3.8463256530076086,-2.8037188810623728,-1.1696085042080124]},{\"charge\":0.04564524005848499,\"element\":\"H\",\"location\":[-2.9405388129431755,-2.948996769166475,0.3534885360575828]},{\"charge\":0.0390627904818362,\"element\":\"H\",\"location\":[-3.388400680821928,-1.4574347697109595,-3.17116301977602]},{\"charge\":0.0390627904818362,\"element\":\"H\",\"location\":[-2.9082250036311046,0.13282058416889342,-2.5721449784042036]},{\"charge\":0.0390627904818362,\"element\":\"H\",\"location\":[-2.234342639525059,-0.43741521664738503,-4.111367988589924]},{\"charge\":0.06935133182740123,\"element\":\"H\",\"location\":[4.562351426733969,-1.010486397629462,1.9201142339996675]},{\"charge\":0.06935133182740123,\"element\":\"H\",\"location\":[4.496671004217436,0.6756242744878345,2.413208689687975]},{\"charge\":0.02622579042495434,\"element\":\"H\",\"location\":[2.806168269608252,-1.4794680518982855,3.838528628870912]},{\"charge\":0.02622579042495434,\"element\":\"H\",\"location\":[4.316869913947422,-0.7969261966916963,4.415232103085426]},{\"charge\":0.02622579042495434,\"element\":\"H\",\"location\":[2.8414378817727926,0.20693326919542154,4.196162467542895]},{\"charge\":0.04727944076431347,\"element\":\"H\",\"location\":[-2.1165581062536445,5.373803424576565,-2.473442487798823]},{\"charge\":0.04727944076431347,\"element\":\"H\",\"location\":[-0.4229355548413642,5.620795578357569,-3.029648742375957]},{\"charge\":0.04727944076431347,\"element\":\"H\",\"location\":[-1.3040154068479346,4.143910147268827,-3.46743013331983]}],\"bonds\":[{\"atoms\":[0,1],\"order\":1},{\"atoms\":[1,2],\"order\":1},{\"atoms\":[2,3],\"order\":1},{\"atoms\":[3,4],\"order\":2},{\"atoms\":[4,5],\"order\":1},{\"atoms\":[5,6],\"order\":1},{\"atoms\":[6,7],\"order\":2},{\"atoms\":[3,7],\"order\":1},{\"atoms\":[7,8],\"order\":1},{\"atoms\":[8,9],\"order\":2},{\"atoms\":[9,10],\"order\":1},{\"atoms\":[10,11],\"order\":1},{\"atoms\":[6,11],\"order\":1},{\"atoms\":[11,12],\"order\":2},{\"atoms\":[9,13],\"order\":1},{\"atoms\":[13,14],\"order\":2},{\"atoms\":[14,15],\"order\":1},{\"atoms\":[15,16],\"order\":2},{\"atoms\":[16,17],\"order\":1},{\"atoms\":[17,18],\"order\":2},{\"atoms\":[13,18],\"order\":1},{\"atoms\":[17,19],\"order\":1},{\"atoms\":[19,20],\"order\":2},{\"atoms\":[19,21],\"order\":2},{\"atoms\":[19,22],\"order\":1},{\"atoms\":[22,23],\"order\":1},{\"atoms\":[23,24],\"order\":1},{\"atoms\":[24,25],\"order\":1},{\"atoms\":[25,26],\"order\":1},{\"atoms\":[26,27],\"order\":1},{\"atoms\":[22,27],\"order\":1},{\"atoms\":[25,28],\"order\":1},{\"atoms\":[14,29],\"order\":1},{\"atoms\":[29,30],\"order\":1},{\"atoms\":[30,31],\"order\":1},{\"atoms\":[5,32],\"order\":1},{\"atoms\":[0,33],\"order\":1},{\"atoms\":[0,34],\"order\":1},{\"atoms\":[0,35],\"order\":1},{\"atoms\":[1,36],\"order\":1},{\"atoms\":[1,37],\"order\":1},{\"atoms\":[2,38],\"order\":1},{\"atoms\":[2,39],\"order\":1},{\"atoms\":[10,40],\"order\":1},{\"atoms\":[15,41],\"order\":1},{\"atoms\":[16,42],\"order\":1},{\"atoms\":[18,43],\"order\":1},{\"atoms\":[23,44],\"order\":1},{\"atoms\":[23,45],\"order\":1},{\"atoms\":[24,46],\"order\":1},{\"atoms\":[24,47],\"order\":1},{\"atoms\":[26,48],\"order\":1},{\"atoms\":[26,49],\"order\":1},{\"atoms\":[27,50],\"order\":1},{\"atoms\":[27,51],\"order\":1},{\"atoms\":[28,52],\"order\":1},{\"atoms\":[28,53],\"order\":1},{\"atoms\":[28,54],\"order\":1},{\"atoms\":[30,55],\"order\":1},{\"atoms\":[30,56],\"order\":1},{\"atoms\":[31,57],\"order\":1},{\"atoms\":[31,58],\"order\":1},{\"atoms\":[31,59],\"order\":1},{\"atoms\":[32,60],\"order\":1},{\"atoms\":[32,61],\"order\":1},{\"atoms\":[32,62],\"order\":1}],\"formula\":\"C22H30N6O4S\",\"molecular_weight\":474.5764000000004,\"units\":{\"molecular_weight\":\"g / mol\"}});\n",
       "\n",
       "               $d.resizable({\n",
       "                   aspectRatio: 400 / 300,\n",
       "                   resize: function (evt, ui) {\n",
       "                       $d.imolecule.renderer.setSize(ui.size.width,\n",
       "                                                     ui.size.height);\n",
       "                   }\n",
       "               });\n",
       "           });\n",
       "           </script>"
      ],
      "text/plain": [
       "<pybel.Molecule at 0x7f517fe5e2e8>"
      ]
     },
     "execution_count": 59,
     "metadata": {},
     "output_type": "execute_result"
    }
   ],
   "source": [
    "pybel.ipython_3d = True\n",
    "mol.make3D()\n",
    "mol"
   ]
  },
  {
   "cell_type": "code",
   "execution_count": 60,
   "metadata": {
    "collapsed": true
   },
   "outputs": [],
   "source": [
    "pybel.ipython_3d = False"
   ]
  },
  {
   "cell_type": "code",
   "execution_count": null,
   "metadata": {
    "collapsed": true
   },
   "outputs": [],
   "source": []
  }
 ],
 "metadata": {
  "kernelspec": {
   "display_name": "Python 3",
   "language": "python",
   "name": "python3"
  },
  "language_info": {
   "codemirror_mode": {
    "name": "ipython",
    "version": 3
   },
   "file_extension": ".py",
   "mimetype": "text/x-python",
   "name": "python",
   "nbconvert_exporter": "python",
   "pygments_lexer": "ipython3",
   "version": "3.6.1"
  }
 },
 "nbformat": 4,
 "nbformat_minor": 2
}
